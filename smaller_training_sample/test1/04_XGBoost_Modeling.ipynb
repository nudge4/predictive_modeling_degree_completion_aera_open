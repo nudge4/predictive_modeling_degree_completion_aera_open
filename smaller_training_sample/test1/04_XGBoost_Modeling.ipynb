{
 "cells": [
  {
   "cell_type": "code",
   "execution_count": 1,
   "metadata": {
    "collapsed": true
   },
   "outputs": [],
   "source": [
    "import pickle\n",
    "import pandas as pd\n",
    "import numpy as np\n",
    "from sklearn.metrics import precision_recall_curve, roc_auc_score, confusion_matrix, precision_score, recall_score\n",
    "from sklearn.model_selection import KFold, StratifiedKFold, train_test_split\n",
    "from scipy.stats.mstats import gmean\n",
    "import xgboost as xgb\n",
    "from collections import Counter\n",
    "import seaborn as sns\n",
    "import matplotlib.pyplot as plt\n",
    "%matplotlib inline\n",
    "fpath = \"/Users/ys8mz/Box Sync/Predictive Models of College Completion (VCCS)/intermediate_files\""
   ]
  },
  {
   "cell_type": "code",
   "execution_count": 2,
   "metadata": {
    "collapsed": true
   },
   "outputs": [],
   "source": [
    "df = pd.read_stata(fpath + \"/full_data_truncated.dta\")\n",
    "df.loc[:,'available_sum'] = df.loc[:, [p for p in list(df.columns)[10:] if p.startswith(\"available\")]]"
   ]
  },
  {
   "cell_type": "code",
   "execution_count": 3,
   "metadata": {},
   "outputs": [
    {
     "name": "stdout",
     "output_type": "stream",
     "text": [
      "(298139, 342) (33115, 342)\n"
     ]
    }
   ],
   "source": [
    "train_df_old = df[df.valid == 0]\n",
    "test_df = df[df.valid == 1]\n",
    "print(train_df_old.shape,test_df.shape)"
   ]
  },
  {
   "cell_type": "markdown",
   "metadata": {},
   "source": [
    "##### Randomly select 10% observations from the original training sample"
   ]
  },
  {
   "cell_type": "code",
   "execution_count": 4,
   "metadata": {
    "collapsed": true
   },
   "outputs": [],
   "source": [
    "_, train_df = train_test_split(train_df_old, test_size=0.1, stratify=train_df_old['grad_6years'].astype(str)+\"_\"+train_df_old['available_sum'].astype(str), random_state=54321)"
   ]
  },
  {
   "cell_type": "code",
   "execution_count": 6,
   "metadata": {},
   "outputs": [
    {
     "name": "stdout",
     "output_type": "stream",
     "text": [
      "331\n"
     ]
    }
   ],
   "source": [
    "predictors = list(df.columns)[10:-1]\n",
    "print(len(predictors))\n",
    "impute_list_1 = set([\"prop_comp_pre\",\"cum_gpa_pre\"])\n",
    "impute_list_2 = set([t1+\"_\"+t2+str(t3) for t1 in [\"term_gpa\", \"prop_comp\", \"lvl2_prop_comp\", \"dev_prop_comp\"] for t2 in [\"fa\", \"sp\", \"su\"] for t3 in range(1,7,1)])\n",
    "impute_list_3 = set([\"cum_gpa\", \"lvl2_prop_comp\", \"dev_prop_comp\", \"prop_comp\", \"prop_comp_sd\", \"withdrawn_prop_comp_sd\"])\n",
    "impute_list_4 = set([\"admrate\", \"gradrate\", \"satvr25\", \"satvr75\", \"satmt25\", \"satmt75\", \"satwr25\", \"satwr75\"])"
   ]
  },
  {
   "cell_type": "code",
   "execution_count": 7,
   "metadata": {
    "collapsed": true
   },
   "outputs": [],
   "source": [
    "def impute(train, test):\n",
    "    for p in impute_list_1:\n",
    "        avg_p = np.nanmean(train[train.enrolled_pre == 1][p])\n",
    "        train.loc[:,p] = train.loc[:,p].apply(lambda x: avg_p if pd.isnull(x) else x)\n",
    "        test.loc[:,p] = test.loc[:,p].apply(lambda x: avg_p if pd.isnull(x) else x)\n",
    "    for p in impute_list_3:\n",
    "        avg_p = np.nanmean(train[p])\n",
    "        train.loc[:,p] = train.loc[:,p].apply(lambda x: avg_p if pd.isnull(x) else x)\n",
    "        test.loc[:,p] = test.loc[:,p].apply(lambda x: avg_p if pd.isnull(x) else x)\n",
    "    for p in impute_list_2:\n",
    "        suffix = p[-3:]\n",
    "        avg_p = np.nanmean(train[train[\"enrolled_\" + suffix] == 1][p])\n",
    "        train.loc[:,p] = train.loc[:,p].apply(lambda x: avg_p if pd.isnull(x) else x)\n",
    "        test.loc[:,p] = test.loc[:,p].apply(lambda x: avg_p if pd.isnull(x) else x)\n",
    "    for p in impute_list_4:\n",
    "        avg_p = np.nanmean(train[train[\"enrolled_nsc\"] == 1][p])\n",
    "        train.loc[:,p] = train.loc[:,p].apply(lambda x: avg_p if pd.isnull(x) else x)\n",
    "        test.loc[:,p] = test.loc[:,p].apply(lambda x: avg_p if pd.isnull(x) else x)\n",
    "    return train, test "
   ]
  },
  {
   "cell_type": "code",
   "execution_count": 8,
   "metadata": {},
   "outputs": [
    {
     "name": "stderr",
     "output_type": "stream",
     "text": [
      "C:\\Users\\ys8mz\\AppData\\Local\\Continuum\\Anaconda3\\lib\\site-packages\\pandas\\core\\indexing.py:543: SettingWithCopyWarning: \n",
      "A value is trying to be set on a copy of a slice from a DataFrame.\n",
      "Try using .loc[row_indexer,col_indexer] = value instead\n",
      "\n",
      "See the caveats in the documentation: http://pandas.pydata.org/pandas-docs/stable/indexing.html#indexing-view-versus-copy\n",
      "  self.obj[item] = s\n"
     ]
    }
   ],
   "source": [
    "train_df_new, test_df_new = impute(train_df, test_df)\n",
    "X_train = train_df_new.loc[:,predictors]\n",
    "y_train = train_df_new.grad_6years\n",
    "X_test = test_df_new.loc[:,predictors]\n",
    "y_test = test_df_new.grad_6years"
   ]
  },
  {
   "cell_type": "code",
   "execution_count": 9,
   "metadata": {
    "collapsed": true
   },
   "outputs": [],
   "source": [
    "dtrain = xgb.DMatrix(X_train, y_train)\n",
    "dtest = xgb.DMatrix(X_test, y_test)"
   ]
  },
  {
   "cell_type": "code",
   "execution_count": 19,
   "metadata": {},
   "outputs": [
    {
     "name": "stderr",
     "output_type": "stream",
     "text": [
      "C:\\Users\\ys8mz\\AppData\\Local\\Continuum\\Anaconda3\\lib\\site-packages\\pandas\\core\\indexing.py:517: SettingWithCopyWarning: \n",
      "A value is trying to be set on a copy of a slice from a DataFrame.\n",
      "Try using .loc[row_indexer,col_indexer] = value instead\n",
      "\n",
      "See the caveats in the documentation: http://pandas.pydata.org/pandas-docs/stable/indexing.html#indexing-view-versus-copy\n",
      "  self.obj[item] = s\n"
     ]
    }
   ],
   "source": [
    "np.random.seed(4321)\n",
    "val_indices = np.random.choice(train_df.shape[0], int(np.floor(train_df.shape[0]*0.15)), replace=False)\n",
    "train_val = train_df.iloc[val_indices,:]\n",
    "train_train = train_df.iloc[np.setdiff1d(np.arange(train_df.shape[0]), val_indices),:]\n",
    "train_train_new, train_val_new = impute(train_train, train_val)\n",
    "X_train_train = train_train_new.loc[:,predictors]\n",
    "y_train_train = train_train_new.grad_6years\n",
    "X_train_val = train_val_new.loc[:,predictors]\n",
    "y_train_val = train_val_new.grad_6years"
   ]
  },
  {
   "cell_type": "code",
   "execution_count": 20,
   "metadata": {
    "collapsed": true
   },
   "outputs": [],
   "source": [
    "dtrain_train = xgb.DMatrix(X_train_train, y_train_train)\n",
    "dtrain_val = xgb.DMatrix(X_train_val, y_train_val)"
   ]
  },
  {
   "cell_type": "code",
   "execution_count": 10,
   "metadata": {
    "collapsed": true
   },
   "outputs": [],
   "source": [
    "results_dir = \"C:\\\\Users\\\\ys8mz\\\\Box Sync\\\\Predictive Models of College Completion (VCCS)\\\\evaluation_results\\\\smaller_training_sample\\\\test1\\\\\""
   ]
  },
  {
   "cell_type": "markdown",
   "metadata": {},
   "source": [
    "#### (1) Grid Search for max_depth and eta (learning rate)"
   ]
  },
  {
   "cell_type": "code",
   "execution_count": 22,
   "metadata": {},
   "outputs": [
    {
     "name": "stdout",
     "output_type": "stream",
     "text": [
      "max_depth = 4, eta = 0.01:\n",
      "[0]\tvalidation-auc:0.81787\n",
      "Will train until validation-auc hasn't improved in 10 rounds.\n",
      "[50]\tvalidation-auc:0.849962\n",
      "[100]\tvalidation-auc:0.856933\n",
      "[150]\tvalidation-auc:0.861182\n",
      "[200]\tvalidation-auc:0.864424\n",
      "[250]\tvalidation-auc:0.866941\n",
      "[300]\tvalidation-auc:0.868861\n",
      "[350]\tvalidation-auc:0.870855\n",
      "[400]\tvalidation-auc:0.872123\n",
      "[450]\tvalidation-auc:0.873405\n",
      "[500]\tvalidation-auc:0.874295\n",
      "[550]\tvalidation-auc:0.875088\n",
      "[600]\tvalidation-auc:0.875809\n",
      "[650]\tvalidation-auc:0.876272\n",
      "[700]\tvalidation-auc:0.876683\n",
      "[750]\tvalidation-auc:0.877178\n",
      "[800]\tvalidation-auc:0.877584\n",
      "[850]\tvalidation-auc:0.877896\n",
      "[900]\tvalidation-auc:0.878225\n",
      "Stopping. Best iteration:\n",
      "[927]\tvalidation-auc:0.878336\n",
      "\n",
      "\n",
      "max_depth = 4, eta = 0.02:\n",
      "[0]\tvalidation-auc:0.81787\n",
      "Will train until validation-auc hasn't improved in 10 rounds.\n",
      "[50]\tvalidation-auc:0.856907\n",
      "[100]\tvalidation-auc:0.864647\n",
      "[150]\tvalidation-auc:0.869534\n",
      "[200]\tvalidation-auc:0.872763\n",
      "[250]\tvalidation-auc:0.874878\n",
      "[300]\tvalidation-auc:0.876266\n",
      "[350]\tvalidation-auc:0.877197\n",
      "[400]\tvalidation-auc:0.877685\n",
      "[450]\tvalidation-auc:0.878439\n",
      "Stopping. Best iteration:\n",
      "[466]\tvalidation-auc:0.878634\n",
      "\n",
      "\n",
      "max_depth = 4, eta = 0.05:\n",
      "[0]\tvalidation-auc:0.81787\n",
      "Will train until validation-auc hasn't improved in 10 rounds.\n",
      "[50]\tvalidation-auc:0.866223\n",
      "[100]\tvalidation-auc:0.873617\n",
      "[150]\tvalidation-auc:0.876683\n",
      "[200]\tvalidation-auc:0.878285\n",
      "[250]\tvalidation-auc:0.879767\n",
      "Stopping. Best iteration:\n",
      "[250]\tvalidation-auc:0.879767\n",
      "\n",
      "\n",
      "max_depth = 4, eta = 0.1:\n",
      "[0]\tvalidation-auc:0.81787\n",
      "Will train until validation-auc hasn't improved in 10 rounds.\n",
      "[50]\tvalidation-auc:0.874599\n",
      "[100]\tvalidation-auc:0.87851\n",
      "Stopping. Best iteration:\n",
      "[98]\tvalidation-auc:0.878564\n",
      "\n",
      "\n",
      "max_depth = 4, eta = 0.2:\n",
      "[0]\tvalidation-auc:0.81787\n",
      "Will train until validation-auc hasn't improved in 10 rounds.\n",
      "[50]\tvalidation-auc:0.876852\n",
      "Stopping. Best iteration:\n",
      "[48]\tvalidation-auc:0.876995\n",
      "\n",
      "\n",
      "max_depth = 5, eta = 0.01:\n",
      "[0]\tvalidation-auc:0.828772\n",
      "Will train until validation-auc hasn't improved in 10 rounds.\n",
      "[50]\tvalidation-auc:0.858473\n",
      "[100]\tvalidation-auc:0.863545\n",
      "[150]\tvalidation-auc:0.866982\n",
      "[200]\tvalidation-auc:0.869337\n",
      "[250]\tvalidation-auc:0.871233\n",
      "[300]\tvalidation-auc:0.87249\n",
      "[350]\tvalidation-auc:0.873825\n",
      "[400]\tvalidation-auc:0.874948\n",
      "[450]\tvalidation-auc:0.876051\n",
      "[500]\tvalidation-auc:0.876782\n",
      "[550]\tvalidation-auc:0.87743\n",
      "[600]\tvalidation-auc:0.877994\n",
      "[650]\tvalidation-auc:0.878425\n",
      "Stopping. Best iteration:\n",
      "[670]\tvalidation-auc:0.878637\n",
      "\n",
      "\n",
      "max_depth = 5, eta = 0.02:\n",
      "[0]\tvalidation-auc:0.828772\n",
      "Will train until validation-auc hasn't improved in 10 rounds.\n",
      "[50]\tvalidation-auc:0.862836\n",
      "[100]\tvalidation-auc:0.869452\n",
      "[150]\tvalidation-auc:0.873274\n",
      "[200]\tvalidation-auc:0.875632\n",
      "[250]\tvalidation-auc:0.877499\n",
      "[300]\tvalidation-auc:0.878407\n",
      "[350]\tvalidation-auc:0.879078\n",
      "[400]\tvalidation-auc:0.879449\n",
      "Stopping. Best iteration:\n",
      "[395]\tvalidation-auc:0.879495\n",
      "\n",
      "\n",
      "max_depth = 5, eta = 0.05:\n",
      "[0]\tvalidation-auc:0.828772\n",
      "Will train until validation-auc hasn't improved in 10 rounds.\n",
      "[50]\tvalidation-auc:0.871048\n",
      "[100]\tvalidation-auc:0.876778\n",
      "[150]\tvalidation-auc:0.87927\n",
      "Stopping. Best iteration:\n",
      "[163]\tvalidation-auc:0.879682\n",
      "\n",
      "\n",
      "max_depth = 5, eta = 0.1:\n",
      "[0]\tvalidation-auc:0.828772\n",
      "Will train until validation-auc hasn't improved in 10 rounds.\n",
      "[50]\tvalidation-auc:0.875257\n",
      "[100]\tvalidation-auc:0.878841\n",
      "Stopping. Best iteration:\n",
      "[122]\tvalidation-auc:0.879273\n",
      "\n",
      "\n",
      "max_depth = 5, eta = 0.2:\n",
      "[0]\tvalidation-auc:0.828772\n",
      "Will train until validation-auc hasn't improved in 10 rounds.\n",
      "[50]\tvalidation-auc:0.879371\n",
      "Stopping. Best iteration:\n",
      "[81]\tvalidation-auc:0.87995\n",
      "\n",
      "\n",
      "max_depth = 6, eta = 0.01:\n",
      "[0]\tvalidation-auc:0.832407\n",
      "Will train until validation-auc hasn't improved in 10 rounds.\n",
      "[50]\tvalidation-auc:0.863765\n",
      "[100]\tvalidation-auc:0.867969\n",
      "[150]\tvalidation-auc:0.870616\n",
      "[200]\tvalidation-auc:0.872377\n",
      "[250]\tvalidation-auc:0.873748\n",
      "[300]\tvalidation-auc:0.874873\n",
      "[350]\tvalidation-auc:0.876081\n",
      "[400]\tvalidation-auc:0.877209\n",
      "[450]\tvalidation-auc:0.878062\n",
      "[500]\tvalidation-auc:0.878654\n",
      "[550]\tvalidation-auc:0.879272\n",
      "Stopping. Best iteration:\n",
      "[582]\tvalidation-auc:0.879579\n",
      "\n",
      "\n",
      "max_depth = 6, eta = 0.02:\n",
      "[0]\tvalidation-auc:0.832407\n",
      "Will train until validation-auc hasn't improved in 10 rounds.\n",
      "[50]\tvalidation-auc:0.867412\n",
      "[100]\tvalidation-auc:0.87203\n",
      "[150]\tvalidation-auc:0.874872\n",
      "[200]\tvalidation-auc:0.876877\n",
      "[250]\tvalidation-auc:0.878436\n",
      "[300]\tvalidation-auc:0.879277\n",
      "[350]\tvalidation-auc:0.879791\n",
      "Stopping. Best iteration:\n",
      "[375]\tvalidation-auc:0.880031\n",
      "\n",
      "\n",
      "max_depth = 6, eta = 0.05:\n",
      "[0]\tvalidation-auc:0.832407\n",
      "Will train until validation-auc hasn't improved in 10 rounds.\n",
      "[50]\tvalidation-auc:0.873741\n",
      "[100]\tvalidation-auc:0.878078\n",
      "[150]\tvalidation-auc:0.879692\n",
      "Stopping. Best iteration:\n",
      "[160]\tvalidation-auc:0.879851\n",
      "\n",
      "\n",
      "max_depth = 6, eta = 0.1:\n",
      "[0]\tvalidation-auc:0.832407\n",
      "Will train until validation-auc hasn't improved in 10 rounds.\n",
      "[50]\tvalidation-auc:0.876963\n",
      "Stopping. Best iteration:\n",
      "[73]\tvalidation-auc:0.878234\n",
      "\n",
      "\n",
      "max_depth = 6, eta = 0.2:\n",
      "[0]\tvalidation-auc:0.832407\n",
      "Will train until validation-auc hasn't improved in 10 rounds.\n",
      "[50]\tvalidation-auc:0.878136\n",
      "Stopping. Best iteration:\n",
      "[56]\tvalidation-auc:0.878748\n",
      "\n",
      "\n",
      "max_depth = 7, eta = 0.01:\n",
      "[0]\tvalidation-auc:0.83602\n",
      "Will train until validation-auc hasn't improved in 10 rounds.\n",
      "[50]\tvalidation-auc:0.867291\n",
      "[100]\tvalidation-auc:0.870242\n",
      "[150]\tvalidation-auc:0.872917\n",
      "[200]\tvalidation-auc:0.874277\n",
      "[250]\tvalidation-auc:0.875507\n",
      "[300]\tvalidation-auc:0.876456\n",
      "[350]\tvalidation-auc:0.877467\n",
      "[400]\tvalidation-auc:0.878275\n",
      "[450]\tvalidation-auc:0.879017\n",
      "[500]\tvalidation-auc:0.879545\n",
      "[550]\tvalidation-auc:0.879996\n",
      "Stopping. Best iteration:\n",
      "[547]\tvalidation-auc:0.880021\n",
      "\n",
      "\n",
      "max_depth = 7, eta = 0.02:\n",
      "[0]\tvalidation-auc:0.83602\n",
      "Will train until validation-auc hasn't improved in 10 rounds.\n",
      "[50]\tvalidation-auc:0.869698\n",
      "[100]\tvalidation-auc:0.873788\n",
      "[150]\tvalidation-auc:0.876264\n",
      "[200]\tvalidation-auc:0.877931\n",
      "[250]\tvalidation-auc:0.879148\n",
      "[300]\tvalidation-auc:0.880023\n",
      "[350]\tvalidation-auc:0.880663\n",
      "Stopping. Best iteration:\n",
      "[371]\tvalidation-auc:0.880746\n",
      "\n",
      "\n",
      "max_depth = 7, eta = 0.05:\n",
      "[0]\tvalidation-auc:0.83602\n",
      "Will train until validation-auc hasn't improved in 10 rounds.\n",
      "[50]\tvalidation-auc:0.875024\n",
      "[100]\tvalidation-auc:0.878787\n",
      "[150]\tvalidation-auc:0.87988\n",
      "Stopping. Best iteration:\n",
      "[148]\tvalidation-auc:0.879951\n",
      "\n",
      "\n",
      "max_depth = 7, eta = 0.1:\n",
      "[0]\tvalidation-auc:0.83602\n",
      "Will train until validation-auc hasn't improved in 10 rounds.\n",
      "[50]\tvalidation-auc:0.876713\n",
      "[100]\tvalidation-auc:0.879066\n",
      "Stopping. Best iteration:\n",
      "[106]\tvalidation-auc:0.879239\n",
      "\n",
      "\n",
      "max_depth = 7, eta = 0.2:\n",
      "[0]\tvalidation-auc:0.83602\n",
      "Will train until validation-auc hasn't improved in 10 rounds.\n",
      "Stopping. Best iteration:\n",
      "[33]\tvalidation-auc:0.878207\n",
      "\n",
      "\n"
     ]
    }
   ],
   "source": [
    "grid_1 = [(md,e) for md in range(4,8) for e in [0.01, 0.02, 0.05, 0.1, 0.2]]\n",
    "validation_auc_1 = Counter()\n",
    "for md,e in grid_1:\n",
    "    print(\"max_depth = {0}, eta = {1}:\".format(md,e))\n",
    "    params = {'max_depth': md, 'eta': e, 'min_child_weight': 1, 'colsample_bytree': 0.8, \n",
    "              'subsample': 0.8, \n",
    "              'objective': 'binary:logistic', 'eval_metric': ['auc'],\n",
    "              'seed': 12345}\n",
    "    evals_result = {}\n",
    "    xgb_model = xgb.train(params = params, dtrain = dtrain_train, num_boost_round = int(5e3), evals = [(dtrain_val, 'validation')],\n",
    "                          early_stopping_rounds = 10,\n",
    "                          evals_result = evals_result,\n",
    "                          verbose_eval = 50)\n",
    "    validation_auc_1[(md,e)] = np.max(evals_result['validation']['auc'])\n",
    "    print(\"\")"
   ]
  },
  {
   "cell_type": "code",
   "execution_count": 23,
   "metadata": {},
   "outputs": [
    {
     "name": "stdout",
     "output_type": "stream",
     "text": [
      "((7, 0.02), 0.880746)\n",
      "((6, 0.02), 0.880031)\n",
      "((7, 0.01), 0.880021)\n",
      "((7, 0.05), 0.879951)\n",
      "((5, 0.2), 0.87995)\n",
      "((6, 0.05), 0.879851)\n",
      "((4, 0.05), 0.879767)\n",
      "((5, 0.05), 0.879682)\n",
      "((6, 0.01), 0.879579)\n",
      "((5, 0.02), 0.879495)\n",
      "((5, 0.1), 0.879273)\n",
      "((7, 0.1), 0.879239)\n",
      "((6, 0.2), 0.878748)\n",
      "((5, 0.01), 0.878637)\n",
      "((4, 0.02), 0.878634)\n",
      "((4, 0.1), 0.878564)\n",
      "((4, 0.01), 0.878336)\n",
      "((6, 0.1), 0.878234)\n",
      "((7, 0.2), 0.878207)\n",
      "((4, 0.2), 0.876995)\n"
     ]
    }
   ],
   "source": [
    "for t in validation_auc_1.most_common():\n",
    "    print(t)"
   ]
  },
  {
   "cell_type": "markdown",
   "metadata": {},
   "source": [
    "#### (2) Grid Search for min_child_weight (along with max_depth)"
   ]
  },
  {
   "cell_type": "code",
   "execution_count": 24,
   "metadata": {},
   "outputs": [
    {
     "name": "stdout",
     "output_type": "stream",
     "text": [
      "max_depth = 5, min_child_weight = 3:\n",
      "[0]\tvalidation-auc:0.828999\n",
      "Will train until validation-auc hasn't improved in 10 rounds.\n",
      "[50]\tvalidation-auc:0.862651\n",
      "[100]\tvalidation-auc:0.869088\n",
      "[150]\tvalidation-auc:0.873059\n",
      "[200]\tvalidation-auc:0.875394\n",
      "[250]\tvalidation-auc:0.877198\n",
      "[300]\tvalidation-auc:0.878428\n",
      "[350]\tvalidation-auc:0.87901\n",
      "[400]\tvalidation-auc:0.879647\n",
      "Stopping. Best iteration:\n",
      "[435]\tvalidation-auc:0.879971\n",
      "\n",
      "\n",
      "max_depth = 5, min_child_weight = 5:\n",
      "[0]\tvalidation-auc:0.828637\n",
      "Will train until validation-auc hasn't improved in 10 rounds.\n",
      "[50]\tvalidation-auc:0.862621\n",
      "[100]\tvalidation-auc:0.86919\n",
      "[150]\tvalidation-auc:0.872938\n",
      "[200]\tvalidation-auc:0.875351\n",
      "[250]\tvalidation-auc:0.877244\n",
      "[300]\tvalidation-auc:0.878556\n",
      "[350]\tvalidation-auc:0.879293\n",
      "[400]\tvalidation-auc:0.879762\n",
      "[450]\tvalidation-auc:0.880146\n",
      "Stopping. Best iteration:\n",
      "[440]\tvalidation-auc:0.88015\n",
      "\n",
      "\n",
      "max_depth = 6, min_child_weight = 3:\n",
      "[0]\tvalidation-auc:0.833558\n",
      "Will train until validation-auc hasn't improved in 10 rounds.\n",
      "[50]\tvalidation-auc:0.867397\n",
      "[100]\tvalidation-auc:0.872158\n",
      "[150]\tvalidation-auc:0.874928\n",
      "[200]\tvalidation-auc:0.876968\n",
      "[250]\tvalidation-auc:0.878358\n",
      "[300]\tvalidation-auc:0.879407\n",
      "[350]\tvalidation-auc:0.879895\n",
      "[400]\tvalidation-auc:0.880315\n",
      "Stopping. Best iteration:\n",
      "[404]\tvalidation-auc:0.880338\n",
      "\n",
      "\n",
      "max_depth = 6, min_child_weight = 5:\n",
      "[0]\tvalidation-auc:0.832451\n",
      "Will train until validation-auc hasn't improved in 10 rounds.\n",
      "[50]\tvalidation-auc:0.867161\n",
      "[100]\tvalidation-auc:0.871832\n",
      "[150]\tvalidation-auc:0.874609\n",
      "[200]\tvalidation-auc:0.876812\n",
      "[250]\tvalidation-auc:0.878281\n",
      "[300]\tvalidation-auc:0.879243\n",
      "[350]\tvalidation-auc:0.879808\n",
      "[400]\tvalidation-auc:0.880071\n",
      "Stopping. Best iteration:\n",
      "[396]\tvalidation-auc:0.880141\n",
      "\n",
      "\n",
      "max_depth = 7, min_child_weight = 3:\n",
      "[0]\tvalidation-auc:0.836293\n",
      "Will train until validation-auc hasn't improved in 10 rounds.\n",
      "[50]\tvalidation-auc:0.869922\n",
      "[100]\tvalidation-auc:0.873878\n",
      "[150]\tvalidation-auc:0.875954\n",
      "[200]\tvalidation-auc:0.877801\n",
      "[250]\tvalidation-auc:0.878999\n",
      "[300]\tvalidation-auc:0.880006\n",
      "Stopping. Best iteration:\n",
      "[311]\tvalidation-auc:0.880141\n",
      "\n",
      "\n",
      "max_depth = 7, min_child_weight = 5:\n",
      "[0]\tvalidation-auc:0.834634\n",
      "Will train until validation-auc hasn't improved in 10 rounds.\n",
      "[50]\tvalidation-auc:0.869949\n",
      "[100]\tvalidation-auc:0.873677\n",
      "[150]\tvalidation-auc:0.875938\n",
      "[200]\tvalidation-auc:0.87762\n",
      "[250]\tvalidation-auc:0.878902\n",
      "[300]\tvalidation-auc:0.879709\n",
      "Stopping. Best iteration:\n",
      "[312]\tvalidation-auc:0.879895\n",
      "\n",
      "\n"
     ]
    }
   ],
   "source": [
    "md1 = 6\n",
    "grid_2 = [(md1+i,mcw) for i in [-1,0,1] for mcw in [3,5]]\n",
    "validation_auc_2 = Counter()\n",
    "for md,mcw in grid_2:\n",
    "    print(\"max_depth = {0}, min_child_weight = {1}:\".format(md,mcw))\n",
    "    params = {'max_depth': md, 'eta': 0.02, 'min_child_weight': mcw, 'colsample_bytree': 0.8, \n",
    "              'subsample': 0.8, \n",
    "              'objective': 'binary:logistic', 'eval_metric': ['auc'],\n",
    "              'seed': 12345}\n",
    "    evals_result = {}\n",
    "    xgb_model = xgb.train(params = params, dtrain = dtrain_train, num_boost_round = int(5e3), evals = [(dtrain_val, 'validation')],\n",
    "                          early_stopping_rounds = 10,\n",
    "                          evals_result = evals_result,\n",
    "                          verbose_eval = 50)\n",
    "    validation_auc_2[(md,mcw)] = np.max(evals_result['validation']['auc'])\n",
    "    print(\"\")"
   ]
  },
  {
   "cell_type": "code",
   "execution_count": 25,
   "metadata": {},
   "outputs": [
    {
     "name": "stdout",
     "output_type": "stream",
     "text": [
      "((6, 3), 0.880338)\n",
      "((5, 5), 0.88015)\n",
      "((7, 3), 0.880141)\n",
      "((6, 5), 0.880141)\n",
      "((5, 3), 0.879971)\n",
      "((7, 5), 0.879895)\n"
     ]
    }
   ],
   "source": [
    "for t in validation_auc_2.most_common():\n",
    "    print(t)"
   ]
  },
  {
   "cell_type": "markdown",
   "metadata": {},
   "source": [
    "#### (3) Grid Search for colsample_by_tree"
   ]
  },
  {
   "cell_type": "code",
   "execution_count": 26,
   "metadata": {},
   "outputs": [
    {
     "name": "stdout",
     "output_type": "stream",
     "text": [
      "colsample_by_tree = 0.5:\n",
      "[0]\tvalidation-auc:0.802908\n",
      "Will train until validation-auc hasn't improved in 10 rounds.\n",
      "[50]\tvalidation-auc:0.868296\n",
      "[100]\tvalidation-auc:0.872642\n",
      "[150]\tvalidation-auc:0.875815\n",
      "[200]\tvalidation-auc:0.877613\n",
      "[250]\tvalidation-auc:0.879144\n",
      "[300]\tvalidation-auc:0.880176\n",
      "[350]\tvalidation-auc:0.880953\n",
      "[400]\tvalidation-auc:0.881457\n",
      "[450]\tvalidation-auc:0.881763\n",
      "Stopping. Best iteration:\n",
      "[463]\tvalidation-auc:0.881816\n",
      "\n",
      "\n",
      "colsample_by_tree = 0.55:\n",
      "[0]\tvalidation-auc:0.802908\n",
      "Will train until validation-auc hasn't improved in 10 rounds.\n",
      "[50]\tvalidation-auc:0.868478\n",
      "[100]\tvalidation-auc:0.872616\n",
      "[150]\tvalidation-auc:0.875183\n",
      "[200]\tvalidation-auc:0.877036\n",
      "[250]\tvalidation-auc:0.878576\n",
      "[300]\tvalidation-auc:0.879651\n",
      "[350]\tvalidation-auc:0.88025\n",
      "Stopping. Best iteration:\n",
      "[352]\tvalidation-auc:0.880261\n",
      "\n",
      "\n",
      "colsample_by_tree = 0.6:\n",
      "[0]\tvalidation-auc:0.802657\n",
      "Will train until validation-auc hasn't improved in 10 rounds.\n",
      "[50]\tvalidation-auc:0.86811\n",
      "[100]\tvalidation-auc:0.872427\n",
      "[150]\tvalidation-auc:0.874972\n",
      "[200]\tvalidation-auc:0.876797\n",
      "[250]\tvalidation-auc:0.878057\n",
      "[300]\tvalidation-auc:0.879235\n",
      "[350]\tvalidation-auc:0.879859\n",
      "[400]\tvalidation-auc:0.880328\n",
      "[450]\tvalidation-auc:0.880789\n",
      "Stopping. Best iteration:\n",
      "[466]\tvalidation-auc:0.880866\n",
      "\n",
      "\n",
      "colsample_by_tree = 0.65:\n",
      "[0]\tvalidation-auc:0.835634\n",
      "Will train until validation-auc hasn't improved in 10 rounds.\n",
      "[50]\tvalidation-auc:0.868192\n",
      "[100]\tvalidation-auc:0.872151\n",
      "[150]\tvalidation-auc:0.875173\n",
      "[200]\tvalidation-auc:0.877017\n",
      "[250]\tvalidation-auc:0.878427\n",
      "[300]\tvalidation-auc:0.87938\n",
      "[350]\tvalidation-auc:0.879832\n",
      "Stopping. Best iteration:\n",
      "[341]\tvalidation-auc:0.879912\n",
      "\n",
      "\n",
      "colsample_by_tree = 0.7:\n",
      "[0]\tvalidation-auc:0.837137\n",
      "Will train until validation-auc hasn't improved in 10 rounds.\n",
      "[50]\tvalidation-auc:0.86764\n",
      "[100]\tvalidation-auc:0.87234\n",
      "[150]\tvalidation-auc:0.875136\n",
      "[200]\tvalidation-auc:0.876991\n",
      "[250]\tvalidation-auc:0.878426\n",
      "[300]\tvalidation-auc:0.879246\n",
      "[350]\tvalidation-auc:0.879744\n",
      "Stopping. Best iteration:\n",
      "[354]\tvalidation-auc:0.879793\n",
      "\n",
      "\n",
      "colsample_by_tree = 0.75:\n",
      "[0]\tvalidation-auc:0.837137\n",
      "Will train until validation-auc hasn't improved in 10 rounds.\n",
      "[50]\tvalidation-auc:0.867657\n",
      "[100]\tvalidation-auc:0.872118\n",
      "[150]\tvalidation-auc:0.875032\n",
      "[200]\tvalidation-auc:0.877304\n",
      "[250]\tvalidation-auc:0.878599\n",
      "[300]\tvalidation-auc:0.879485\n",
      "Stopping. Best iteration:\n",
      "[312]\tvalidation-auc:0.879534\n",
      "\n",
      "\n",
      "colsample_by_tree = 0.8:\n",
      "[0]\tvalidation-auc:0.833558\n",
      "Will train until validation-auc hasn't improved in 10 rounds.\n",
      "[50]\tvalidation-auc:0.867397\n",
      "[100]\tvalidation-auc:0.872158\n",
      "[150]\tvalidation-auc:0.874928\n",
      "[200]\tvalidation-auc:0.876968\n",
      "[250]\tvalidation-auc:0.878358\n",
      "[300]\tvalidation-auc:0.879407\n",
      "[350]\tvalidation-auc:0.879895\n",
      "[400]\tvalidation-auc:0.880315\n",
      "Stopping. Best iteration:\n",
      "[404]\tvalidation-auc:0.880338\n",
      "\n",
      "\n",
      "colsample_by_tree = 0.85:\n",
      "[0]\tvalidation-auc:0.83257\n",
      "Will train until validation-auc hasn't improved in 10 rounds.\n",
      "[50]\tvalidation-auc:0.867142\n",
      "[100]\tvalidation-auc:0.871894\n",
      "[150]\tvalidation-auc:0.874382\n",
      "[200]\tvalidation-auc:0.876696\n",
      "[250]\tvalidation-auc:0.878106\n",
      "[300]\tvalidation-auc:0.878983\n",
      "[350]\tvalidation-auc:0.879671\n",
      "[400]\tvalidation-auc:0.879962\n",
      "Stopping. Best iteration:\n",
      "[393]\tvalidation-auc:0.879967\n",
      "\n",
      "\n",
      "colsample_by_tree = 0.9:\n",
      "[0]\tvalidation-auc:0.832809\n",
      "Will train until validation-auc hasn't improved in 10 rounds.\n",
      "[50]\tvalidation-auc:0.866201\n",
      "[100]\tvalidation-auc:0.871442\n",
      "[150]\tvalidation-auc:0.87467\n",
      "[200]\tvalidation-auc:0.876908\n",
      "[250]\tvalidation-auc:0.878677\n",
      "[300]\tvalidation-auc:0.8797\n",
      "[350]\tvalidation-auc:0.880384\n",
      "[400]\tvalidation-auc:0.880708\n",
      "Stopping. Best iteration:\n",
      "[421]\tvalidation-auc:0.880908\n",
      "\n",
      "\n"
     ]
    }
   ],
   "source": [
    "grid_3 = [0.5, 0.55, 0.6, 0.65, 0.7, 0.75, 0.8, 0.85, 0.9]\n",
    "validation_auc_3 = Counter()\n",
    "for cbt in grid_3:\n",
    "    print(\"colsample_by_tree = {}:\".format(cbt))\n",
    "    params = {'max_depth': 6, 'eta': 0.02, 'min_child_weight': 3, 'colsample_bytree': cbt, \n",
    "              'subsample': 0.8, \n",
    "              'objective': 'binary:logistic', 'eval_metric': ['auc'],\n",
    "              'seed': 12345}\n",
    "    evals_result = {}\n",
    "    xgb_model = xgb.train(params = params, dtrain = dtrain_train, num_boost_round = int(5e3), evals = [(dtrain_val, 'validation')],\n",
    "                          early_stopping_rounds = 10,\n",
    "                          evals_result = evals_result,\n",
    "                          verbose_eval = 50)\n",
    "    validation_auc_3[cbt] = np.max(evals_result['validation']['auc'])\n",
    "    print(\"\")"
   ]
  },
  {
   "cell_type": "code",
   "execution_count": 27,
   "metadata": {},
   "outputs": [
    {
     "data": {
      "text/plain": [
       "[(0.5, 0.881816),\n",
       " (0.9, 0.880908),\n",
       " (0.6, 0.880866),\n",
       " (0.8, 0.880338),\n",
       " (0.55, 0.880261),\n",
       " (0.85, 0.879967),\n",
       " (0.65, 0.879912),\n",
       " (0.7, 0.879793),\n",
       " (0.75, 0.879534)]"
      ]
     },
     "execution_count": 27,
     "metadata": {},
     "output_type": "execute_result"
    }
   ],
   "source": [
    "validation_auc_3.most_common()"
   ]
  },
  {
   "cell_type": "markdown",
   "metadata": {},
   "source": [
    "#### (4) Finally select the opitmal num_boost_round"
   ]
  },
  {
   "cell_type": "code",
   "execution_count": 28,
   "metadata": {},
   "outputs": [
    {
     "name": "stdout",
     "output_type": "stream",
     "text": [
      "[0]\tvalidation-auc:0.833558\n",
      "Will train until validation-auc hasn't improved in 10 rounds.\n",
      "[50]\tvalidation-auc:0.867397\n",
      "[100]\tvalidation-auc:0.872158\n",
      "[150]\tvalidation-auc:0.874928\n",
      "[200]\tvalidation-auc:0.876968\n",
      "[250]\tvalidation-auc:0.878358\n",
      "[300]\tvalidation-auc:0.879407\n",
      "[350]\tvalidation-auc:0.879895\n",
      "[400]\tvalidation-auc:0.880315\n",
      "Stopping. Best iteration:\n",
      "[404]\tvalidation-auc:0.880338\n",
      "\n",
      "\n",
      "404\n"
     ]
    }
   ],
   "source": [
    "params = {'max_depth': 6, 'eta': 0.02, 'min_child_weight': 3, 'colsample_bytree': 0.8, \n",
    "          'subsample': 0.8, \n",
    "          'objective': 'binary:logistic', 'eval_metric': ['auc'],\n",
    "          'seed': 12345}\n",
    "evals_result = {}\n",
    "xgb_model = xgb.train(params = params, dtrain = dtrain_train, num_boost_round = int(5e3), evals = [(dtrain_val, 'validation')],\n",
    "                      early_stopping_rounds = 10,\n",
    "                      evals_result = evals_result,\n",
    "                      verbose_eval = 50)\n",
    "optimal_num_boost_round = np.argmax(evals_result['validation']['auc'])\n",
    "print(\"\")\n",
    "print(optimal_num_boost_round)"
   ]
  },
  {
   "cell_type": "markdown",
   "metadata": {},
   "source": [
    "#### (5) Train the final xgb model and make predictions for observations in the test set"
   ]
  },
  {
   "cell_type": "code",
   "execution_count": 29,
   "metadata": {
    "collapsed": true
   },
   "outputs": [],
   "source": [
    "# specify parameters via map\n",
    "params = {'max_depth': 6, 'eta': 0.02, 'min_child_weight': 3, 'colsample_bytree': 0.8, \n",
    "          'subsample': 0.8, \n",
    "          'objective': 'binary:logistic', 'eval_metric': ['auc'],\n",
    "          'seed': 12345}\n",
    "final_xgb_model = xgb.train(params = params, dtrain = dtrain, num_boost_round = optimal_num_boost_round)\n",
    "# make prediction for observations in the test set\n",
    "y_test_pred = final_xgb_model.predict(dtest)"
   ]
  },
  {
   "cell_type": "code",
   "execution_count": 30,
   "metadata": {},
   "outputs": [
    {
     "name": "stdout",
     "output_type": "stream",
     "text": [
      "XGBoost:\n",
      "AUC = 0.8916\n"
     ]
    }
   ],
   "source": [
    "print(\"XGBoost:\")\n",
    "print(\"AUC = {}\".format(round(roc_auc_score(dtest.get_label(), y_test_pred), 4)))"
   ]
  },
  {
   "cell_type": "code",
   "execution_count": 31,
   "metadata": {
    "collapsed": true
   },
   "outputs": [],
   "source": [
    "# save the model object and predicted scores on the validation sample to local disk\n",
    "# pickle.dump(final_xgb_model, open(results_dir + \"xgb.p\", \"wb\"))\n",
    "pickle.dump(list(y_test_pred), open(results_dir + \"y_test_pred_xgb.p\", \"wb\"))"
   ]
  },
  {
   "cell_type": "code",
   "execution_count": 32,
   "metadata": {
    "collapsed": true
   },
   "outputs": [],
   "source": [
    "feature_importance = pd.DataFrame(list(final_xgb_model.get_fscore().items()), columns=['feature','importance']).sort_values('importance', ascending=False)\n",
    "feature_importance.loc[:, 'importance'] = feature_importance.loc[:, 'importance'] / sum(feature_importance.loc[:, 'importance'])\n",
    "yy = feature_importance.loc[:, 'importance'].iloc[:20]\n",
    "xx = feature_importance.loc[:, 'feature'].iloc[:20]"
   ]
  },
  {
   "cell_type": "code",
   "execution_count": 34,
   "metadata": {},
   "outputs": [
    {
     "data": {
      "image/png": "[encoded data removed]",
      "text/plain": [
       "<matplotlib.figure.Figure at 0x23144ac5940>"
      ]
     },
     "metadata": {},
     "output_type": "display_data"
    }
   ],
   "source": [
    "fig = plt.figure(figsize=(12,9))\n",
    "plt.bar(list(range(20)), yy, width=0.75, color = \"orange\")\n",
    "plt.xticks(list(range(20)), xx, rotation = 'vertical', fontsize=14)\n",
    "plt.yticks(fontsize=14)\n",
    "plt.xlabel(\"Predictor\", fontsize=16, color=\"gray\")\n",
    "plt.ylabel(\"Feature Importance\", fontsize=16, color=\"gray\")\n",
    "plt.savefig(results_dir + \"XGBoost_variable_importance.png\", bbox_inches='tight')\n",
    "plt.show()"
   ]
  },
  {
   "cell_type": "code",
   "execution_count": 35,
   "metadata": {
    "collapsed": true
   },
   "outputs": [],
   "source": [
    "def find_optimal_threshold(p,r,t):\n",
    "    to_drop = np.union1d(np.where(pd.isnull(p[:-1]) == True)[0], np.where(pd.isnull(r[:-1]) == True)[0])\n",
    "    to_drop = np.union1d(to_drop, np.where(pd.isnull(t) == True)[0])\n",
    "    to_keep = np.setdiff1d(np.array(list(range(len(p)-1))), to_drop)\n",
    "    p,r,t = p[to_keep],r[to_keep],t[to_keep]\n",
    "    f1 = 2*p*r/(p+r)\n",
    "    best_t = t[np.argmax(f1)]\n",
    "    best_t\n",
    "    return best_t\n",
    "\n",
    "def cross_validation(train, xgb_params, nbr):\n",
    "    threshold_list = []\n",
    "    auc_list = []\n",
    "    k_fold =  StratifiedKFold(n_splits = 10, random_state = 12345, shuffle=True)\n",
    "    for train_indices, test_indices in k_fold.split(train, train.grad_6years):\n",
    "        train_part = train.iloc[train_indices,:]\n",
    "        test_part = train.iloc[test_indices,:]\n",
    "        train_part_new, test_part_new = impute(train_part, test_part)\n",
    "        X_1 = train_part_new.loc[:,predictors]\n",
    "        y_1 = train_part_new.grad_6years\n",
    "        X_2 = test_part_new.loc[:,predictors]\n",
    "        y_2 = test_part_new.grad_6years\n",
    "        dtrain_cv = xgb.DMatrix(X_1,y_1)\n",
    "        dtest_cv = xgb.DMatrix(X_2,y_2)\n",
    "        xgb_cv_model = xgb.train(params=xgb_params, dtrain=dtrain_cv, num_boost_round = nbr)\n",
    "        y_2_pred = xgb_cv_model.predict(dtest_cv)\n",
    "        p,r,t = precision_recall_curve(y_2, y_2_pred)\n",
    "        auc = roc_auc_score(y_2, y_2_pred)\n",
    "        threshold_list.append(find_optimal_threshold(p,r,t))\n",
    "        auc_list.append(auc)\n",
    "    print(np.mean(auc_list), np.std(auc_list, ddof=1))\n",
    "    return gmean(threshold_list)"
   ]
  },
  {
   "cell_type": "code",
   "execution_count": 36,
   "metadata": {},
   "outputs": [
    {
     "name": "stderr",
     "output_type": "stream",
     "text": [
      "C:\\Users\\ys8mz\\AppData\\Local\\Continuum\\Anaconda3\\lib\\site-packages\\pandas\\core\\indexing.py:517: SettingWithCopyWarning: \n",
      "A value is trying to be set on a copy of a slice from a DataFrame.\n",
      "Try using .loc[row_indexer,col_indexer] = value instead\n",
      "\n",
      "See the caveats in the documentation: http://pandas.pydata.org/pandas-docs/stable/indexing.html#indexing-view-versus-copy\n",
      "  self.obj[item] = s\n",
      "C:\\Users\\ys8mz\\AppData\\Local\\Continuum\\Anaconda3\\lib\\site-packages\\pandas\\core\\indexing.py:517: SettingWithCopyWarning: \n",
      "A value is trying to be set on a copy of a slice from a DataFrame.\n",
      "Try using .loc[row_indexer,col_indexer] = value instead\n",
      "\n",
      "See the caveats in the documentation: http://pandas.pydata.org/pandas-docs/stable/indexing.html#indexing-view-versus-copy\n",
      "  self.obj[item] = s\n",
      "C:\\Users\\ys8mz\\AppData\\Local\\Continuum\\Anaconda3\\lib\\site-packages\\pandas\\core\\indexing.py:517: SettingWithCopyWarning: \n",
      "A value is trying to be set on a copy of a slice from a DataFrame.\n",
      "Try using .loc[row_indexer,col_indexer] = value instead\n",
      "\n",
      "See the caveats in the documentation: http://pandas.pydata.org/pandas-docs/stable/indexing.html#indexing-view-versus-copy\n",
      "  self.obj[item] = s\n",
      "C:\\Users\\ys8mz\\AppData\\Local\\Continuum\\Anaconda3\\lib\\site-packages\\pandas\\core\\indexing.py:517: SettingWithCopyWarning: \n",
      "A value is trying to be set on a copy of a slice from a DataFrame.\n",
      "Try using .loc[row_indexer,col_indexer] = value instead\n",
      "\n",
      "See the caveats in the documentation: http://pandas.pydata.org/pandas-docs/stable/indexing.html#indexing-view-versus-copy\n",
      "  self.obj[item] = s\n",
      "C:\\Users\\ys8mz\\AppData\\Local\\Continuum\\Anaconda3\\lib\\site-packages\\pandas\\core\\indexing.py:517: SettingWithCopyWarning: \n",
      "A value is trying to be set on a copy of a slice from a DataFrame.\n",
      "Try using .loc[row_indexer,col_indexer] = value instead\n",
      "\n",
      "See the caveats in the documentation: http://pandas.pydata.org/pandas-docs/stable/indexing.html#indexing-view-versus-copy\n",
      "  self.obj[item] = s\n",
      "C:\\Users\\ys8mz\\AppData\\Local\\Continuum\\Anaconda3\\lib\\site-packages\\pandas\\core\\indexing.py:517: SettingWithCopyWarning: \n",
      "A value is trying to be set on a copy of a slice from a DataFrame.\n",
      "Try using .loc[row_indexer,col_indexer] = value instead\n",
      "\n",
      "See the caveats in the documentation: http://pandas.pydata.org/pandas-docs/stable/indexing.html#indexing-view-versus-copy\n",
      "  self.obj[item] = s\n",
      "C:\\Users\\ys8mz\\AppData\\Local\\Continuum\\Anaconda3\\lib\\site-packages\\pandas\\core\\indexing.py:517: SettingWithCopyWarning: \n",
      "A value is trying to be set on a copy of a slice from a DataFrame.\n",
      "Try using .loc[row_indexer,col_indexer] = value instead\n",
      "\n",
      "See the caveats in the documentation: http://pandas.pydata.org/pandas-docs/stable/indexing.html#indexing-view-versus-copy\n",
      "  self.obj[item] = s\n",
      "C:\\Users\\ys8mz\\AppData\\Local\\Continuum\\Anaconda3\\lib\\site-packages\\pandas\\core\\indexing.py:517: SettingWithCopyWarning: \n",
      "A value is trying to be set on a copy of a slice from a DataFrame.\n",
      "Try using .loc[row_indexer,col_indexer] = value instead\n",
      "\n",
      "See the caveats in the documentation: http://pandas.pydata.org/pandas-docs/stable/indexing.html#indexing-view-versus-copy\n",
      "  self.obj[item] = s\n",
      "C:\\Users\\ys8mz\\AppData\\Local\\Continuum\\Anaconda3\\lib\\site-packages\\pandas\\core\\indexing.py:517: SettingWithCopyWarning: \n",
      "A value is trying to be set on a copy of a slice from a DataFrame.\n",
      "Try using .loc[row_indexer,col_indexer] = value instead\n",
      "\n",
      "See the caveats in the documentation: http://pandas.pydata.org/pandas-docs/stable/indexing.html#indexing-view-versus-copy\n",
      "  self.obj[item] = s\n",
      "C:\\Users\\ys8mz\\AppData\\Local\\Continuum\\Anaconda3\\lib\\site-packages\\pandas\\core\\indexing.py:517: SettingWithCopyWarning: \n",
      "A value is trying to be set on a copy of a slice from a DataFrame.\n",
      "Try using .loc[row_indexer,col_indexer] = value instead\n",
      "\n",
      "See the caveats in the documentation: http://pandas.pydata.org/pandas-docs/stable/indexing.html#indexing-view-versus-copy\n",
      "  self.obj[item] = s\n"
     ]
    },
    {
     "name": "stdout",
     "output_type": "stream",
     "text": [
      "0.8844302174300612 0.005288669074033276\n"
     ]
    }
   ],
   "source": [
    "final_params = {'max_depth': 6, 'eta': 0.02, 'min_child_weight': 3, 'colsample_bytree': 0.8, \n",
    "                'subsample': 0.8, \n",
    "                'objective': 'binary:logistic', 'eval_metric': ['auc'],\n",
    "                'seed': 12345}\n",
    "best_threshold = cross_validation(train_df, final_params, optimal_num_boost_round)"
   ]
  },
  {
   "cell_type": "code",
   "execution_count": 37,
   "metadata": {},
   "outputs": [
    {
     "data": {
      "text/plain": [
       "0.35812652"
      ]
     },
     "execution_count": 37,
     "metadata": {},
     "output_type": "execute_result"
    }
   ],
   "source": [
    "best_threshold"
   ]
  },
  {
   "cell_type": "code",
   "execution_count": 38,
   "metadata": {
    "collapsed": true
   },
   "outputs": [],
   "source": [
    "def create_confusion_matrix(y_test_pred, threshold, fname):\n",
    "    cm_arr = confusion_matrix(y_test, np.where(y_test_pred > threshold, 1, 0))\n",
    "    cm_df = pd.DataFrame(cm_arr, columns=['Pred_0','Pred_1'], index=['Real_0', 'Real_1'])\n",
    "    cm_df.loc[:,''] = cm_df.sum(axis=1)\n",
    "    cm_df.loc['',:] = cm_df.sum(axis=0)\n",
    "    print(cm_df)\n",
    "    print(\"\")\n",
    "    p1 = cm_df.iloc[1,1]/cm_df.iloc[2,1]\n",
    "    r1 = cm_df.iloc[1,1]/cm_df.iloc[1,2]\n",
    "    p0 = cm_df.iloc[0,0]/cm_df.iloc[2,0]\n",
    "    r0 = cm_df.iloc[0,0]/cm_df.iloc[0,2]    \n",
    "    print(\"F1 score = {}\".format(round(2*p1*r1/(p1+r1),4)))    \n",
    "    cm_df.to_csv(results_dir + fname + \".csv\")\n",
    "    return p1,r1,p0,r0,round(2*p1*r1/(p1+r1),4)"
   ]
  },
  {
   "cell_type": "code",
   "execution_count": 39,
   "metadata": {},
   "outputs": [
    {
     "name": "stdout",
     "output_type": "stream",
     "text": [
      "F1 threshold = 0.358:\n",
      "\n",
      "         Pred_0   Pred_1         \n",
      "Real_0  18210.0   3598.0  21808.0\n",
      "Real_1   2268.0   9039.0  11307.0\n",
      "        20478.0  12637.0  33115.0\n",
      "\n",
      "F1 score = 0.755\n"
     ]
    }
   ],
   "source": [
    "print(\"F1 threshold = {}:\\n\".format(str(round(best_threshold,3))))\n",
    "pr_xgb = create_confusion_matrix(y_test_pred, best_threshold, \"XGBoost_cm1\")"
   ]
  },
  {
   "cell_type": "code",
   "execution_count": 40,
   "metadata": {},
   "outputs": [
    {
     "name": "stdout",
     "output_type": "stream",
     "text": [
      "Alternative threshold = 0.429:\n",
      "\n",
      "         Pred_0   Pred_1         \n",
      "Real_0  18968.0   2840.0  21808.0\n",
      "Real_1   2821.0   8486.0  11307.0\n",
      "        21789.0  11326.0  33115.0\n",
      "\n",
      "F1 score = 0.7499\n"
     ]
    }
   ],
   "source": [
    "num_of_0 = int(round((1-np.mean(train_df.grad_6years))*len(y_test)))\n",
    "y_test_pred_binary = np.ones(len(y_test))\n",
    "y_test_pred_binary[np.argsort(y_test_pred)[:num_of_0]] = 0\n",
    "alternative_threshold = y_test_pred[np.argsort(y_test_pred)[num_of_0]]\n",
    "print(\"Alternative threshold = {}:\\n\".format(str(round(alternative_threshold,3))))\n",
    "pr2_xgb = create_confusion_matrix(y_test_pred_binary, best_threshold, \"XGBoost_cm2\")"
   ]
  },
  {
   "cell_type": "code",
   "execution_count": 41,
   "metadata": {
    "collapsed": true
   },
   "outputs": [],
   "source": [
    "precision_recall_df = pd.DataFrame([(best_threshold,)+pr_xgb,(alternative_threshold,)+pr2_xgb]).round(4)\n",
    "precision_recall_df.index = ['F1','Same_Graduation_Rate']\n",
    "precision_recall_df.columns = ['threshold','precision_1','recall_1','precision_0','recall_0','f1_score']\n",
    "precision_recall_df.to_csv(results_dir + \"XGBoost_precision_recall.csv\", index=True)"
   ]
  },
  {
   "cell_type": "code",
   "execution_count": null,
   "metadata": {
    "collapsed": true
   },
   "outputs": [],
   "source": []
  },
  {
   "cell_type": "markdown",
   "metadata": {},
   "source": [
    "#### Comparison with reduced validation"
   ]
  },
  {
   "cell_type": "markdown",
   "metadata": {},
   "source": [
    "##### Randomly select 10% observations from the original validation sample"
   ]
  },
  {
   "cell_type": "code",
   "execution_count": 12,
   "metadata": {
    "collapsed": true
   },
   "outputs": [],
   "source": [
    "results_dir_new1 = \"C:\\\\Users\\\\ys8mz\\\\Box Sync\\\\Predictive Models of College Completion (VCCS)\\\\evaluation_results\\\\smaller_training_sample\\\\test1\\\\comparison_1\\\\\""
   ]
  },
  {
   "cell_type": "code",
   "execution_count": 13,
   "metadata": {
    "collapsed": true
   },
   "outputs": [],
   "source": [
    "test_df_old = df[df.valid == 1]\n",
    "_, test_df_reduced = train_test_split(test_df_old, test_size=0.1, stratify=test_df_old['grad_6years'].astype(str)+\"_\"+test_df_old['available_sum'].astype(str), random_state=54321)"
   ]
  },
  {
   "cell_type": "code",
   "execution_count": 14,
   "metadata": {},
   "outputs": [
    {
     "name": "stderr",
     "output_type": "stream",
     "text": [
      "C:\\Users\\ys8mz\\AppData\\Local\\Continuum\\Anaconda3\\lib\\site-packages\\pandas\\core\\indexing.py:543: SettingWithCopyWarning: \n",
      "A value is trying to be set on a copy of a slice from a DataFrame.\n",
      "Try using .loc[row_indexer,col_indexer] = value instead\n",
      "\n",
      "See the caveats in the documentation: http://pandas.pydata.org/pandas-docs/stable/indexing.html#indexing-view-versus-copy\n",
      "  self.obj[item] = s\n"
     ]
    }
   ],
   "source": [
    "_, test_df_reduced_new = impute(train_df, test_df_reduced)\n",
    "X_test_reduced = test_df_reduced_new.loc[:,predictors]\n",
    "y_test_reduced = test_df_reduced_new.grad_6years\n",
    "dtest_reduced = xgb.DMatrix(X_test_reduced, y_test_reduced)"
   ]
  },
  {
   "cell_type": "code",
   "execution_count": 16,
   "metadata": {},
   "outputs": [
    {
     "name": "stdout",
     "output_type": "stream",
     "text": [
      "XGBoost:\n",
      "AUC = 0.8942\n"
     ]
    }
   ],
   "source": [
    "print(\"XGBoost:\")\n",
    "y_test_reduced_pred = xgboost.predict(dtest_reduced)\n",
    "print(\"AUC = {}\".format(round(roc_auc_score(dtest_reduced.get_label(), xgboost.predict(dtest_reduced)), 4)))"
   ]
  },
  {
   "cell_type": "code",
   "execution_count": 18,
   "metadata": {
    "collapsed": true
   },
   "outputs": [],
   "source": [
    "pickle.dump(list(y_test_reduced_pred), open(results_dir_new1 + \"y_test_pred_xgb.p\", \"wb\"))"
   ]
  },
  {
   "cell_type": "code",
   "execution_count": 48,
   "metadata": {
    "collapsed": true
   },
   "outputs": [],
   "source": [
    "def create_confusion_matrix_new(y_test, y_test_pred, threshold, fpath, fname):\n",
    "    cm_arr = confusion_matrix(y_test, np.where(np.array(y_test_pred) > threshold, 1, 0))\n",
    "    cm_df = pd.DataFrame(cm_arr, columns=['Pred_0','Pred_1'], index=['Real_0', 'Real_1'])\n",
    "    cm_df.loc[:,''] = cm_df.sum(axis=1)\n",
    "    cm_df.loc['',:] = cm_df.sum(axis=0)\n",
    "    print(cm_df)\n",
    "    print(\"\")\n",
    "    p1 = cm_df.iloc[1,1]/cm_df.iloc[2,1]\n",
    "    r1 = cm_df.iloc[1,1]/cm_df.iloc[1,2]\n",
    "    p0 = cm_df.iloc[0,0]/cm_df.iloc[2,0]\n",
    "    r0 = cm_df.iloc[0,0]/cm_df.iloc[0,2]    \n",
    "    print(\"F1 score = {}\".format(round(2*p1*r1/(p1+r1),4)))    \n",
    "    cm_df.to_csv(fpath + fname + \".csv\")\n",
    "    return p1,r1,p0,r0,round(2*p1*r1/(p1+r1),4)"
   ]
  },
  {
   "cell_type": "code",
   "execution_count": 49,
   "metadata": {
    "collapsed": true
   },
   "outputs": [],
   "source": [
    "def create_pr(train_df, y_test, y_test_pred, best_threshold, fpath, mn):\n",
    "    print(\"F1 threshold = {}:\\n\".format(str(round(best_threshold,3))))\n",
    "    pr_lr = create_confusion_matrix_new(y_test, y_test_pred, best_threshold, fpath, \"{}_cm1\".format(mn))\n",
    "\n",
    "    num_of_0 = int(round((1-np.mean(train_df.grad_6years))*len(y_test)))\n",
    "    y_test_pred_binary = np.ones(len(y_test))\n",
    "    y_test_pred_binary[np.argsort(y_test_pred)[:num_of_0]] = 0\n",
    "    alternative_threshold = y_test_pred[np.argsort(y_test_pred)[num_of_0]]\n",
    "    print(\"\\n\\n\")\n",
    "    print(\"Alternative threshold = {}:\\n\".format(str(round(alternative_threshold,3))))\n",
    "    pr2_lr = create_confusion_matrix_new(y_test, y_test_pred_binary, best_threshold, fpath, \"{}_cm2\".format(mn))\n",
    "\n",
    "    precision_recall_df = pd.DataFrame([(best_threshold,)+pr_lr,(alternative_threshold,)+pr2_lr]).round(4)\n",
    "    precision_recall_df.index = ['F1','Same_Graduation_Rate']\n",
    "    precision_recall_df.columns = ['threshold','precision_1','recall_1','precision_0','recall_0','f1_score']\n",
    "    precision_recall_df.to_csv(fpath + \"{}_precision_recall.csv\".format(mn), index=True)"
   ]
  },
  {
   "cell_type": "code",
   "execution_count": 50,
   "metadata": {},
   "outputs": [
    {
     "name": "stdout",
     "output_type": "stream",
     "text": [
      "F1 threshold = 0.358:\n",
      "\n",
      "        Pred_0  Pred_1        \n",
      "Real_0  1848.0   333.0  2181.0\n",
      "Real_1   218.0   913.0  1131.0\n",
      "        2066.0  1246.0  3312.0\n",
      "\n",
      "F1 score = 0.7682\n",
      "\n",
      "\n",
      "\n",
      "Alternative threshold = 0.423:\n",
      "\n",
      "        Pred_0  Pred_1        \n",
      "Real_0  1913.0   268.0  2181.0\n",
      "Real_1   266.0   865.0  1131.0\n",
      "        2179.0  1133.0  3312.0\n",
      "\n",
      "F1 score = 0.7641\n"
     ]
    }
   ],
   "source": [
    "create_pr(train_df, y_test_reduced, y_test_reduced_pred, best_threshold, results_dir_new1, \"XGBoost\")"
   ]
  },
  {
   "cell_type": "markdown",
   "metadata": {
    "collapsed": true
   },
   "source": [
    "#### Comparison with the base model (trained on the full training data), using the reduced validation sample"
   ]
  },
  {
   "cell_type": "code",
   "execution_count": 19,
   "metadata": {
    "collapsed": true
   },
   "outputs": [],
   "source": [
    "results_dir_new2 = \"C:\\\\Users\\\\ys8mz\\\\Box Sync\\\\Predictive Models of College Completion (VCCS)\\\\evaluation_results\\\\smaller_training_sample\\\\test1\\\\comparison_2\\\\\""
   ]
  },
  {
   "cell_type": "code",
   "execution_count": 20,
   "metadata": {
    "collapsed": true
   },
   "outputs": [],
   "source": [
    "model_dir = \"C:\\\\Users\\\\ys8mz\\\\Box Sync\\\\Predictive Models of College Completion (VCCS)\\\\evaluation_results\\\\truncated_predictors\\\\\"\n",
    "base_xgboost = pickle.load(open(model_dir + \"xgb.p\", \"rb\"))"
   ]
  },
  {
   "cell_type": "code",
   "execution_count": 21,
   "metadata": {
    "collapsed": true
   },
   "outputs": [],
   "source": [
    "train_df_old = df[df.valid == 0]\n",
    "test_df_old = df[df.valid == 1]\n",
    "_, test_df_reduced = train_test_split(test_df_old, test_size=0.1, stratify=test_df_old['grad_6years'].astype(str)+\"_\"+test_df_old['available_sum'].astype(str), random_state=54321)"
   ]
  },
  {
   "cell_type": "code",
   "execution_count": 22,
   "metadata": {},
   "outputs": [
    {
     "data": {
      "text/plain": [
       "(3312, 342)"
      ]
     },
     "execution_count": 22,
     "metadata": {},
     "output_type": "execute_result"
    }
   ],
   "source": [
    "test_df_reduced.shape"
   ]
  },
  {
   "cell_type": "code",
   "execution_count": 23,
   "metadata": {},
   "outputs": [
    {
     "name": "stderr",
     "output_type": "stream",
     "text": [
      "C:\\Users\\ys8mz\\AppData\\Local\\Continuum\\Anaconda3\\lib\\site-packages\\pandas\\core\\indexing.py:543: SettingWithCopyWarning: \n",
      "A value is trying to be set on a copy of a slice from a DataFrame.\n",
      "Try using .loc[row_indexer,col_indexer] = value instead\n",
      "\n",
      "See the caveats in the documentation: http://pandas.pydata.org/pandas-docs/stable/indexing.html#indexing-view-versus-copy\n",
      "  self.obj[item] = s\n"
     ]
    }
   ],
   "source": [
    "_, test_df_reduced_new = impute(train_df_old, test_df_reduced)\n",
    "X_test_reduced = test_df_reduced_new.loc[:,predictors]\n",
    "y_test_reduced = test_df_reduced_new.grad_6years"
   ]
  },
  {
   "cell_type": "code",
   "execution_count": 24,
   "metadata": {
    "collapsed": true
   },
   "outputs": [],
   "source": [
    "dtest_reduced = xgb.DMatrix(X_test_reduced, y_test_reduced)"
   ]
  },
  {
   "cell_type": "code",
   "execution_count": 25,
   "metadata": {},
   "outputs": [
    {
     "name": "stdout",
     "output_type": "stream",
     "text": [
      "XGBoost:\n",
      "AUC = 0.9096\n"
     ]
    }
   ],
   "source": [
    "print(\"XGBoost:\")\n",
    "y_test_reduced_pred = base_xgboost.predict(dtest_reduced)\n",
    "print(\"AUC = {}\".format(round(roc_auc_score(dtest_reduced.get_label(), base_xgboost.predict(dtest_reduced)), 4)))"
   ]
  },
  {
   "cell_type": "code",
   "execution_count": 26,
   "metadata": {
    "collapsed": true
   },
   "outputs": [],
   "source": [
    "pickle.dump(list(y_test_reduced_pred), open(results_dir_new2 + \"y_test_pred_xgb.p\", \"wb\"))"
   ]
  },
  {
   "cell_type": "code",
   "execution_count": 57,
   "metadata": {},
   "outputs": [
    {
     "name": "stdout",
     "output_type": "stream",
     "text": [
      "F1 threshold = 0.385:\n",
      "\n",
      "        Pred_0  Pred_1        \n",
      "Real_0  1906.0   275.0  2181.0\n",
      "Real_1   212.0   919.0  1131.0\n",
      "        2118.0  1194.0  3312.0\n",
      "\n",
      "F1 score = 0.7905\n",
      "\n",
      "\n",
      "\n",
      "Alternative threshold = 0.444:\n",
      "\n",
      "        Pred_0  Pred_1        \n",
      "Real_0  1937.0   244.0  2181.0\n",
      "Real_1   242.0   889.0  1131.0\n",
      "        2179.0  1133.0  3312.0\n",
      "\n",
      "F1 score = 0.7853\n"
     ]
    }
   ],
   "source": [
    "create_pr(train_df_old, y_test_reduced, y_test_reduced_pred,  0.38526425, results_dir_new2, \"XGBoost\")"
   ]
  },
  {
   "cell_type": "code",
   "execution_count": null,
   "metadata": {
    "collapsed": true
   },
   "outputs": [],
   "source": []
  },
  {
   "cell_type": "markdown",
   "metadata": {},
   "source": [
    "#### Reorganize files of key evaluation metrics for the five models fitted on the random 10% training sample: OLS, Logit, RF, XGBoost, CoxPH"
   ]
  },
  {
   "cell_type": "code",
   "execution_count": 1,
   "metadata": {
    "collapsed": true
   },
   "outputs": [],
   "source": [
    "results_dir_new1 = \"C:\\\\Users\\\\ys8mz\\\\Box Sync\\\\Predictive Models of College Completion (VCCS)\\\\evaluation_results\\\\smaller_training_sample\\\\test1\\\\comparison_1\\\\\"\n",
    "results_dir_new2 = \"C:\\\\Users\\\\ys8mz\\\\Box Sync\\\\Predictive Models of College Completion (VCCS)\\\\evaluation_results\\\\smaller_training_sample\\\\test1\\\\comparison_2\\\\\""
   ]
  },
  {
   "cell_type": "code",
   "execution_count": 6,
   "metadata": {
    "collapsed": true
   },
   "outputs": [],
   "source": [
    "# Key evaluation metrics used to generate Appendix Figure A24 of the paper\n",
    "cstat = [0.8805, 0.8762, 0.8778, 0.8916] + [0.8815, 0.8773, 0.8768, 0.8942] + [0.8861, 0.8807, 0.8884, 0.9096]\n",
    "m_dict = {'Logit': 'LR1', 'OLS': 'OLS',\n",
    "          'RF': 'RF', 'XGBoost': 'XGBoost'}\n",
    "m_list = ['Logit', 'OLS', 'RF', 'XGBoost']\n",
    "summary = []\n",
    "for c,m in zip(cstat[:4],m_list):\n",
    "    summary.append((m,\"10%\",\"full\",c)+tuple(pd.read_csv(results_dir + \"\\\\{}_precision_recall.csv\".format(m_dict[m])).iloc[0,1:]))\n",
    "for c,m in zip(cstat[4:8],m_list):\n",
    "    summary.append((m,\"10%\",\"10%\",c)+tuple(pd.read_csv(results_dir_new1 + \"\\\\{}_precision_recall.csv\".format(m_dict[m])).iloc[0,1:]))\n",
    "for c,m in zip(cstat[8:],m_list):\n",
    "    summary.append((m,\"full\",\"10%\",c)+tuple(pd.read_csv(results_dir_new2 + \"\\\\{}_precision_recall.csv\".format(m_dict[m])).iloc[0,1:]))\n",
    "summary_df = pd.DataFrame(summary, columns=['model', 'training_sample', 'validation_sample',\n",
    "                                            'c-statistic','threshold','precision_1','recall_1',\n",
    "                                            'precision_0','recall_0','f1_score_1'])\n",
    "summary_df.loc[:,'f1_score_0'] = 2*summary_df.precision_0*summary_df.recall_0/(summary_df.precision_0+summary_df.recall_0)\n",
    "summary_df.to_csv(results_dir + \"cleaned_results\\\\main_eval_metrics.csv\", index=False)"
   ]
  },
  {
   "cell_type": "code",
   "execution_count": null,
   "metadata": {
    "collapsed": true
   },
   "outputs": [],
   "source": []
  }
 ],
 "metadata": {
  "kernelspec": {
   "display_name": "Python 3",
   "language": "python",
   "name": "python3"
  },
  "language_info": {
   "codemirror_mode": {
    "name": "ipython",
    "version": 3
   },
   "file_extension": ".py",
   "mimetype": "text/x-python",
   "name": "python",
   "nbconvert_exporter": "python",
   "pygments_lexer": "ipython3",
   "version": "3.5.3"
  }
 },
 "nbformat": 4,
 "nbformat_minor": 2
}
