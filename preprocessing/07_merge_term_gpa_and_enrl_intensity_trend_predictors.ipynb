{
 "cells": [
  {
   "cell_type": "code",
   "execution_count": 20,
   "metadata": {
    "collapsed": true
   },
   "outputs": [],
   "source": [
    "import pickle\n",
    "import pandas as pd\n",
    "import glob\n",
    "fpath = \"/Users/ys8mz/Box Sync/Predictive Models of College Completion (VCCS)/intermediate_files\""
   ]
  },
  {
   "cell_type": "code",
   "execution_count": 22,
   "metadata": {
    "collapsed": true
   },
   "outputs": [],
   "source": [
    "merged_1 = {}\n",
    "for p in glob.glob(fpath + \"/term_enrl_intensity_trend_values/*.p\"):\n",
    "    new_d = pickle.load(open(p,\"rb\"))\n",
    "    merged_1 = {**merged_1, **new_d}\n",
    "merged_2 = {}\n",
    "for p in glob.glob(fpath + \"/term_gpa_trend_values/*.p\"):\n",
    "    new_d = pickle.load(open(p,\"rb\"))\n",
    "    merged_2 = {**merged_2, **new_d}"
   ]
  },
  {
   "cell_type": "code",
   "execution_count": 30,
   "metadata": {
    "collapsed": true
   },
   "outputs": [],
   "source": [
    "df1 = pd.DataFrame.from_dict(merged_1, orient='index').rename(columns={0:'enrl_intensity_trend'})\n",
    "df2 = pd.DataFrame.from_dict(merged_2, orient='index').rename(columns={0:'gpa_trend'})\n",
    "pd.concat([df1,df2], axis=1).reset_index().rename(columns={'index':'vccsid'}).sort_values(['vccsid'])\\\n",
    ".to_stata(fpath + \"/temp_12.dta\", write_index=False)"
   ]
  },
  {
   "cell_type": "code",
   "execution_count": null,
   "metadata": {
    "collapsed": true
   },
   "outputs": [],
   "source": []
  }
 ],
 "metadata": {
  "kernelspec": {
   "display_name": "Python 3",
   "language": "python",
   "name": "python3"
  },
  "language_info": {
   "codemirror_mode": {
    "name": "ipython",
    "version": 3
   },
   "file_extension": ".py",
   "mimetype": "text/x-python",
   "name": "python",
   "nbconvert_exporter": "python",
   "pygments_lexer": "ipython3",
   "version": "3.5.3"
  }
 },
 "nbformat": 4,
 "nbformat_minor": 2
}
