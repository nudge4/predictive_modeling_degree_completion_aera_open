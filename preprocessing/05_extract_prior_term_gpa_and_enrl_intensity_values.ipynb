{
 "cells": [
  {
   "cell_type": "code",
   "execution_count": 29,
   "metadata": {
    "collapsed": true
   },
   "outputs": [],
   "source": [
    "import pandas as pd\n",
    "import numpy as np\n",
    "import pickle"
   ]
  },
  {
   "cell_type": "code",
   "execution_count": 30,
   "metadata": {
    "collapsed": true
   },
   "outputs": [],
   "source": [
    "df = pd.read_stata(\"C:\\\\Users\\\\ys8mz\\\\Box Sync\\\\Predictive Models of College Completion (VCCS)\\\\intermediate_files\\\\temp_1.dta\")\n",
    "df = df.loc[:, ['vccsid', 'strm', 'term_cred_att', 'term_gpa']].sort_values(['vccsid', 'strm'])\n",
    "df.loc[:, 'term_cred_att'] = df.apply(lambda r: r.loc['term_cred_att']*1.5 if r.loc['strm'] % 10 == 3 else r.loc['term_cred_att'], axis=1)"
   ]
  },
  {
   "cell_type": "code",
   "execution_count": 18,
   "metadata": {},
   "outputs": [
    {
     "name": "stdout",
     "output_type": "stream",
     "text": [
      "0\n",
      "100000\n",
      "200000\n",
      "300000\n",
      "400000\n",
      "500000\n",
      "600000\n",
      "700000\n",
      "800000\n",
      "900000\n",
      "1000000\n"
     ]
    }
   ],
   "source": [
    "# term_enrl_intensity\n",
    "results_dict_1 = {}\n",
    "crnt_id = \"\"\n",
    "start_indx = 0\n",
    "for i in range(df.shape[0]):\n",
    "    if i%1e5 == 0:\n",
    "        print(i)\n",
    "    vccsid = df.iloc[i,0]\n",
    "    strm = df.iloc[i,1]\n",
    "    if vccsid != crnt_id:\n",
    "        if crnt_id != \"\":\n",
    "            results_dict_1[crnt_id] = [e for e in list(df.iloc[start_indx:i,-2]) if pd.isnull(e) == False]\n",
    "        crnt_id = vccsid\n",
    "        start_indx = i\n",
    "results_dict_1[crnt_id] = [e for e in list(df.iloc[start_indx:(i+1),-2]) if pd.isnull(e) == False]"
   ]
  },
  {
   "cell_type": "code",
   "execution_count": 19,
   "metadata": {},
   "outputs": [
    {
     "name": "stdout",
     "output_type": "stream",
     "text": [
      "0\n",
      "100000\n",
      "200000\n",
      "300000\n",
      "400000\n",
      "500000\n",
      "600000\n",
      "700000\n",
      "800000\n",
      "900000\n",
      "1000000\n"
     ]
    }
   ],
   "source": [
    "# term_gpa\n",
    "results_dict_2 = {}\n",
    "crnt_id = \"\"\n",
    "start_indx = 0\n",
    "for i in range(df.shape[0]):\n",
    "    if i%1e5 == 0:\n",
    "        print(i)\n",
    "    vccsid = df.iloc[i,0]\n",
    "    strm = df.iloc[i,1]\n",
    "    if vccsid != crnt_id:\n",
    "        if crnt_id != \"\":\n",
    "            results_dict_2[crnt_id] = [e for e in list(df.iloc[start_indx:i,-1]) if pd.isnull(e) == False]\n",
    "        crnt_id = vccsid\n",
    "        start_indx = i\n",
    "results_dict_2[crnt_id] = [e for e in list(df.iloc[start_indx:(i+1),-1]) if pd.isnull(e) == False]"
   ]
  },
  {
   "cell_type": "code",
   "execution_count": 24,
   "metadata": {
    "collapsed": true
   },
   "outputs": [],
   "source": [
    "fpath = \"C:\\\\Users\\\\ys8mz\\\\Box Sync\\\\Predictive Models of College Completion (VCCS)\\\\intermediate_files\"\n",
    "results_1 = [(k,v) for k,v in results_dict_1.items()]\n",
    "pickle.dump(results_1, open(\"{}\\\\results_1.p\".format(fpath), \"wb\"))\n",
    "results_2 = [(k,v) for k,v in results_dict_2.items()]\n",
    "pickle.dump(results_2, open(\"{}\\\\results_2.p\".format(fpath), \"wb\"))"
   ]
  },
  {
   "cell_type": "code",
   "execution_count": null,
   "metadata": {
    "collapsed": true
   },
   "outputs": [],
   "source": []
  }
 ],
 "metadata": {
  "kernelspec": {
   "display_name": "Python 3",
   "language": "python",
   "name": "python3"
  },
  "language_info": {
   "codemirror_mode": {
    "name": "ipython",
    "version": 3
   },
   "file_extension": ".py",
   "mimetype": "text/x-python",
   "name": "python",
   "nbconvert_exporter": "python",
   "pygments_lexer": "ipython3",
   "version": "3.5.3"
  }
 },
 "nbformat": 4,
 "nbformat_minor": 2
}
