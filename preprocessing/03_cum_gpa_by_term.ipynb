{
 "cells": [
  {
   "cell_type": "markdown",
   "metadata": {},
   "source": [
    "<b>Name:</b> cum_gpa_by_term.ipynb <br>\n",
    "<b>Author:</b> Yifeng Song <br>\n",
    "<b>Last Modified</b>: 08/23/2020 <br>\n",
    "<b>Purpose:</b> The raw VCCS data report the student GPA by student x college x term. This script will calculate the aggregated cumulative GPA value by student x term, which will be used in the subsequent steps of constructing the predictors of the training/validation sample for the predictive models."
   ]
  },
  {
   "cell_type": "code",
   "execution_count": 1,
   "metadata": {
    "collapsed": true
   },
   "outputs": [],
   "source": [
    "import os\n",
    "import getpass\n",
    "import pandas as pd\n",
    "import numpy as np\n",
    "import gc\n",
    "import subprocess\n",
    "\n",
    "home_dir = os.path.expanduser('~')\n",
    "fpath = os.path.join(home_dir, 'C:\\\\Users\\\\{}\\\\Box Sync\\\\VCCS data partnership\\\\vccs_project_data\\\\intermediate_files\\\\ys8mz\\\\{}'.format(getpass.getuser()))"
   ]
  },
  {
   "cell_type": "code",
   "execution_count": 2,
   "metadata": {},
   "outputs": [
    {
     "name": "stdout",
     "output_type": "stream",
     "text": [
      "[2003, 2004, 2012, 2013, 2014, 2022, 2023, 2024, 2032, 2033, 2034, 2042, 2043, 2044, 2052, 2053, 2054, 2062, 2063, 2064, 2072, 2073, 2074, 2082, 2083, 2084, 2092, 2093, 2094, 2102, 2103, 2104, 2112, 2113, 2114, 2122, 2123, 2124, 2132, 2133, 2134, 2142, 2143, 2144, 2152, 2153, 2154, 2162, 2163, 2164, 2172, 2173, 2174, 2182, 2183, 2184, 2192, 2193, 2194, 2202, 2203, 2204]\n"
     ]
    }
   ],
   "source": [
    "# Load the merged VCCS GPA data and keep the useful columns\n",
    "df = pd.read_stata(os.path.join(fpath, \"Merged_GPA.dta\"))\n",
    "df = df.loc[:,['vccsid', 'institution', 'collnum', 'strm', 'cum_gpa', 'tot_taken_prgrss']]\n",
    "all_terms = sorted(np.unique(df.strm))\n",
    "print(all_terms)"
   ]
  },
  {
   "cell_type": "code",
   "execution_count": 3,
   "metadata": {},
   "outputs": [
    {
     "name": "stdout",
     "output_type": "stream",
     "text": [
      "0\n",
      "100000\n",
      "200000\n",
      "300000\n",
      "400000\n",
      "500000\n",
      "600000\n",
      "700000\n",
      "800000\n",
      "900000\n",
      "1000000\n",
      "1100000\n",
      "1200000\n",
      "1300000\n",
      "1400000\n",
      "1500000\n",
      "1600000\n",
      "1700000\n",
      "1800000\n",
      "1900000\n",
      "2000000\n",
      "2100000\n",
      "2200000\n",
      "2300000\n",
      "2400000\n",
      "2500000\n",
      "2600000\n",
      "2700000\n",
      "2800000\n",
      "2900000\n",
      "3000000\n",
      "3100000\n",
      "3200000\n",
      "3300000\n",
      "3400000\n",
      "3500000\n",
      "3600000\n",
      "3700000\n",
      "3800000\n",
      "3900000\n",
      "4000000\n",
      "4100000\n",
      "4200000\n",
      "4300000\n",
      "4400000\n",
      "4500000\n",
      "4600000\n",
      "4700000\n",
      "4800000\n",
      "4900000\n",
      "5000000\n",
      "5100000\n",
      "5200000\n",
      "5300000\n",
      "5400000\n",
      "5500000\n",
      "5600000\n",
      "5700000\n",
      "5800000\n",
      "5900000\n",
      "6000000\n",
      "6100000\n",
      "6200000\n",
      "6300000\n",
      "6400000\n",
      "6500000\n",
      "6600000\n",
      "6700000\n",
      "6800000\n",
      "6900000\n",
      "7000000\n",
      "7100000\n",
      "7200000\n",
      "7300000\n",
      "7400000\n",
      "7500000\n",
      "7600000\n",
      "7700000\n",
      "7800000\n",
      "7900000\n",
      "8000000\n",
      "8100000\n",
      "8200000\n",
      "8300000\n",
      "8400000\n",
      "8500000\n",
      "8600000\n",
      "8700000\n",
      "8800000\n",
      "8900000\n",
      "9000000\n",
      "9100000\n",
      "9200000\n",
      "9300000\n",
      "9400000\n",
      "9500000\n",
      "9600000\n",
      "9700000\n",
      "9800000\n",
      "9900000\n",
      "10000000\n",
      "10100000\n",
      "10200000\n",
      "10300000\n",
      "10400000\n",
      "10500000\n",
      "10600000\n",
      "10700000\n",
      "10800000\n",
      "10900000\n",
      "11000000\n",
      "11100000\n",
      "11200000\n",
      "11300000\n",
      "11400000\n",
      "11500000\n",
      "11600000\n",
      "11700000\n",
      "11800000\n",
      "11900000\n",
      "12000000\n",
      "12100000\n",
      "12200000\n",
      "12300000\n",
      "12400000\n",
      "12500000\n",
      "12600000\n",
      "12700000\n",
      "12800000\n",
      "12900000\n",
      "13000000\n",
      "13100000\n",
      "13200000\n",
      "13300000\n",
      "13400000\n",
      "13500000\n",
      "13600000\n",
      "13700000\n",
      "13800000\n",
      "13900000\n",
      "14000000\n",
      "14100000\n",
      "14200000\n",
      "14300000\n",
      "14400000\n",
      "14500000\n",
      "14600000\n",
      "14700000\n",
      "14800000\n",
      "14900000\n",
      "15000000\n",
      "15100000\n",
      "15200000\n",
      "15300000\n",
      "15400000\n",
      "15500000\n",
      "15600000\n",
      "15700000\n",
      "15800000\n",
      "15900000\n",
      "16000000\n",
      "16100000\n",
      "16200000\n",
      "16300000\n",
      "16400000\n"
     ]
    },
    {
     "data": {
      "text/plain": [
       "14"
      ]
     },
     "execution_count": 3,
     "metadata": {},
     "output_type": "execute_result"
    }
   ],
   "source": [
    "# Construct the nested dictionary 'cum_gpa_dict', with the primary key being the student x collegename,\n",
    "# and the secondary key being the term number. And the values of inner dictionaries correspond to \n",
    "# the cumulative credits earned and the cumulative GPA at each college the student attended\n",
    "cum_gpa_dict = {}\n",
    "for i in range(df.shape[0]):\n",
    "    if i % 1e5 == 0: # keep running garbage collection in every 100000 observations processed to prevent memory leak\n",
    "        print(i)\n",
    "        gc.collect()\n",
    "    stuid = df.vccsid.iloc[i]\n",
    "    college = df.institution.iloc[i]\n",
    "    stuid_college = stuid + \"-\" + college\n",
    "    term = df.strm.iloc[i]\n",
    "    credits_gpa_pair = (df.tot_taken_prgrss.iloc[i], df.cum_gpa.iloc[i])\n",
    "    if stuid_college not in cum_gpa_dict:\n",
    "        cum_gpa_dict[stuid_college] = {term:credits_gpa_pair}\n",
    "    else:\n",
    "        cum_gpa_dict[stuid_college][term] = credits_gpa_pair\n",
    "del df\n",
    "gc.collect()"
   ]
  },
  {
   "cell_type": "code",
   "execution_count": 4,
   "metadata": {},
   "outputs": [
    {
     "name": "stdout",
     "output_type": "stream",
     "text": [
      "0\n",
      "100000\n",
      "200000\n",
      "300000\n",
      "400000\n",
      "500000\n",
      "600000\n",
      "700000\n",
      "800000\n",
      "900000\n",
      "1000000\n",
      "1100000\n",
      "1200000\n",
      "1300000\n",
      "1400000\n",
      "1500000\n",
      "1600000\n",
      "1700000\n",
      "1800000\n",
      "1900000\n",
      "2000000\n",
      "2100000\n",
      "2200000\n",
      "2300000\n",
      "2400000\n",
      "2500000\n",
      "2600000\n"
     ]
    },
    {
     "data": {
      "text/plain": [
       "0"
      ]
     },
     "execution_count": 4,
     "metadata": {},
     "output_type": "execute_result"
    }
   ],
   "source": [
    "# If a student didn't attend the college during the first semester (according to the merged data),\n",
    "# the values corresponding to the terms prior to the student's actual first term should be (0,0),\n",
    "# meaning 0 credits attempted and 0 GPA; a new nested dictionary \"cum_gpa_dict_2\" will be created;\n",
    "# If a student stopped out during a certain semester, the cumulative credits and GPA will be the\n",
    "# values of the most recent prior semester -- this will make it easier to calculate aggregated cumulative GPA\n",
    "first_term = all_terms[0]\n",
    "cum_gpa_dict_2 = {}\n",
    "i = 0\n",
    "for k,v in cum_gpa_dict.items():\n",
    "    if i % 1e5 == 0:\n",
    "        print(i)\n",
    "        gc.collect()\n",
    "    new_v = v.copy()\n",
    "    if first_term not in v:\n",
    "        new_v[first_term] = (0,0)\n",
    "    for indx,t in enumerate(all_terms[:-1]):\n",
    "        crnt_term = all_terms[indx+1]\n",
    "        if crnt_term not in new_v:\n",
    "            new_v[crnt_term] = new_v[t]\n",
    "    cum_gpa_dict_2[k] = new_v.copy()\n",
    "    i += 1\n",
    "del cum_gpa_dict\n",
    "gc.collect()"
   ]
  },
  {
   "cell_type": "code",
   "execution_count": 5,
   "metadata": {},
   "outputs": [
    {
     "name": "stdout",
     "output_type": "stream",
     "text": [
      "0\n",
      "100000\n",
      "200000\n",
      "300000\n",
      "400000\n",
      "500000\n",
      "600000\n",
      "700000\n",
      "800000\n",
      "900000\n",
      "1000000\n",
      "1100000\n",
      "1200000\n",
      "1300000\n",
      "1400000\n",
      "1500000\n",
      "1600000\n",
      "1700000\n",
      "1800000\n",
      "1900000\n",
      "2000000\n",
      "2100000\n",
      "2200000\n",
      "2300000\n",
      "2400000\n",
      "2500000\n",
      "2600000\n"
     ]
    },
    {
     "data": {
      "text/plain": [
       "0"
      ]
     },
     "execution_count": 5,
     "metadata": {},
     "output_type": "execute_result"
    }
   ],
   "source": [
    "# Create a new nested dictionary \"cum_gpa_dict_3\", which has student_id as the primary key,\n",
    "# and term number as the secondary, and the values in the inner dictionaries correspond to\n",
    "# the list of all pairs of cumulative credits earned & cumulative GPA of the student during\n",
    "# the term, with each pair corresponding to each college the student attended during that term\n",
    "cum_gpa_dict_3 = {}\n",
    "i = 0\n",
    "for k,v in cum_gpa_dict_2.items():\n",
    "    if i % 1e5 == 0:\n",
    "        print(i)\n",
    "        gc.collect()\n",
    "    stuid = k.split(\"-\")[0]\n",
    "    if stuid not in cum_gpa_dict_3:\n",
    "        cum_gpa_dict_3[stuid] = {k2:[v2] for k2,v2 in v.items()}\n",
    "    else:\n",
    "        for k2,v2 in v.items():\n",
    "            cum_gpa_dict_3[stuid][k2].append(v2)\n",
    "    i += 1\n",
    "del cum_gpa_dict_2\n",
    "gc.collect()"
   ]
  },
  {
   "cell_type": "code",
   "execution_count": 6,
   "metadata": {
    "collapsed": true
   },
   "outputs": [],
   "source": [
    "def calc_agg_cum_gpa(l):\n",
    "    # This function calculates the aggregated cumulative GPA of the student during each term:\n",
    "    # If the student attended more than one institution, the aggregated cumulative GPA will be\n",
    "    # the weighted average of the cumulative GPA of all colleges student has ever attended so far,\n",
    "    # even if the student is only actively enrolled in one college during a certain term\n",
    "    a = np.array(l)\n",
    "    if a.shape[0] == 1:\n",
    "        if a[0,0] > 0:\n",
    "            r = a[0,1]\n",
    "        else:\n",
    "            r = np.nan\n",
    "    else:\n",
    "        a = np.array(l)\n",
    "        a[:,1] = a[:,0]*a[:,1]\n",
    "        b = np.sum(a,axis=0)\n",
    "        if b[0] == 0:\n",
    "            r = np.nan\n",
    "        else:\n",
    "            r = b[1]/b[0]\n",
    "    if pd.isnull(r):\n",
    "        return r\n",
    "    else:\n",
    "        return round(r,3)"
   ]
  },
  {
   "cell_type": "code",
   "execution_count": 7,
   "metadata": {
    "scrolled": true
   },
   "outputs": [
    {
     "name": "stdout",
     "output_type": "stream",
     "text": [
      "0\n",
      "100000\n",
      "200000\n",
      "300000\n",
      "400000\n",
      "500000\n",
      "600000\n",
      "700000\n",
      "800000\n",
      "900000\n",
      "1000000\n",
      "1100000\n",
      "1200000\n",
      "1300000\n",
      "1400000\n",
      "1500000\n",
      "1600000\n",
      "1700000\n",
      "1800000\n",
      "1900000\n",
      "2000000\n",
      "2100000\n",
      "2200000\n"
     ]
    },
    {
     "data": {
      "text/plain": [
       "0"
      ]
     },
     "execution_count": 7,
     "metadata": {},
     "output_type": "execute_result"
    }
   ],
   "source": [
    "# create the nested dictionary \"agg_cum_gpa\", which has student_id as the primary key and term number as the secondary key,\n",
    "# and there is one aggregated GPA value corresponding to each student x term\n",
    "agg_cum_gpa = {}\n",
    "i = 0\n",
    "for k,v in cum_gpa_dict_3.items():\n",
    "    if i % 1e5 == 0:\n",
    "        print(i)\n",
    "        gc.collect()\n",
    "    agg_cum_gpa[k] = {k2:calc_agg_cum_gpa(v2) for k2,v2 in v.items()}\n",
    "    i += 1\n",
    "del cum_gpa_dict_3\n",
    "gc.collect()"
   ]
  },
  {
   "cell_type": "code",
   "execution_count": 8,
   "metadata": {
    "collapsed": true
   },
   "outputs": [],
   "source": [
    "# Final cleanup and transform the aggregated cumulative GPA data from dictionary format into tabular format,\n",
    "# save the tabular data to file in the .dta file format\n",
    "final_df = pd.DataFrame.from_dict(agg_cum_gpa, orient=\"index\")\n",
    "final_df = final_df.loc[:,sorted(final_df.columns.values)] # The column names are order by term\n",
    "gc.collect()\n",
    "final_df.columns = [\"term_\" + str(cn) for cn in final_df.columns.values] # Add prefix \"term_\" to column names\n",
    "final_df.reset_index(inplace=True)\n",
    "final_df.rename(columns = {'index':'vccsid'}, inplace=True)\n",
    "final_df.to_stata(os.path.join(fpath, \"agg_cum_gpa_by_term.dta\"), write_index=False)"
   ]
  },
  {
   "cell_type": "code",
   "execution_count": null,
   "metadata": {
    "collapsed": true
   },
   "outputs": [],
   "source": []
  }
 ],
 "metadata": {
  "kernelspec": {
   "display_name": "Python 3",
   "language": "python",
   "name": "python3"
  },
  "language_info": {
   "codemirror_mode": {
    "name": "ipython",
    "version": 3
   },
   "file_extension": ".py",
   "mimetype": "text/x-python",
   "name": "python",
   "nbconvert_exporter": "python",
   "pygments_lexer": "ipython3",
   "version": "3.5.3"
  }
 },
 "nbformat": 4,
 "nbformat_minor": 2
}
