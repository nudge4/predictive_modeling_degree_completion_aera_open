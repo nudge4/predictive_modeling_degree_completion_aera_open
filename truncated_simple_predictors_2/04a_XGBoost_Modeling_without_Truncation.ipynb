{
 "cells": [
  {
   "cell_type": "code",
   "execution_count": 1,
   "metadata": {
    "collapsed": true
   },
   "outputs": [],
   "source": [
    "import pickle\n",
    "from scipy.stats.mstats import gmean\n",
    "import pandas as pd\n",
    "import numpy as np\n",
    "from sklearn.metrics import precision_recall_curve, roc_auc_score, confusion_matrix, precision_score, recall_score\n",
    "from sklearn.model_selection import KFold, StratifiedKFold\n",
    "from scipy.stats.mstats import gmean\n",
    "import xgboost as xgb\n",
    "from collections import Counter\n",
    "import seaborn as sns\n",
    "import matplotlib.pyplot as plt\n",
    "%matplotlib inline\n",
    "fpath = \"/Users/ys8mz/Box Sync/Predictive Models of College Completion (VCCS)/intermediate_files\""
   ]
  },
  {
   "cell_type": "code",
   "execution_count": 2,
   "metadata": {
    "collapsed": true
   },
   "outputs": [],
   "source": [
    "df1 = pd.read_stata(fpath + \"/full_data_6yr.dta\")\n",
    "df1 = df1[df1.valid == 0]\n",
    "df1.loc[:,'first_gen_0'] = df1.phe_1 + df1.phe_2 + df1.phe_3\n",
    "df1.loc[:,'first_gen_1'] = df1.phe_4 + df1.phe_5 + df1.phe_6 + df1.phe_7\n",
    "for v in ['term_cred_att_', 'enrolled_']:\n",
    "    df1.loc[:,v+\"sum\"] = 0\n",
    "    for t1 in ['sp','su','fa']:\n",
    "        for t2 in range(1,7):\n",
    "            t = t1+str(t2)\n",
    "            df1.loc[:,v+\"sum\"] = df1.loc[:,v+\"sum\"] + df1.loc[:,v+t]\n",
    "df1.loc[:,'avg_cred_att'] = df1.term_cred_att_sum / df1.enrolled_sum\n",
    "df1.loc[:,'pct_enrolled'] = df1.enrolled_sum / 18"
   ]
  },
  {
   "cell_type": "code",
   "execution_count": 3,
   "metadata": {
    "collapsed": true
   },
   "outputs": [],
   "source": [
    "df2 = pd.read_stata(fpath + \"/full_data_truncated.dta\")\n",
    "df2 = df2[df2.valid == 1]\n",
    "df2.loc[:,'first_gen_0'] = df2.phe_1 + df2.phe_2 + df2.phe_3\n",
    "df2.loc[:,'first_gen_1'] = df2.phe_4 + df2.phe_5 + df2.phe_6 + df2.phe_7\n",
    "for v in ['term_cred_att_', 'enrolled_', 'available_']:\n",
    "    df2.loc[:,v+\"sum\"] = 0\n",
    "    for t1 in ['sp','su','fa']:\n",
    "        for t2 in range(1,7):\n",
    "            t = t1+str(t2)\n",
    "            df2.loc[:,v+\"sum\"] = df2.loc[:,v+\"sum\"] + df2.loc[:,v+t]\n",
    "df2.loc[:,'avg_cred_att'] = df2.term_cred_att_sum / df2.enrolled_sum\n",
    "df2.loc[:,'pct_enrolled'] = df2.enrolled_sum / df2.available_sum"
   ]
  },
  {
   "cell_type": "code",
   "execution_count": 4,
   "metadata": {
    "collapsed": true
   },
   "outputs": [],
   "source": [
    "df = pd.concat([df1,df2], join='inner')"
   ]
  },
  {
   "cell_type": "markdown",
   "metadata": {},
   "source": [
    "##### **Note: This model variant only includes 14 predictors, which are all simple non-term-specific predictors"
   ]
  },
  {
   "cell_type": "code",
   "execution_count": 5,
   "metadata": {},
   "outputs": [
    {
     "name": "stdout",
     "output_type": "stream",
     "text": [
      "13\n"
     ]
    }
   ],
   "source": [
    "predictors = ['male', 'afam', 'white', 'hisp', 'other', 'first_gen_0', 'first_gen_1', 'cum_gpa', 'pct_enrolled', 'avg_cred_att', 'prop_comp', 'pell_0_ind', 'pell_1_ind']\n",
    "print(len(predictors))\n",
    "impute_list_3 = set([\"cum_gpa\", \"prop_comp\"])"
   ]
  },
  {
   "cell_type": "code",
   "execution_count": 6,
   "metadata": {},
   "outputs": [
    {
     "name": "stdout",
     "output_type": "stream",
     "text": [
      "(300144, 329) (33115, 329)\n"
     ]
    }
   ],
   "source": [
    "train_df = df[df.valid == 0]\n",
    "test_df = df[df.valid == 1]\n",
    "print(train_df.shape,test_df.shape)"
   ]
  },
  {
   "cell_type": "code",
   "execution_count": 7,
   "metadata": {
    "collapsed": true
   },
   "outputs": [],
   "source": [
    "def impute(train, test):\n",
    "    for p in impute_list_3:\n",
    "        avg_p = np.nanmean(train[p])\n",
    "        train.loc[:,p] = train.loc[:,p].apply(lambda x: avg_p if pd.isnull(x) else x)\n",
    "        test.loc[:,p] = test.loc[:,p].apply(lambda x: avg_p if pd.isnull(x) else x)\n",
    "    return train, test     "
   ]
  },
  {
   "cell_type": "code",
   "execution_count": 8,
   "metadata": {},
   "outputs": [
    {
     "name": "stderr",
     "output_type": "stream",
     "text": [
      "C:\\Users\\ys8mz\\AppData\\Local\\Continuum\\Anaconda3\\lib\\site-packages\\pandas\\core\\indexing.py:543: SettingWithCopyWarning: \n",
      "A value is trying to be set on a copy of a slice from a DataFrame.\n",
      "Try using .loc[row_indexer,col_indexer] = value instead\n",
      "\n",
      "See the caveats in the documentation: http://pandas.pydata.org/pandas-docs/stable/indexing.html#indexing-view-versus-copy\n",
      "  self.obj[item] = s\n"
     ]
    }
   ],
   "source": [
    "train_df_new, test_df_new = impute(train_df, test_df)\n",
    "X_train = train_df_new.loc[:,predictors]\n",
    "y_train = train_df_new.grad_6years\n",
    "X_test = test_df_new.loc[:,predictors]\n",
    "y_test = test_df_new.grad_6years"
   ]
  },
  {
   "cell_type": "code",
   "execution_count": 9,
   "metadata": {
    "collapsed": true
   },
   "outputs": [],
   "source": [
    "dtrain = xgb.DMatrix(X_train, y_train)\n",
    "dtest = xgb.DMatrix(X_test, y_test)"
   ]
  },
  {
   "cell_type": "code",
   "execution_count": 10,
   "metadata": {},
   "outputs": [
    {
     "name": "stderr",
     "output_type": "stream",
     "text": [
      "C:\\Users\\ys8mz\\AppData\\Local\\Continuum\\Anaconda3\\lib\\site-packages\\pandas\\core\\indexing.py:543: SettingWithCopyWarning: \n",
      "A value is trying to be set on a copy of a slice from a DataFrame.\n",
      "Try using .loc[row_indexer,col_indexer] = value instead\n",
      "\n",
      "See the caveats in the documentation: http://pandas.pydata.org/pandas-docs/stable/indexing.html#indexing-view-versus-copy\n",
      "  self.obj[item] = s\n"
     ]
    }
   ],
   "source": [
    "np.random.seed(4321)\n",
    "val_indices = np.random.choice(train_df.shape[0], int(np.floor(train_df.shape[0]*0.15)), replace=False)\n",
    "train_val = train_df.iloc[val_indices,:]\n",
    "train_train = train_df.iloc[np.setdiff1d(np.arange(train_df.shape[0]), val_indices),:]\n",
    "train_train_new, train_val_new = impute(train_train, train_val)\n",
    "X_train_train = train_train_new.loc[:,predictors]\n",
    "y_train_train = train_train_new.grad_6years\n",
    "X_train_val = train_val_new.loc[:,predictors]\n",
    "y_train_val = train_val_new.grad_6years"
   ]
  },
  {
   "cell_type": "code",
   "execution_count": 11,
   "metadata": {
    "collapsed": true
   },
   "outputs": [],
   "source": [
    "dtrain_train = xgb.DMatrix(X_train_train, y_train_train)\n",
    "dtrain_val = xgb.DMatrix(X_train_val, y_train_val)"
   ]
  },
  {
   "cell_type": "code",
   "execution_count": 12,
   "metadata": {
    "collapsed": true
   },
   "outputs": [],
   "source": [
    "results_dir = \"C:\\\\Users\\\\ys8mz\\\\Box Sync\\\\Predictive Models of College Completion (VCCS)\\\\evaluation_results\\\\truncated_simple_predictors_2\\\\no_truncation\\\\\""
   ]
  },
  {
   "cell_type": "markdown",
   "metadata": {},
   "source": [
    "#### (1) Grid Search for max_depth and eta (learning rate)"
   ]
  },
  {
   "cell_type": "code",
   "execution_count": 13,
   "metadata": {},
   "outputs": [
    {
     "name": "stdout",
     "output_type": "stream",
     "text": [
      "max_depth = 4, eta = 0.01:\n",
      "[0]\tvalidation-auc:0.838963\n",
      "Will train until validation-auc hasn't improved in 10 rounds.\n",
      "[50]\tvalidation-auc:0.85669\n",
      "[100]\tvalidation-auc:0.859617\n",
      "[150]\tvalidation-auc:0.861582\n",
      "[200]\tvalidation-auc:0.863102\n",
      "[250]\tvalidation-auc:0.864313\n",
      "[300]\tvalidation-auc:0.865424\n",
      "[350]\tvalidation-auc:0.866462\n",
      "[400]\tvalidation-auc:0.867331\n",
      "[450]\tvalidation-auc:0.868076\n",
      "[500]\tvalidation-auc:0.868642\n",
      "[550]\tvalidation-auc:0.869071\n",
      "[600]\tvalidation-auc:0.869403\n",
      "[650]\tvalidation-auc:0.869689\n",
      "[700]\tvalidation-auc:0.869956\n",
      "[750]\tvalidation-auc:0.870178\n",
      "[800]\tvalidation-auc:0.870373\n",
      "[850]\tvalidation-auc:0.870558\n",
      "[900]\tvalidation-auc:0.870713\n",
      "[950]\tvalidation-auc:0.870888\n",
      "[1000]\tvalidation-auc:0.871023\n",
      "[1050]\tvalidation-auc:0.87117\n",
      "[1100]\tvalidation-auc:0.871289\n",
      "[1150]\tvalidation-auc:0.871398\n",
      "[1200]\tvalidation-auc:0.8715\n",
      "[1250]\tvalidation-auc:0.871579\n",
      "[1300]\tvalidation-auc:0.871682\n",
      "[1350]\tvalidation-auc:0.871756\n",
      "[1400]\tvalidation-auc:0.871846\n",
      "[1450]\tvalidation-auc:0.871904\n",
      "[1500]\tvalidation-auc:0.871987\n",
      "[1550]\tvalidation-auc:0.872065\n",
      "[1600]\tvalidation-auc:0.872121\n",
      "[1650]\tvalidation-auc:0.872188\n",
      "[1700]\tvalidation-auc:0.872245\n",
      "[1750]\tvalidation-auc:0.872292\n",
      "[1800]\tvalidation-auc:0.872342\n",
      "[1850]\tvalidation-auc:0.872377\n",
      "[1900]\tvalidation-auc:0.872424\n",
      "[1950]\tvalidation-auc:0.872458\n",
      "[2000]\tvalidation-auc:0.872499\n",
      "[2050]\tvalidation-auc:0.872531\n",
      "[2100]\tvalidation-auc:0.872561\n",
      "[2150]\tvalidation-auc:0.872593\n",
      "[2200]\tvalidation-auc:0.872618\n",
      "[2250]\tvalidation-auc:0.872645\n",
      "[2300]\tvalidation-auc:0.872675\n",
      "[2350]\tvalidation-auc:0.872706\n",
      "[2400]\tvalidation-auc:0.872726\n",
      "[2450]\tvalidation-auc:0.872751\n",
      "[2500]\tvalidation-auc:0.872776\n",
      "[2550]\tvalidation-auc:0.8728\n",
      "Stopping. Best iteration:\n",
      "[2556]\tvalidation-auc:0.872805\n",
      "\n",
      "\n",
      "max_depth = 4, eta = 0.02:\n",
      "[0]\tvalidation-auc:0.838963\n",
      "Will train until validation-auc hasn't improved in 10 rounds.\n",
      "[50]\tvalidation-auc:0.85977\n",
      "[100]\tvalidation-auc:0.863076\n",
      "[150]\tvalidation-auc:0.865534\n",
      "[200]\tvalidation-auc:0.867431\n",
      "[250]\tvalidation-auc:0.868743\n",
      "[300]\tvalidation-auc:0.869517\n",
      "[350]\tvalidation-auc:0.870088\n",
      "[400]\tvalidation-auc:0.870489\n",
      "[450]\tvalidation-auc:0.870869\n",
      "[500]\tvalidation-auc:0.871156\n",
      "[550]\tvalidation-auc:0.871392\n",
      "[600]\tvalidation-auc:0.871598\n",
      "[650]\tvalidation-auc:0.871779\n",
      "[700]\tvalidation-auc:0.871904\n",
      "[750]\tvalidation-auc:0.872035\n",
      "[800]\tvalidation-auc:0.872167\n",
      "[850]\tvalidation-auc:0.872288\n",
      "[900]\tvalidation-auc:0.872392\n",
      "[950]\tvalidation-auc:0.872476\n",
      "[1000]\tvalidation-auc:0.872529\n",
      "[1050]\tvalidation-auc:0.872586\n",
      "[1100]\tvalidation-auc:0.872642\n",
      "[1150]\tvalidation-auc:0.872715\n",
      "Stopping. Best iteration:\n",
      "[1177]\tvalidation-auc:0.872751\n",
      "\n",
      "\n",
      "max_depth = 4, eta = 0.05:\n",
      "[0]\tvalidation-auc:0.838963\n",
      "Will train until validation-auc hasn't improved in 10 rounds.\n",
      "[50]\tvalidation-auc:0.864539\n",
      "[100]\tvalidation-auc:0.868477\n",
      "[150]\tvalidation-auc:0.87005\n",
      "[200]\tvalidation-auc:0.870869\n",
      "[250]\tvalidation-auc:0.871521\n",
      "[300]\tvalidation-auc:0.871932\n",
      "[350]\tvalidation-auc:0.872171\n",
      "[400]\tvalidation-auc:0.872363\n",
      "[450]\tvalidation-auc:0.872507\n",
      "[500]\tvalidation-auc:0.872626\n",
      "[550]\tvalidation-auc:0.872743\n",
      "[600]\tvalidation-auc:0.872825\n",
      "[650]\tvalidation-auc:0.872904\n",
      "Stopping. Best iteration:\n",
      "[669]\tvalidation-auc:0.872932\n",
      "\n",
      "\n",
      "max_depth = 4, eta = 0.1:\n",
      "[0]\tvalidation-auc:0.838963\n",
      "Will train until validation-auc hasn't improved in 10 rounds.\n",
      "[50]\tvalidation-auc:0.868624\n",
      "[100]\tvalidation-auc:0.870963\n",
      "[150]\tvalidation-auc:0.871986\n",
      "[200]\tvalidation-auc:0.872354\n",
      "[250]\tvalidation-auc:0.872572\n",
      "[300]\tvalidation-auc:0.872716\n",
      "Stopping. Best iteration:\n",
      "[292]\tvalidation-auc:0.872726\n",
      "\n",
      "\n",
      "max_depth = 4, eta = 0.2:\n",
      "[0]\tvalidation-auc:0.838963\n",
      "Will train until validation-auc hasn't improved in 10 rounds.\n",
      "[50]\tvalidation-auc:0.870667\n",
      "[100]\tvalidation-auc:0.87199\n",
      "Stopping. Best iteration:\n",
      "[135]\tvalidation-auc:0.872238\n",
      "\n",
      "\n",
      "max_depth = 5, eta = 0.01:\n",
      "[0]\tvalidation-auc:0.848008\n",
      "Will train until validation-auc hasn't improved in 10 rounds.\n",
      "[50]\tvalidation-auc:0.860701\n",
      "[100]\tvalidation-auc:0.862913\n",
      "[150]\tvalidation-auc:0.864817\n",
      "[200]\tvalidation-auc:0.866146\n",
      "[250]\tvalidation-auc:0.86729\n",
      "[300]\tvalidation-auc:0.868267\n",
      "[350]\tvalidation-auc:0.869049\n",
      "[400]\tvalidation-auc:0.869584\n",
      "[450]\tvalidation-auc:0.870093\n",
      "[500]\tvalidation-auc:0.870521\n",
      "[550]\tvalidation-auc:0.870848\n",
      "[600]\tvalidation-auc:0.871106\n",
      "[650]\tvalidation-auc:0.871345\n",
      "[700]\tvalidation-auc:0.87156\n",
      "[750]\tvalidation-auc:0.87174\n",
      "[800]\tvalidation-auc:0.871899\n",
      "[850]\tvalidation-auc:0.872038\n",
      "[900]\tvalidation-auc:0.872161\n",
      "[950]\tvalidation-auc:0.872285\n",
      "[1000]\tvalidation-auc:0.87237\n",
      "[1050]\tvalidation-auc:0.872457\n",
      "[1100]\tvalidation-auc:0.872532\n",
      "[1150]\tvalidation-auc:0.872603\n",
      "[1200]\tvalidation-auc:0.872685\n",
      "[1250]\tvalidation-auc:0.872733\n",
      "[1300]\tvalidation-auc:0.872782\n",
      "[1350]\tvalidation-auc:0.872821\n",
      "[1400]\tvalidation-auc:0.872883\n",
      "[1450]\tvalidation-auc:0.872911\n",
      "[1500]\tvalidation-auc:0.872959\n",
      "[1550]\tvalidation-auc:0.872981\n",
      "[1600]\tvalidation-auc:0.873018\n",
      "[1650]\tvalidation-auc:0.873048\n",
      "[1700]\tvalidation-auc:0.873081\n",
      "Stopping. Best iteration:\n",
      "[1703]\tvalidation-auc:0.873082\n",
      "\n",
      "\n",
      "max_depth = 5, eta = 0.02:\n",
      "[0]\tvalidation-auc:0.848008\n",
      "Will train until validation-auc hasn't improved in 10 rounds.\n",
      "[50]\tvalidation-auc:0.863025\n",
      "[100]\tvalidation-auc:0.865969\n",
      "[150]\tvalidation-auc:0.868262\n",
      "[200]\tvalidation-auc:0.869493\n",
      "[250]\tvalidation-auc:0.87041\n",
      "[300]\tvalidation-auc:0.871032\n",
      "[350]\tvalidation-auc:0.871462\n",
      "[400]\tvalidation-auc:0.871753\n",
      "[450]\tvalidation-auc:0.872028\n",
      "[500]\tvalidation-auc:0.872229\n",
      "[550]\tvalidation-auc:0.872382\n",
      "[600]\tvalidation-auc:0.872534\n",
      "[650]\tvalidation-auc:0.87265\n",
      "[700]\tvalidation-auc:0.872739\n",
      "[750]\tvalidation-auc:0.872848\n",
      "Stopping. Best iteration:\n",
      "[786]\tvalidation-auc:0.87291\n",
      "\n",
      "\n",
      "max_depth = 5, eta = 0.05:\n",
      "[0]\tvalidation-auc:0.848008\n",
      "Will train until validation-auc hasn't improved in 10 rounds.\n",
      "[50]\tvalidation-auc:0.867524\n",
      "[100]\tvalidation-auc:0.870506\n",
      "[150]\tvalidation-auc:0.871705\n",
      "[200]\tvalidation-auc:0.872238\n",
      "[250]\tvalidation-auc:0.872563\n",
      "[300]\tvalidation-auc:0.872847\n",
      "[350]\tvalidation-auc:0.873014\n",
      "Stopping. Best iteration:\n",
      "[377]\tvalidation-auc:0.873088\n",
      "\n",
      "\n",
      "max_depth = 5, eta = 0.1:\n",
      "[0]\tvalidation-auc:0.848008\n",
      "Will train until validation-auc hasn't improved in 10 rounds.\n",
      "[50]\tvalidation-auc:0.870551\n",
      "[100]\tvalidation-auc:0.872179\n",
      "[150]\tvalidation-auc:0.872801\n",
      "Stopping. Best iteration:\n",
      "[183]\tvalidation-auc:0.872918\n",
      "\n",
      "\n",
      "max_depth = 5, eta = 0.2:\n",
      "[0]\tvalidation-auc:0.848008\n",
      "Will train until validation-auc hasn't improved in 10 rounds.\n",
      "[50]\tvalidation-auc:0.871888\n",
      "[100]\tvalidation-auc:0.872465\n",
      "Stopping. Best iteration:\n",
      "[103]\tvalidation-auc:0.872495\n",
      "\n",
      "\n",
      "max_depth = 6, eta = 0.01:\n",
      "[0]\tvalidation-auc:0.854912\n",
      "Will train until validation-auc hasn't improved in 10 rounds.\n",
      "[50]\tvalidation-auc:0.864916\n",
      "[100]\tvalidation-auc:0.866103\n",
      "[150]\tvalidation-auc:0.867366\n",
      "[200]\tvalidation-auc:0.868379\n",
      "[250]\tvalidation-auc:0.869182\n",
      "[300]\tvalidation-auc:0.869945\n",
      "[350]\tvalidation-auc:0.870576\n",
      "[400]\tvalidation-auc:0.87098\n",
      "[450]\tvalidation-auc:0.871374\n",
      "[500]\tvalidation-auc:0.871709\n",
      "[550]\tvalidation-auc:0.871963\n",
      "[600]\tvalidation-auc:0.872161\n",
      "[650]\tvalidation-auc:0.872332\n",
      "[700]\tvalidation-auc:0.87249\n",
      "[750]\tvalidation-auc:0.872613\n",
      "[800]\tvalidation-auc:0.87271\n",
      "[850]\tvalidation-auc:0.872807\n",
      "[900]\tvalidation-auc:0.872908\n",
      "[950]\tvalidation-auc:0.87298\n",
      "[1000]\tvalidation-auc:0.873023\n",
      "[1050]\tvalidation-auc:0.873075\n",
      "[1100]\tvalidation-auc:0.873111\n",
      "[1150]\tvalidation-auc:0.873151\n",
      "[1200]\tvalidation-auc:0.873198\n",
      "[1250]\tvalidation-auc:0.873235\n",
      "[1300]\tvalidation-auc:0.873273\n",
      "Stopping. Best iteration:\n",
      "[1335]\tvalidation-auc:0.87329\n",
      "\n",
      "\n",
      "max_depth = 6, eta = 0.02:\n",
      "[0]\tvalidation-auc:0.854912\n",
      "Will train until validation-auc hasn't improved in 10 rounds.\n",
      "[50]\tvalidation-auc:0.866166\n",
      "[100]\tvalidation-auc:0.868203\n",
      "[150]\tvalidation-auc:0.869947\n",
      "[200]\tvalidation-auc:0.870977\n",
      "[250]\tvalidation-auc:0.871679\n",
      "[300]\tvalidation-auc:0.872145\n",
      "[350]\tvalidation-auc:0.872461\n",
      "[400]\tvalidation-auc:0.872682\n",
      "[450]\tvalidation-auc:0.872852\n",
      "[500]\tvalidation-auc:0.872981\n",
      "[550]\tvalidation-auc:0.873057\n",
      "[600]\tvalidation-auc:0.873145\n",
      "[650]\tvalidation-auc:0.873211\n",
      "[700]\tvalidation-auc:0.87326\n",
      "[750]\tvalidation-auc:0.873301\n",
      "Stopping. Best iteration:\n",
      "[781]\tvalidation-auc:0.873342\n",
      "\n",
      "\n",
      "max_depth = 6, eta = 0.05:\n",
      "[0]\tvalidation-auc:0.854912\n",
      "Will train until validation-auc hasn't improved in 10 rounds.\n",
      "[50]\tvalidation-auc:0.869344\n",
      "[100]\tvalidation-auc:0.871664\n"
     ]
    },
    {
     "name": "stdout",
     "output_type": "stream",
     "text": [
      "[150]\tvalidation-auc:0.87253\n",
      "[200]\tvalidation-auc:0.872826\n",
      "[250]\tvalidation-auc:0.873081\n",
      "[300]\tvalidation-auc:0.873221\n",
      "[350]\tvalidation-auc:0.873365\n",
      "Stopping. Best iteration:\n",
      "[376]\tvalidation-auc:0.873423\n",
      "\n",
      "\n",
      "max_depth = 6, eta = 0.1:\n",
      "[0]\tvalidation-auc:0.854912\n",
      "Will train until validation-auc hasn't improved in 10 rounds.\n",
      "[50]\tvalidation-auc:0.871833\n",
      "[100]\tvalidation-auc:0.872795\n",
      "[150]\tvalidation-auc:0.873191\n",
      "Stopping. Best iteration:\n",
      "[157]\tvalidation-auc:0.87323\n",
      "\n",
      "\n",
      "max_depth = 6, eta = 0.2:\n",
      "[0]\tvalidation-auc:0.854912\n",
      "Will train until validation-auc hasn't improved in 10 rounds.\n",
      "[50]\tvalidation-auc:0.872317\n",
      "Stopping. Best iteration:\n",
      "[85]\tvalidation-auc:0.872624\n",
      "\n",
      "\n",
      "max_depth = 7, eta = 0.01:\n",
      "[0]\tvalidation-auc:0.859433\n",
      "Will train until validation-auc hasn't improved in 10 rounds.\n",
      "[50]\tvalidation-auc:0.867418\n",
      "[100]\tvalidation-auc:0.868145\n",
      "[150]\tvalidation-auc:0.869155\n",
      "[200]\tvalidation-auc:0.869896\n",
      "[250]\tvalidation-auc:0.870506\n",
      "[300]\tvalidation-auc:0.871095\n",
      "[350]\tvalidation-auc:0.871615\n",
      "[400]\tvalidation-auc:0.871927\n",
      "[450]\tvalidation-auc:0.872199\n",
      "[500]\tvalidation-auc:0.872425\n",
      "[550]\tvalidation-auc:0.872608\n",
      "[600]\tvalidation-auc:0.872749\n",
      "[650]\tvalidation-auc:0.87287\n",
      "[700]\tvalidation-auc:0.872977\n",
      "[750]\tvalidation-auc:0.873054\n",
      "[800]\tvalidation-auc:0.873117\n",
      "[850]\tvalidation-auc:0.873178\n",
      "[900]\tvalidation-auc:0.873234\n",
      "[950]\tvalidation-auc:0.87327\n",
      "Stopping. Best iteration:\n",
      "[954]\tvalidation-auc:0.873281\n",
      "\n",
      "\n",
      "max_depth = 7, eta = 0.02:\n",
      "[0]\tvalidation-auc:0.859433\n",
      "Will train until validation-auc hasn't improved in 10 rounds.\n",
      "[50]\tvalidation-auc:0.868395\n",
      "[100]\tvalidation-auc:0.869863\n",
      "[150]\tvalidation-auc:0.87115\n",
      "[200]\tvalidation-auc:0.871941\n",
      "[250]\tvalidation-auc:0.872438\n",
      "[300]\tvalidation-auc:0.872764\n",
      "[350]\tvalidation-auc:0.872995\n",
      "[400]\tvalidation-auc:0.873113\n",
      "[450]\tvalidation-auc:0.873219\n",
      "Stopping. Best iteration:\n",
      "[472]\tvalidation-auc:0.873245\n",
      "\n",
      "\n",
      "max_depth = 7, eta = 0.05:\n",
      "[0]\tvalidation-auc:0.859433\n",
      "Will train until validation-auc hasn't improved in 10 rounds.\n",
      "[50]\tvalidation-auc:0.870593\n",
      "[100]\tvalidation-auc:0.872245\n",
      "[150]\tvalidation-auc:0.872959\n",
      "Stopping. Best iteration:\n",
      "[183]\tvalidation-auc:0.873109\n",
      "\n",
      "\n",
      "max_depth = 7, eta = 0.1:\n",
      "[0]\tvalidation-auc:0.859433\n",
      "Will train until validation-auc hasn't improved in 10 rounds.\n",
      "[50]\tvalidation-auc:0.872343\n",
      "[100]\tvalidation-auc:0.873035\n",
      "Stopping. Best iteration:\n",
      "[135]\tvalidation-auc:0.873168\n",
      "\n",
      "\n",
      "max_depth = 7, eta = 0.2:\n",
      "[0]\tvalidation-auc:0.859433\n",
      "Will train until validation-auc hasn't improved in 10 rounds.\n",
      "[50]\tvalidation-auc:0.872889\n",
      "Stopping. Best iteration:\n",
      "[69]\tvalidation-auc:0.873084\n",
      "\n",
      "\n"
     ]
    }
   ],
   "source": [
    "grid_1 = [(md,e) for md in range(4,8) for e in [0.01, 0.02, 0.05, 0.1, 0.2]]\n",
    "validation_auc_1 = Counter()\n",
    "for md,e in grid_1:\n",
    "    print(\"max_depth = {0}, eta = {1}:\".format(md,e))\n",
    "    params = {'max_depth': md, 'eta': e, 'min_child_weight': 1, 'colsample_bytree': 0.8, \n",
    "              'subsample': 0.8, \n",
    "              'objective': 'binary:logistic', 'eval_metric': ['auc'],\n",
    "              'seed': 12345}\n",
    "    evals_result = {}\n",
    "    xgb_model = xgb.train(params = params, dtrain = dtrain_train, num_boost_round = int(5e3), evals = [(dtrain_val, 'validation')],\n",
    "                          early_stopping_rounds = 10,\n",
    "                          evals_result = evals_result,\n",
    "                          verbose_eval = 50)\n",
    "    validation_auc_1[(md,e)] = np.max(evals_result['validation']['auc'])\n",
    "    print(\"\")"
   ]
  },
  {
   "cell_type": "code",
   "execution_count": 14,
   "metadata": {},
   "outputs": [
    {
     "name": "stdout",
     "output_type": "stream",
     "text": [
      "((6, 0.05), 0.873423)\n",
      "((6, 0.02), 0.873342)\n",
      "((6, 0.01), 0.87329)\n",
      "((7, 0.01), 0.873281)\n",
      "((7, 0.02), 0.873245)\n",
      "((6, 0.1), 0.87323)\n",
      "((7, 0.1), 0.873168)\n",
      "((7, 0.05), 0.873109)\n",
      "((5, 0.05), 0.873088)\n",
      "((7, 0.2), 0.873084)\n",
      "((5, 0.01), 0.873082)\n",
      "((4, 0.05), 0.872932)\n",
      "((5, 0.1), 0.872918)\n",
      "((5, 0.02), 0.87291)\n",
      "((4, 0.01), 0.872805)\n",
      "((4, 0.02), 0.872751)\n",
      "((4, 0.1), 0.872726)\n",
      "((6, 0.2), 0.872624)\n",
      "((5, 0.2), 0.872495)\n",
      "((4, 0.2), 0.872238)\n"
     ]
    }
   ],
   "source": [
    "for t in validation_auc_1.most_common():\n",
    "    print(t)"
   ]
  },
  {
   "cell_type": "markdown",
   "metadata": {},
   "source": [
    "#### (2) Grid Search for min_child_weight (along with max_depth)"
   ]
  },
  {
   "cell_type": "code",
   "execution_count": 15,
   "metadata": {},
   "outputs": [
    {
     "name": "stdout",
     "output_type": "stream",
     "text": [
      "max_depth = 5, min_child_weight = 3:\n",
      "[0]\tvalidation-auc:0.848008\n",
      "Will train until validation-auc hasn't improved in 10 rounds.\n",
      "[50]\tvalidation-auc:0.867519\n",
      "[100]\tvalidation-auc:0.870473\n",
      "[150]\tvalidation-auc:0.871732\n",
      "[200]\tvalidation-auc:0.872251\n",
      "[250]\tvalidation-auc:0.872634\n",
      "[300]\tvalidation-auc:0.872912\n",
      "[350]\tvalidation-auc:0.873051\n",
      "Stopping. Best iteration:\n",
      "[376]\tvalidation-auc:0.873115\n",
      "\n",
      "\n",
      "max_depth = 5, min_child_weight = 5:\n",
      "[0]\tvalidation-auc:0.848008\n",
      "Will train until validation-auc hasn't improved in 10 rounds.\n",
      "[50]\tvalidation-auc:0.867521\n",
      "[100]\tvalidation-auc:0.870473\n",
      "[150]\tvalidation-auc:0.871718\n",
      "[200]\tvalidation-auc:0.872265\n",
      "[250]\tvalidation-auc:0.872599\n",
      "[300]\tvalidation-auc:0.872881\n",
      "[350]\tvalidation-auc:0.873061\n",
      "Stopping. Best iteration:\n",
      "[354]\tvalidation-auc:0.873084\n",
      "\n",
      "\n",
      "max_depth = 6, min_child_weight = 3:\n",
      "[0]\tvalidation-auc:0.854919\n",
      "Will train until validation-auc hasn't improved in 10 rounds.\n",
      "[50]\tvalidation-auc:0.869308\n",
      "[100]\tvalidation-auc:0.871585\n",
      "[150]\tvalidation-auc:0.87251\n",
      "[200]\tvalidation-auc:0.872843\n",
      "[250]\tvalidation-auc:0.873066\n",
      "[300]\tvalidation-auc:0.873204\n",
      "Stopping. Best iteration:\n",
      "[291]\tvalidation-auc:0.873215\n",
      "\n",
      "\n",
      "max_depth = 6, min_child_weight = 5:\n",
      "[0]\tvalidation-auc:0.854924\n",
      "Will train until validation-auc hasn't improved in 10 rounds.\n",
      "[50]\tvalidation-auc:0.869319\n",
      "[100]\tvalidation-auc:0.871657\n",
      "[150]\tvalidation-auc:0.87257\n",
      "[200]\tvalidation-auc:0.872875\n",
      "[250]\tvalidation-auc:0.87307\n",
      "[300]\tvalidation-auc:0.873206\n",
      "Stopping. Best iteration:\n",
      "[292]\tvalidation-auc:0.873216\n",
      "\n",
      "\n",
      "max_depth = 7, min_child_weight = 3:\n",
      "[0]\tvalidation-auc:0.859421\n",
      "Will train until validation-auc hasn't improved in 10 rounds.\n",
      "[50]\tvalidation-auc:0.870557\n",
      "[100]\tvalidation-auc:0.872199\n",
      "[150]\tvalidation-auc:0.87287\n",
      "[200]\tvalidation-auc:0.873019\n",
      "Stopping. Best iteration:\n",
      "[220]\tvalidation-auc:0.873096\n",
      "\n",
      "\n",
      "max_depth = 7, min_child_weight = 5:\n",
      "[0]\tvalidation-auc:0.859435\n",
      "Will train until validation-auc hasn't improved in 10 rounds.\n",
      "[50]\tvalidation-auc:0.870589\n",
      "[100]\tvalidation-auc:0.872356\n",
      "[150]\tvalidation-auc:0.873062\n",
      "[200]\tvalidation-auc:0.873237\n",
      "Stopping. Best iteration:\n",
      "[221]\tvalidation-auc:0.873294\n",
      "\n",
      "\n"
     ]
    }
   ],
   "source": [
    "md1 = 6\n",
    "grid_2 = [(md1+i,mcw) for i in [-1,0,1] for mcw in [3,5]]\n",
    "validation_auc_2 = Counter()\n",
    "for md,mcw in grid_2:\n",
    "    print(\"max_depth = {0}, min_child_weight = {1}:\".format(md,mcw))\n",
    "    params = {'max_depth': md, 'eta': 0.05, 'min_child_weight': mcw, 'colsample_bytree': 0.8, \n",
    "              'subsample': 0.8, \n",
    "              'objective': 'binary:logistic', 'eval_metric': ['auc'],\n",
    "              'seed': 12345}\n",
    "    evals_result = {}\n",
    "    xgb_model = xgb.train(params = params, dtrain = dtrain_train, num_boost_round = int(5e3), evals = [(dtrain_val, 'validation')],\n",
    "                          early_stopping_rounds = 10,\n",
    "                          evals_result = evals_result,\n",
    "                          verbose_eval = 50)\n",
    "    validation_auc_2[(md,mcw)] = np.max(evals_result['validation']['auc'])\n",
    "    print(\"\")"
   ]
  },
  {
   "cell_type": "code",
   "execution_count": 16,
   "metadata": {},
   "outputs": [
    {
     "name": "stdout",
     "output_type": "stream",
     "text": [
      "((7, 5), 0.873294)\n",
      "((6, 5), 0.873216)\n",
      "((6, 3), 0.873215)\n",
      "((5, 3), 0.873115)\n",
      "((7, 3), 0.873096)\n",
      "((5, 5), 0.873084)\n"
     ]
    }
   ],
   "source": [
    "for t in validation_auc_2.most_common():\n",
    "    print(t)"
   ]
  },
  {
   "cell_type": "markdown",
   "metadata": {},
   "source": [
    "#### (3) Grid Search for colsample_by_tree"
   ]
  },
  {
   "cell_type": "code",
   "execution_count": 17,
   "metadata": {},
   "outputs": [
    {
     "name": "stdout",
     "output_type": "stream",
     "text": [
      "colsample_by_tree = 0.5:\n",
      "[0]\tvalidation-auc:0.849506\n",
      "Will train until validation-auc hasn't improved in 10 rounds.\n",
      "Stopping. Best iteration:\n",
      "[3]\tvalidation-auc:0.862087\n",
      "\n",
      "\n",
      "colsample_by_tree = 0.55:\n",
      "[0]\tvalidation-auc:0.849647\n",
      "Will train until validation-auc hasn't improved in 10 rounds.\n",
      "[50]\tvalidation-auc:0.869539\n",
      "[100]\tvalidation-auc:0.871734\n",
      "[150]\tvalidation-auc:0.872811\n",
      "Stopping. Best iteration:\n",
      "[174]\tvalidation-auc:0.872993\n",
      "\n",
      "\n",
      "colsample_by_tree = 0.6:\n",
      "[0]\tvalidation-auc:0.849647\n",
      "Will train until validation-auc hasn't improved in 10 rounds.\n",
      "[50]\tvalidation-auc:0.869539\n",
      "[100]\tvalidation-auc:0.871734\n",
      "[150]\tvalidation-auc:0.872811\n",
      "Stopping. Best iteration:\n",
      "[174]\tvalidation-auc:0.872993\n",
      "\n",
      "\n",
      "colsample_by_tree = 0.65:\n",
      "[0]\tvalidation-auc:0.849647\n",
      "Will train until validation-auc hasn't improved in 10 rounds.\n",
      "[50]\tvalidation-auc:0.870221\n",
      "[100]\tvalidation-auc:0.872069\n",
      "[150]\tvalidation-auc:0.872928\n",
      "[200]\tvalidation-auc:0.873203\n",
      "[250]\tvalidation-auc:0.873358\n",
      "Stopping. Best iteration:\n",
      "[262]\tvalidation-auc:0.873397\n",
      "\n",
      "\n",
      "colsample_by_tree = 0.7:\n",
      "[0]\tvalidation-auc:0.849647\n",
      "Will train until validation-auc hasn't improved in 10 rounds.\n",
      "[50]\tvalidation-auc:0.870647\n",
      "[100]\tvalidation-auc:0.87227\n",
      "[150]\tvalidation-auc:0.873006\n",
      "[200]\tvalidation-auc:0.873199\n",
      "Stopping. Best iteration:\n",
      "[212]\tvalidation-auc:0.87324\n",
      "\n",
      "\n",
      "colsample_by_tree = 0.75:\n",
      "[0]\tvalidation-auc:0.849647\n",
      "Will train until validation-auc hasn't improved in 10 rounds.\n",
      "[50]\tvalidation-auc:0.870647\n",
      "[100]\tvalidation-auc:0.87227\n",
      "[150]\tvalidation-auc:0.873006\n",
      "[200]\tvalidation-auc:0.873199\n",
      "Stopping. Best iteration:\n",
      "[212]\tvalidation-auc:0.87324\n",
      "\n",
      "\n",
      "colsample_by_tree = 0.8:\n",
      "[0]\tvalidation-auc:0.859435\n",
      "Will train until validation-auc hasn't improved in 10 rounds.\n",
      "[50]\tvalidation-auc:0.870589\n",
      "[100]\tvalidation-auc:0.872356\n",
      "[150]\tvalidation-auc:0.873062\n",
      "[200]\tvalidation-auc:0.873237\n",
      "Stopping. Best iteration:\n",
      "[221]\tvalidation-auc:0.873294\n",
      "\n",
      "\n",
      "colsample_by_tree = 0.85:\n",
      "[0]\tvalidation-auc:0.859613\n",
      "Will train until validation-auc hasn't improved in 10 rounds.\n",
      "[50]\tvalidation-auc:0.870753\n",
      "[100]\tvalidation-auc:0.872465\n",
      "[150]\tvalidation-auc:0.872978\n",
      "Stopping. Best iteration:\n",
      "[180]\tvalidation-auc:0.873113\n",
      "\n",
      "\n",
      "colsample_by_tree = 0.9:\n",
      "[0]\tvalidation-auc:0.859613\n",
      "Will train until validation-auc hasn't improved in 10 rounds.\n",
      "[50]\tvalidation-auc:0.870753\n",
      "[100]\tvalidation-auc:0.872465\n",
      "[150]\tvalidation-auc:0.872978\n",
      "Stopping. Best iteration:\n",
      "[180]\tvalidation-auc:0.873113\n",
      "\n",
      "\n"
     ]
    }
   ],
   "source": [
    "grid_3 = [0.5, 0.55, 0.6, 0.65, 0.7, 0.75, 0.8, 0.85, 0.9]\n",
    "validation_auc_3 = Counter()\n",
    "for cbt in grid_3:\n",
    "    print(\"colsample_by_tree = {}:\".format(cbt))\n",
    "    params = {'max_depth': 7, 'eta': 0.05, 'min_child_weight': 5, 'colsample_bytree': cbt, \n",
    "              'subsample': 0.8, \n",
    "              'objective': 'binary:logistic', 'eval_metric': ['auc'],\n",
    "              'seed': 12345}\n",
    "    evals_result = {}\n",
    "    xgb_model = xgb.train(params = params, dtrain = dtrain_train, num_boost_round = int(5e3), evals = [(dtrain_val, 'validation')],\n",
    "                          early_stopping_rounds = 10,\n",
    "                          evals_result = evals_result,\n",
    "                          verbose_eval = 50)\n",
    "    validation_auc_3[cbt] = np.max(evals_result['validation']['auc'])\n",
    "    print(\"\")"
   ]
  },
  {
   "cell_type": "code",
   "execution_count": 19,
   "metadata": {},
   "outputs": [
    {
     "data": {
      "text/plain": [
       "[(0.7, 0.850754),\n",
       " (0.65, 0.850754),\n",
       " (0.85, 0.850697),\n",
       " (0.8, 0.850697),\n",
       " (0.9, 0.850653),\n",
       " (0.75, 0.850555),\n",
       " (0.6, 0.840852),\n",
       " (0.5, 0.83465),\n",
       " (0.55, 0.83465)]"
      ]
     },
     "execution_count": 19,
     "metadata": {},
     "output_type": "execute_result"
    }
   ],
   "source": [
    "validation_auc_3.most_common()"
   ]
  },
  {
   "cell_type": "markdown",
   "metadata": {},
   "source": [
    "#### (4) Finally select the opitmal num_boost_round"
   ]
  },
  {
   "cell_type": "code",
   "execution_count": 18,
   "metadata": {},
   "outputs": [
    {
     "name": "stdout",
     "output_type": "stream",
     "text": [
      "[0]\tvalidation-auc:0.849647\n",
      "Will train until validation-auc hasn't improved in 10 rounds.\n",
      "[50]\tvalidation-auc:0.870647\n",
      "[100]\tvalidation-auc:0.87227\n",
      "[150]\tvalidation-auc:0.873006\n",
      "[200]\tvalidation-auc:0.873199\n",
      "Stopping. Best iteration:\n",
      "[212]\tvalidation-auc:0.87324\n",
      "\n",
      "\n",
      "212\n"
     ]
    }
   ],
   "source": [
    "params = {'max_depth': 7, 'eta': 0.05, 'min_child_weight': 5, 'colsample_bytree': 0.7, \n",
    "          'subsample': 0.8, \n",
    "          'objective': 'binary:logistic', 'eval_metric': ['auc'],\n",
    "          'seed': 12345}\n",
    "evals_result = {}\n",
    "xgb_model = xgb.train(params = params, dtrain = dtrain_train, num_boost_round = int(5e3), evals = [(dtrain_val, 'validation')],\n",
    "                      early_stopping_rounds = 10,\n",
    "                      evals_result = evals_result,\n",
    "                      verbose_eval = 50)\n",
    "optimal_num_boost_round = np.argmax(evals_result['validation']['auc'])\n",
    "print(\"\")\n",
    "print(optimal_num_boost_round)"
   ]
  },
  {
   "cell_type": "markdown",
   "metadata": {},
   "source": [
    "#### (5) Train the final xgb model and make predictions for observations in the test set"
   ]
  },
  {
   "cell_type": "code",
   "execution_count": 19,
   "metadata": {
    "collapsed": true
   },
   "outputs": [],
   "source": [
    "optimal_num_boost_round = 212"
   ]
  },
  {
   "cell_type": "code",
   "execution_count": 20,
   "metadata": {
    "collapsed": true
   },
   "outputs": [],
   "source": [
    "# specify parameters via map\n",
    "params = {'max_depth': 7, 'eta': 0.05, 'min_child_weight': 5, 'colsample_bytree': 0.7, \n",
    "          'subsample': 0.8, \n",
    "          'objective': 'binary:logistic', 'eval_metric': ['auc'],\n",
    "          'seed': 12345}\n",
    "final_xgb_model = xgb.train(params = params, dtrain = dtrain, num_boost_round = optimal_num_boost_round)\n",
    "# make prediction for observations in the test set\n",
    "y_test_pred = final_xgb_model.predict(dtest)"
   ]
  },
  {
   "cell_type": "code",
   "execution_count": 21,
   "metadata": {},
   "outputs": [
    {
     "name": "stdout",
     "output_type": "stream",
     "text": [
      "XGBoost:\n",
      "AUC = 0.8162\n"
     ]
    }
   ],
   "source": [
    "print(\"XGBoost:\")\n",
    "print(\"AUC = {}\".format(round(roc_auc_score(dtest.get_label(), y_test_pred), 4)))"
   ]
  },
  {
   "cell_type": "code",
   "execution_count": 22,
   "metadata": {
    "collapsed": true
   },
   "outputs": [],
   "source": [
    "# save the model object and predicted scores on the validation sample to local disk\n",
    "# pickle.dump(final_xgb_model, open(results_dir + \"/xgb.p\", \"wb\"))\n",
    "pickle.dump(list(y_test_pred), open(results_dir + \"/y_test_pred_xgb.p\", \"wb\"))"
   ]
  },
  {
   "cell_type": "code",
   "execution_count": 23,
   "metadata": {
    "collapsed": true
   },
   "outputs": [],
   "source": [
    "feature_importance = pd.DataFrame(list(final_xgb_model.get_fscore().items()), columns=['feature','importance']).sort_values('importance', ascending=False)\n",
    "feature_importance.loc[:, 'importance'] = feature_importance.loc[:, 'importance'] / sum(feature_importance.loc[:, 'importance'])\n",
    "yy = feature_importance.loc[:, 'importance'].iloc[:20]\n",
    "xx = feature_importance.loc[:, 'feature'].iloc[:20]"
   ]
  },
  {
   "cell_type": "code",
   "execution_count": 24,
   "metadata": {
    "collapsed": true
   },
   "outputs": [],
   "source": [
    "xgb_summary = feature_importance.rename(columns = {'feature':'predictor_name',\n",
    "                                                   'importance':'feature_importance'})\\\n",
    ".loc[:,['predictor_name', 'feature_importance']]\n",
    "xgb_summary = xgb_summary.merge(pd.DataFrame({'predictor_name': predictors}), on=['predictor_name'], how='right')\\\n",
    ".sort_values(['feature_importance', 'predictor_name'], ascending=[False, True]).fillna(0)\n",
    "xgb_summary.to_csv(results_dir + \"xgb_summary.csv\", index=False)"
   ]
  },
  {
   "cell_type": "code",
   "execution_count": 26,
   "metadata": {},
   "outputs": [
    {
     "data": {
      "image/png": "[encoded data removed]",
      "text/plain": [
       "<Figure size 864x648 with 1 Axes>"
      ]
     },
     "metadata": {},
     "output_type": "display_data"
    }
   ],
   "source": [
    "fig = plt.figure(figsize=(12,9))\n",
    "plt.bar(list(range(13)), yy, width=0.75, color = \"orange\")\n",
    "plt.xticks(list(range(13)), xx, rotation = 'vertical', fontsize=14)\n",
    "plt.yticks(fontsize=14)\n",
    "plt.xlabel(\"Predictor\", fontsize=16, color=\"gray\")\n",
    "plt.ylabel(\"Feature Importance\", fontsize=16, color=\"gray\")\n",
    "plt.savefig(results_dir + \"XGBoost_variable_importance.png\")\n",
    "plt.show()"
   ]
  },
  {
   "cell_type": "code",
   "execution_count": 27,
   "metadata": {
    "collapsed": true
   },
   "outputs": [],
   "source": [
    "def find_optimal_threshold(p,r,t):\n",
    "    to_drop = np.union1d(np.where(pd.isnull(p[:-1]) == True)[0], np.where(pd.isnull(r[:-1]) == True)[0])\n",
    "    to_drop = np.union1d(to_drop, np.where(pd.isnull(t) == True)[0])\n",
    "    to_keep = np.setdiff1d(np.array(list(range(len(p)-1))), to_drop)\n",
    "    p,r,t = p[to_keep],r[to_keep],t[to_keep]\n",
    "    f1 = 2*p*r/(p+r)\n",
    "    best_t = t[np.argmax(f1)]\n",
    "    best_t\n",
    "    return best_t\n",
    "\n",
    "def cross_validation(train, xgb_params, nbr):\n",
    "    threshold_list = []\n",
    "    auc_list = []\n",
    "    k_fold =  StratifiedKFold(n_splits = 10, random_state = 12345, shuffle=True)\n",
    "    for train_indices, test_indices in k_fold.split(train, train.grad_6years):\n",
    "        train_part = train.iloc[train_indices,:]\n",
    "        test_part = train.iloc[test_indices,:]\n",
    "        train_part_new, test_part_new = impute(train_part, test_part)\n",
    "        X_1 = train_part_new.loc[:,predictors]\n",
    "        y_1 = train_part_new.grad_6years\n",
    "        X_2 = test_part_new.loc[:,predictors]\n",
    "        y_2 = test_part_new.grad_6years\n",
    "        dtrain_cv = xgb.DMatrix(X_1,y_1)\n",
    "        dtest_cv = xgb.DMatrix(X_2,y_2)\n",
    "        xgb_cv_model = xgb.train(params=xgb_params, dtrain=dtrain_cv, num_boost_round = nbr)\n",
    "        y_2_pred = xgb_cv_model.predict(dtest_cv)\n",
    "        p,r,t = precision_recall_curve(y_2, y_2_pred)\n",
    "        auc = roc_auc_score(y_2, y_2_pred)\n",
    "        threshold_list.append(find_optimal_threshold(p,r,t))\n",
    "        auc_list.append(auc)\n",
    "    print(np.mean(auc_list), np.std(auc_list, ddof=1))\n",
    "    return gmean(threshold_list)"
   ]
  },
  {
   "cell_type": "code",
   "execution_count": 28,
   "metadata": {},
   "outputs": [
    {
     "name": "stderr",
     "output_type": "stream",
     "text": [
      "C:\\Users\\ys8mz\\AppData\\Local\\Continuum\\Anaconda3\\lib\\site-packages\\pandas\\core\\indexing.py:543: SettingWithCopyWarning: \n",
      "A value is trying to be set on a copy of a slice from a DataFrame.\n",
      "Try using .loc[row_indexer,col_indexer] = value instead\n",
      "\n",
      "See the caveats in the documentation: http://pandas.pydata.org/pandas-docs/stable/indexing.html#indexing-view-versus-copy\n",
      "  self.obj[item] = s\n",
      "C:\\Users\\ys8mz\\AppData\\Local\\Continuum\\Anaconda3\\lib\\site-packages\\pandas\\core\\indexing.py:543: SettingWithCopyWarning: \n",
      "A value is trying to be set on a copy of a slice from a DataFrame.\n",
      "Try using .loc[row_indexer,col_indexer] = value instead\n",
      "\n",
      "See the caveats in the documentation: http://pandas.pydata.org/pandas-docs/stable/indexing.html#indexing-view-versus-copy\n",
      "  self.obj[item] = s\n",
      "C:\\Users\\ys8mz\\AppData\\Local\\Continuum\\Anaconda3\\lib\\site-packages\\pandas\\core\\indexing.py:543: SettingWithCopyWarning: \n",
      "A value is trying to be set on a copy of a slice from a DataFrame.\n",
      "Try using .loc[row_indexer,col_indexer] = value instead\n",
      "\n",
      "See the caveats in the documentation: http://pandas.pydata.org/pandas-docs/stable/indexing.html#indexing-view-versus-copy\n",
      "  self.obj[item] = s\n",
      "C:\\Users\\ys8mz\\AppData\\Local\\Continuum\\Anaconda3\\lib\\site-packages\\pandas\\core\\indexing.py:543: SettingWithCopyWarning: \n",
      "A value is trying to be set on a copy of a slice from a DataFrame.\n",
      "Try using .loc[row_indexer,col_indexer] = value instead\n",
      "\n",
      "See the caveats in the documentation: http://pandas.pydata.org/pandas-docs/stable/indexing.html#indexing-view-versus-copy\n",
      "  self.obj[item] = s\n",
      "C:\\Users\\ys8mz\\AppData\\Local\\Continuum\\Anaconda3\\lib\\site-packages\\pandas\\core\\indexing.py:543: SettingWithCopyWarning: \n",
      "A value is trying to be set on a copy of a slice from a DataFrame.\n",
      "Try using .loc[row_indexer,col_indexer] = value instead\n",
      "\n",
      "See the caveats in the documentation: http://pandas.pydata.org/pandas-docs/stable/indexing.html#indexing-view-versus-copy\n",
      "  self.obj[item] = s\n",
      "C:\\Users\\ys8mz\\AppData\\Local\\Continuum\\Anaconda3\\lib\\site-packages\\pandas\\core\\indexing.py:543: SettingWithCopyWarning: \n",
      "A value is trying to be set on a copy of a slice from a DataFrame.\n",
      "Try using .loc[row_indexer,col_indexer] = value instead\n",
      "\n",
      "See the caveats in the documentation: http://pandas.pydata.org/pandas-docs/stable/indexing.html#indexing-view-versus-copy\n",
      "  self.obj[item] = s\n",
      "C:\\Users\\ys8mz\\AppData\\Local\\Continuum\\Anaconda3\\lib\\site-packages\\pandas\\core\\indexing.py:543: SettingWithCopyWarning: \n",
      "A value is trying to be set on a copy of a slice from a DataFrame.\n",
      "Try using .loc[row_indexer,col_indexer] = value instead\n",
      "\n",
      "See the caveats in the documentation: http://pandas.pydata.org/pandas-docs/stable/indexing.html#indexing-view-versus-copy\n",
      "  self.obj[item] = s\n",
      "C:\\Users\\ys8mz\\AppData\\Local\\Continuum\\Anaconda3\\lib\\site-packages\\pandas\\core\\indexing.py:543: SettingWithCopyWarning: \n",
      "A value is trying to be set on a copy of a slice from a DataFrame.\n",
      "Try using .loc[row_indexer,col_indexer] = value instead\n",
      "\n",
      "See the caveats in the documentation: http://pandas.pydata.org/pandas-docs/stable/indexing.html#indexing-view-versus-copy\n",
      "  self.obj[item] = s\n",
      "C:\\Users\\ys8mz\\AppData\\Local\\Continuum\\Anaconda3\\lib\\site-packages\\pandas\\core\\indexing.py:543: SettingWithCopyWarning: \n",
      "A value is trying to be set on a copy of a slice from a DataFrame.\n",
      "Try using .loc[row_indexer,col_indexer] = value instead\n",
      "\n",
      "See the caveats in the documentation: http://pandas.pydata.org/pandas-docs/stable/indexing.html#indexing-view-versus-copy\n",
      "  self.obj[item] = s\n",
      "C:\\Users\\ys8mz\\AppData\\Local\\Continuum\\Anaconda3\\lib\\site-packages\\pandas\\core\\indexing.py:543: SettingWithCopyWarning: \n",
      "A value is trying to be set on a copy of a slice from a DataFrame.\n",
      "Try using .loc[row_indexer,col_indexer] = value instead\n",
      "\n",
      "See the caveats in the documentation: http://pandas.pydata.org/pandas-docs/stable/indexing.html#indexing-view-versus-copy\n",
      "  self.obj[item] = s\n"
     ]
    },
    {
     "name": "stdout",
     "output_type": "stream",
     "text": [
      "0.8731628054800705 0.0013896373265129506\n"
     ]
    }
   ],
   "source": [
    "final_params = {'max_depth': 7, 'eta': 0.05, 'min_child_weight': 5, 'colsample_bytree': 0.7, \n",
    "                'subsample': 0.8, \n",
    "                'objective': 'binary:logistic', 'eval_metric': ['auc'],\n",
    "                'seed': 12345}\n",
    "best_threshold = cross_validation(train_df, final_params, optimal_num_boost_round)"
   ]
  },
  {
   "cell_type": "code",
   "execution_count": 30,
   "metadata": {},
   "outputs": [
    {
     "data": {
      "text/plain": [
       "0.3622659"
      ]
     },
     "execution_count": 30,
     "metadata": {},
     "output_type": "execute_result"
    }
   ],
   "source": [
    "best_threshold"
   ]
  },
  {
   "cell_type": "code",
   "execution_count": 32,
   "metadata": {
    "collapsed": true
   },
   "outputs": [],
   "source": [
    "def create_confusion_matrix(y_test_pred, threshold, fname):\n",
    "    cm_arr = confusion_matrix(y_test, np.where(y_test_pred > threshold, 1, 0))\n",
    "    cm_df = pd.DataFrame(cm_arr, columns=['Pred_0','Pred_1'], index=['Real_0', 'Real_1'])\n",
    "    cm_df.loc[:,''] = cm_df.sum(axis=1)\n",
    "    cm_df.loc['',:] = cm_df.sum(axis=0)\n",
    "    print(cm_df)\n",
    "    print(\"\")\n",
    "    p1 = cm_df.iloc[1,1]/cm_df.iloc[2,1]\n",
    "    r1 = cm_df.iloc[1,1]/cm_df.iloc[1,2]\n",
    "    p0 = cm_df.iloc[0,0]/cm_df.iloc[2,0]\n",
    "    r0 = cm_df.iloc[0,0]/cm_df.iloc[0,2]    \n",
    "    print(\"F1 score = {}\".format(round(2*p1*r1/(p1+r1),4)))    \n",
    "    cm_df.to_csv(results_dir + fname + \".csv\")\n",
    "    return p1,r1,p0,r0,round(2*p1*r1/(p1+r1),4)"
   ]
  },
  {
   "cell_type": "code",
   "execution_count": 33,
   "metadata": {},
   "outputs": [
    {
     "name": "stdout",
     "output_type": "stream",
     "text": [
      "F1 threshold = 0.362:\n",
      "\n",
      "         Pred_0   Pred_1         \n",
      "Real_0  11718.0  10090.0  21808.0\n",
      "Real_1   1159.0  10148.0  11307.0\n",
      "        12877.0  20238.0  33115.0\n",
      "\n",
      "F1 score = 0.6434\n"
     ]
    }
   ],
   "source": [
    "print(\"F1 threshold = {}:\\n\".format(str(round(best_threshold,3))))\n",
    "pr_xgb = create_confusion_matrix(y_test_pred, best_threshold, \"XGBoost_cm1\")"
   ]
  },
  {
   "cell_type": "code",
   "execution_count": 34,
   "metadata": {},
   "outputs": [
    {
     "name": "stdout",
     "output_type": "stream",
     "text": [
      "Alternative threshold = 0.78:\n",
      "\n",
      "         Pred_0   Pred_1         \n",
      "Real_0  17762.0   4046.0  21808.0\n",
      "Real_1   3881.0   7426.0  11307.0\n",
      "        21643.0  11472.0  33115.0\n",
      "\n",
      "F1 score = 0.652\n"
     ]
    }
   ],
   "source": [
    "num_of_0 = int(round((1-np.mean(train_df.grad_6years))*len(y_test)))\n",
    "y_test_pred_binary = np.ones(len(y_test))\n",
    "y_test_pred_binary[np.argsort(y_test_pred)[:num_of_0]] = 0\n",
    "alternative_threshold = y_test_pred[np.argsort(y_test_pred)[num_of_0]]\n",
    "print(\"Alternative threshold = {}:\\n\".format(str(round(alternative_threshold,3))))\n",
    "pr2_xgb = create_confusion_matrix(y_test_pred_binary, best_threshold, \"XGBoost_cm2\")"
   ]
  },
  {
   "cell_type": "code",
   "execution_count": 35,
   "metadata": {
    "collapsed": true
   },
   "outputs": [],
   "source": [
    "precision_recall_df = pd.DataFrame([(best_threshold,)+pr_xgb,(alternative_threshold,)+pr2_xgb]).round(4)\n",
    "precision_recall_df.index = ['F1','Same_Graduation_Rate']\n",
    "precision_recall_df.columns = ['threshold','precision_1','recall_1','precision_0','recall_0','f1_score']\n",
    "precision_recall_df.to_csv(results_dir + \"XGBoost_precision_recall.csv\", index=True)"
   ]
  },
  {
   "cell_type": "code",
   "execution_count": null,
   "metadata": {
    "collapsed": true
   },
   "outputs": [],
   "source": []
  },
  {
   "cell_type": "markdown",
   "metadata": {},
   "source": [
    "#### Reorganize files of key evaluation metrics for the four non-truncated models: OLS, Logit, RF, XGBoost"
   ]
  },
  {
   "cell_type": "code",
   "execution_count": 10,
   "metadata": {
    "collapsed": true
   },
   "outputs": [],
   "source": [
    "# Extract all of the key evaluation metrics of the four non-truncated models that only include simple non-term-specific predictors,\n",
    "# which will be used to populate column (2) within the Appendix Table A1 and Figure 1 of the paper\n",
    "cstat = [0.8467,0.8441,0.8780,0.8885]\n",
    "m_dict = {'Logit': 'LR1', 'OLS': 'OLS',\n",
    "          'RF': 'RF', 'XGBoost': 'XGBoost'}\n",
    "m_list = ['Logit', 'OLS', 'RF', 'XGBoost']\n",
    "summary = []\n",
    "for c,m in zip(cstat,m_list):\n",
    "    summary.append((m,c)+tuple(pd.read_csv(results_dir + \"\\\\{}_precision_recall.csv\".format(m_dict[m])).iloc[0,1:]))\n",
    "summary_df = pd.DataFrame(summary, columns=['model','c-statistic','threshold','precision_1','recall_1',\n",
    "                                            'precision_0','recall_0','f1_score_1'])\n",
    "summary_df.loc[:,'f1_score_0'] = 2*summary_df.precision_0*summary_df.recall_0/(summary_df.precision_0+summary_df.recall_0)\n",
    "summary_df.to_csv(results_dir + \"cleaned_results\\\\main_eval_metrics.csv\", index=False)"
   ]
  },
  {
   "cell_type": "code",
   "execution_count": null,
   "metadata": {
    "collapsed": true
   },
   "outputs": [],
   "source": []
  }
 ],
 "metadata": {
  "kernelspec": {
   "display_name": "Python 3",
   "language": "python",
   "name": "python3"
  },
  "language_info": {
   "codemirror_mode": {
    "name": "ipython",
    "version": 3
   },
   "file_extension": ".py",
   "mimetype": "text/x-python",
   "name": "python",
   "nbconvert_exporter": "python",
   "pygments_lexer": "ipython3",
   "version": "3.5.3"
  }
 },
 "nbformat": 4,
 "nbformat_minor": 2
}
