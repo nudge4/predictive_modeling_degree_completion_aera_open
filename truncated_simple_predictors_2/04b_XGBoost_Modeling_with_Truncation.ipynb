{
 "cells": [
  {
   "cell_type": "code",
   "execution_count": 13,
   "metadata": {
    "collapsed": true
   },
   "outputs": [],
   "source": [
    "import pickle\n",
    "from scipy.stats.mstats import gmean\n",
    "import pandas as pd\n",
    "import numpy as np\n",
    "from sklearn.metrics import precision_recall_curve, roc_auc_score, confusion_matrix, precision_score, recall_score\n",
    "from sklearn.model_selection import KFold, StratifiedKFold\n",
    "from scipy.stats.mstats import gmean\n",
    "import xgboost as xgb\n",
    "from collections import Counter\n",
    "import seaborn as sns\n",
    "import matplotlib.pyplot as plt\n",
    "%matplotlib inline\n",
    "fpath = \"/Users/ys8mz/Box Sync/Predictive Models of College Completion (VCCS)/intermediate_files\""
   ]
  },
  {
   "cell_type": "code",
   "execution_count": 14,
   "metadata": {
    "collapsed": true
   },
   "outputs": [],
   "source": [
    "df = pd.read_stata(fpath + \"/full_data_truncated.dta\")"
   ]
  },
  {
   "cell_type": "code",
   "execution_count": 15,
   "metadata": {
    "collapsed": true
   },
   "outputs": [],
   "source": [
    "df.loc[:,'first_gen_0'] = df.phe_1 + df.phe_2 + df.phe_3\n",
    "df.loc[:,'first_gen_1'] = df.phe_4 + df.phe_5 + df.phe_6 + df.phe_7"
   ]
  },
  {
   "cell_type": "code",
   "execution_count": 16,
   "metadata": {
    "collapsed": true
   },
   "outputs": [],
   "source": [
    "for v in ['term_cred_att_', 'enrolled_', 'available_']:\n",
    "    df.loc[:,v+\"sum\"] = 0\n",
    "    for t1 in ['sp','su','fa']:\n",
    "        for t2 in range(1,7):\n",
    "            t = t1+str(t2)\n",
    "            df.loc[:,v+\"sum\"] = df.loc[:,v+\"sum\"] + df.loc[:,v+t]\n",
    "df.loc[:,'avg_cred_att'] = df.term_cred_att_sum / df.enrolled_sum\n",
    "df.loc[:,'pct_enrolled'] = df.enrolled_sum / df.available_sum"
   ]
  },
  {
   "cell_type": "markdown",
   "metadata": {},
   "source": [
    "##### **Note: This model variant only includes 14 predictors, which are all simple non-term-specific predictors"
   ]
  },
  {
   "cell_type": "code",
   "execution_count": 17,
   "metadata": {},
   "outputs": [
    {
     "name": "stdout",
     "output_type": "stream",
     "text": [
      "14\n"
     ]
    }
   ],
   "source": [
    "predictors = ['male', 'afam', 'white', 'hisp', 'other', 'first_gen_0', 'first_gen_1', 'cum_gpa', 'pct_enrolled', 'avg_cred_att', 'available_sum', 'prop_comp', 'pell_0_ind', 'pell_1_ind']\n",
    "print(len(predictors))\n",
    "impute_list_3 = set([\"cum_gpa\", \"prop_comp\"])"
   ]
  },
  {
   "cell_type": "code",
   "execution_count": 18,
   "metadata": {},
   "outputs": [
    {
     "name": "stdout",
     "output_type": "stream",
     "text": [
      "(298139, 348) (33115, 348)\n"
     ]
    }
   ],
   "source": [
    "train_df = df[df.valid == 0]\n",
    "test_df = df[df.valid == 1]\n",
    "print(train_df.shape,test_df.shape)"
   ]
  },
  {
   "cell_type": "code",
   "execution_count": 19,
   "metadata": {
    "collapsed": true
   },
   "outputs": [],
   "source": [
    "def impute(train, test):\n",
    "    for p in impute_list_3:\n",
    "        avg_p = np.nanmean(train[p])\n",
    "        train.loc[:,p] = train.loc[:,p].apply(lambda x: avg_p if pd.isnull(x) else x)\n",
    "        test.loc[:,p] = test.loc[:,p].apply(lambda x: avg_p if pd.isnull(x) else x)\n",
    "    return train, test     "
   ]
  },
  {
   "cell_type": "code",
   "execution_count": 20,
   "metadata": {},
   "outputs": [
    {
     "name": "stderr",
     "output_type": "stream",
     "text": [
      "C:\\Users\\ys8mz\\AppData\\Local\\Continuum\\Anaconda3\\lib\\site-packages\\pandas\\core\\indexing.py:543: SettingWithCopyWarning: \n",
      "A value is trying to be set on a copy of a slice from a DataFrame.\n",
      "Try using .loc[row_indexer,col_indexer] = value instead\n",
      "\n",
      "See the caveats in the documentation: http://pandas.pydata.org/pandas-docs/stable/indexing.html#indexing-view-versus-copy\n",
      "  self.obj[item] = s\n"
     ]
    }
   ],
   "source": [
    "train_df_new, test_df_new = impute(train_df, test_df)\n",
    "X_train = train_df_new.loc[:,predictors]\n",
    "y_train = train_df_new.grad_6years\n",
    "X_test = test_df_new.loc[:,predictors]\n",
    "y_test = test_df_new.grad_6years"
   ]
  },
  {
   "cell_type": "code",
   "execution_count": 21,
   "metadata": {
    "collapsed": true
   },
   "outputs": [],
   "source": [
    "dtrain = xgb.DMatrix(X_train, y_train)\n",
    "dtest = xgb.DMatrix(X_test, y_test)"
   ]
  },
  {
   "cell_type": "code",
   "execution_count": 22,
   "metadata": {},
   "outputs": [
    {
     "name": "stderr",
     "output_type": "stream",
     "text": [
      "C:\\Users\\ys8mz\\AppData\\Local\\Continuum\\Anaconda3\\lib\\site-packages\\pandas\\core\\indexing.py:543: SettingWithCopyWarning: \n",
      "A value is trying to be set on a copy of a slice from a DataFrame.\n",
      "Try using .loc[row_indexer,col_indexer] = value instead\n",
      "\n",
      "See the caveats in the documentation: http://pandas.pydata.org/pandas-docs/stable/indexing.html#indexing-view-versus-copy\n",
      "  self.obj[item] = s\n"
     ]
    }
   ],
   "source": [
    "np.random.seed(4321)\n",
    "val_indices = np.random.choice(train_df.shape[0], int(np.floor(train_df.shape[0]*0.15)), replace=False)\n",
    "train_val = train_df.iloc[val_indices,:]\n",
    "train_train = train_df.iloc[np.setdiff1d(np.arange(train_df.shape[0]), val_indices),:]\n",
    "train_train_new, train_val_new = impute(train_train, train_val)\n",
    "X_train_train = train_train_new.loc[:,predictors]\n",
    "y_train_train = train_train_new.grad_6years\n",
    "X_train_val = train_val_new.loc[:,predictors]\n",
    "y_train_val = train_val_new.grad_6years"
   ]
  },
  {
   "cell_type": "code",
   "execution_count": 23,
   "metadata": {
    "collapsed": true
   },
   "outputs": [],
   "source": [
    "dtrain_train = xgb.DMatrix(X_train_train, y_train_train)\n",
    "dtrain_val = xgb.DMatrix(X_train_val, y_train_val)"
   ]
  },
  {
   "cell_type": "code",
   "execution_count": 24,
   "metadata": {
    "collapsed": true
   },
   "outputs": [],
   "source": [
    "results_dir = \"C:\\\\Users\\\\ys8mz\\\\Box Sync\\\\Predictive Models of College Completion (VCCS)\\\\evaluation_results\\\\truncated_simple_predictors_2\\\\\""
   ]
  },
  {
   "cell_type": "markdown",
   "metadata": {},
   "source": [
    "#### (1) Grid Search for max_depth and eta (learning rate)"
   ]
  },
  {
   "cell_type": "code",
   "execution_count": 14,
   "metadata": {},
   "outputs": [
    {
     "name": "stdout",
     "output_type": "stream",
     "text": [
      "max_depth = 4, eta = 0.01:\n",
      "[0]\tvalidation-auc:0.7989\n",
      "Will train until validation-auc hasn't improved in 10 rounds.\n",
      "Stopping. Best iteration:\n",
      "[34]\tvalidation-auc:0.826419\n",
      "\n",
      "\n",
      "max_depth = 4, eta = 0.02:\n",
      "[0]\tvalidation-auc:0.7989\n",
      "Will train until validation-auc hasn't improved in 10 rounds.\n",
      "[50]\tvalidation-auc:0.82868\n",
      "[100]\tvalidation-auc:0.833961\n",
      "[150]\tvalidation-auc:0.837466\n",
      "[200]\tvalidation-auc:0.840389\n",
      "[250]\tvalidation-auc:0.84226\n",
      "[300]\tvalidation-auc:0.843518\n",
      "[350]\tvalidation-auc:0.844444\n",
      "[400]\tvalidation-auc:0.845196\n",
      "[450]\tvalidation-auc:0.845798\n",
      "[500]\tvalidation-auc:0.846274\n",
      "[550]\tvalidation-auc:0.846678\n",
      "[600]\tvalidation-auc:0.847041\n",
      "[650]\tvalidation-auc:0.847316\n",
      "[700]\tvalidation-auc:0.847583\n",
      "[750]\tvalidation-auc:0.847785\n",
      "[800]\tvalidation-auc:0.847968\n",
      "[850]\tvalidation-auc:0.848143\n",
      "[900]\tvalidation-auc:0.848295\n",
      "[950]\tvalidation-auc:0.848429\n",
      "[1000]\tvalidation-auc:0.848581\n",
      "[1050]\tvalidation-auc:0.848718\n",
      "[1100]\tvalidation-auc:0.848847\n",
      "[1150]\tvalidation-auc:0.848955\n",
      "[1200]\tvalidation-auc:0.849051\n",
      "[1250]\tvalidation-auc:0.849142\n",
      "[1300]\tvalidation-auc:0.84923\n",
      "[1350]\tvalidation-auc:0.849287\n",
      "[1400]\tvalidation-auc:0.849341\n",
      "[1450]\tvalidation-auc:0.849407\n",
      "[1500]\tvalidation-auc:0.849444\n",
      "[1550]\tvalidation-auc:0.849497\n",
      "[1600]\tvalidation-auc:0.849541\n",
      "[1650]\tvalidation-auc:0.849606\n",
      "[1700]\tvalidation-auc:0.849668\n",
      "Stopping. Best iteration:\n",
      "[1736]\tvalidation-auc:0.84971\n",
      "\n",
      "\n",
      "max_depth = 4, eta = 0.05:\n",
      "[0]\tvalidation-auc:0.7989\n",
      "Will train until validation-auc hasn't improved in 10 rounds.\n",
      "[50]\tvalidation-auc:0.835949\n",
      "[100]\tvalidation-auc:0.842345\n",
      "[150]\tvalidation-auc:0.844746\n",
      "[200]\tvalidation-auc:0.846259\n",
      "[250]\tvalidation-auc:0.847208\n",
      "[300]\tvalidation-auc:0.847851\n",
      "[350]\tvalidation-auc:0.848211\n",
      "[400]\tvalidation-auc:0.848514\n",
      "[450]\tvalidation-auc:0.848822\n",
      "[500]\tvalidation-auc:0.849076\n",
      "[550]\tvalidation-auc:0.849206\n",
      "[600]\tvalidation-auc:0.849356\n",
      "[650]\tvalidation-auc:0.849502\n",
      "[700]\tvalidation-auc:0.849624\n",
      "Stopping. Best iteration:\n",
      "[721]\tvalidation-auc:0.849678\n",
      "\n",
      "\n",
      "max_depth = 4, eta = 0.1:\n",
      "[0]\tvalidation-auc:0.7989\n",
      "Will train until validation-auc hasn't improved in 10 rounds.\n",
      "[50]\tvalidation-auc:0.842418\n",
      "[100]\tvalidation-auc:0.84662\n",
      "[150]\tvalidation-auc:0.848066\n",
      "[200]\tvalidation-auc:0.848744\n",
      "[250]\tvalidation-auc:0.849152\n",
      "[300]\tvalidation-auc:0.849414\n",
      "[350]\tvalidation-auc:0.849617\n",
      "Stopping. Best iteration:\n",
      "[363]\tvalidation-auc:0.849677\n",
      "\n",
      "\n",
      "max_depth = 4, eta = 0.2:\n",
      "[0]\tvalidation-auc:0.7989\n",
      "Will train until validation-auc hasn't improved in 10 rounds.\n",
      "[50]\tvalidation-auc:0.846559\n",
      "[100]\tvalidation-auc:0.848494\n",
      "[150]\tvalidation-auc:0.849051\n",
      "[200]\tvalidation-auc:0.849436\n",
      "Stopping. Best iteration:\n",
      "[216]\tvalidation-auc:0.849526\n",
      "\n",
      "\n",
      "max_depth = 5, eta = 0.01:\n",
      "[0]\tvalidation-auc:0.806552\n",
      "Will train until validation-auc hasn't improved in 10 rounds.\n",
      "Stopping. Best iteration:\n",
      "[15]\tvalidation-auc:0.831223\n",
      "\n",
      "\n",
      "max_depth = 5, eta = 0.02:\n",
      "[0]\tvalidation-auc:0.806552\n",
      "Will train until validation-auc hasn't improved in 10 rounds.\n",
      "[50]\tvalidation-auc:0.834014\n",
      "[100]\tvalidation-auc:0.838423\n",
      "[150]\tvalidation-auc:0.841498\n",
      "[200]\tvalidation-auc:0.843579\n",
      "[250]\tvalidation-auc:0.845086\n",
      "[300]\tvalidation-auc:0.846021\n",
      "[350]\tvalidation-auc:0.846736\n",
      "[400]\tvalidation-auc:0.84735\n",
      "[450]\tvalidation-auc:0.847786\n",
      "[500]\tvalidation-auc:0.848185\n",
      "[550]\tvalidation-auc:0.848492\n",
      "[600]\tvalidation-auc:0.848738\n",
      "[650]\tvalidation-auc:0.848964\n",
      "[700]\tvalidation-auc:0.849156\n",
      "[750]\tvalidation-auc:0.849309\n",
      "[800]\tvalidation-auc:0.849442\n",
      "[850]\tvalidation-auc:0.849559\n",
      "[900]\tvalidation-auc:0.849669\n",
      "[950]\tvalidation-auc:0.849739\n",
      "[1000]\tvalidation-auc:0.849808\n",
      "[1050]\tvalidation-auc:0.84989\n",
      "[1100]\tvalidation-auc:0.849959\n",
      "[1150]\tvalidation-auc:0.850036\n",
      "[1200]\tvalidation-auc:0.850098\n",
      "[1250]\tvalidation-auc:0.850151\n",
      "[1300]\tvalidation-auc:0.850206\n",
      "Stopping. Best iteration:\n",
      "[1309]\tvalidation-auc:0.850215\n",
      "\n",
      "\n",
      "max_depth = 5, eta = 0.05:\n",
      "[0]\tvalidation-auc:0.806552\n",
      "Will train until validation-auc hasn't improved in 10 rounds.\n",
      "[50]\tvalidation-auc:0.839908\n",
      "[100]\tvalidation-auc:0.844959\n",
      "[150]\tvalidation-auc:0.846994\n",
      "[200]\tvalidation-auc:0.848107\n",
      "[250]\tvalidation-auc:0.848843\n",
      "[300]\tvalidation-auc:0.849274\n",
      "[350]\tvalidation-auc:0.849518\n",
      "[400]\tvalidation-auc:0.849698\n",
      "[450]\tvalidation-auc:0.849869\n",
      "Stopping. Best iteration:\n",
      "[465]\tvalidation-auc:0.849914\n",
      "\n",
      "\n",
      "max_depth = 5, eta = 0.1:\n",
      "[0]\tvalidation-auc:0.806552\n",
      "Will train until validation-auc hasn't improved in 10 rounds.\n",
      "[50]\tvalidation-auc:0.844977\n",
      "[100]\tvalidation-auc:0.848257\n",
      "[150]\tvalidation-auc:0.849034\n",
      "[200]\tvalidation-auc:0.849496\n",
      "[250]\tvalidation-auc:0.849812\n",
      "Stopping. Best iteration:\n",
      "[245]\tvalidation-auc:0.849834\n",
      "\n",
      "\n",
      "max_depth = 5, eta = 0.2:\n",
      "[0]\tvalidation-auc:0.806552\n",
      "Will train until validation-auc hasn't improved in 10 rounds.\n",
      "[50]\tvalidation-auc:0.847988\n",
      "[100]\tvalidation-auc:0.849444\n",
      "Stopping. Best iteration:\n",
      "[106]\tvalidation-auc:0.849565\n",
      "\n",
      "\n",
      "max_depth = 6, eta = 0.01:\n",
      "[0]\tvalidation-auc:0.814079\n",
      "Will train until validation-auc hasn't improved in 10 rounds.\n",
      "[50]\tvalidation-auc:0.836367\n",
      "[100]\tvalidation-auc:0.838453\n",
      "[150]\tvalidation-auc:0.840182\n",
      "[200]\tvalidation-auc:0.841567\n",
      "[250]\tvalidation-auc:0.843027\n",
      "[300]\tvalidation-auc:0.844238\n",
      "[350]\tvalidation-auc:0.845162\n",
      "[400]\tvalidation-auc:0.845929\n",
      "[450]\tvalidation-auc:0.84655\n",
      "[500]\tvalidation-auc:0.847059\n",
      "[550]\tvalidation-auc:0.847486\n",
      "[600]\tvalidation-auc:0.84787\n",
      "[650]\tvalidation-auc:0.848166\n",
      "[700]\tvalidation-auc:0.848457\n",
      "[750]\tvalidation-auc:0.848677\n",
      "[800]\tvalidation-auc:0.848892\n",
      "[850]\tvalidation-auc:0.849115\n",
      "[900]\tvalidation-auc:0.849263\n",
      "[950]\tvalidation-auc:0.849408\n",
      "[1000]\tvalidation-auc:0.84953\n",
      "[1050]\tvalidation-auc:0.849644\n",
      "[1100]\tvalidation-auc:0.84976\n",
      "[1150]\tvalidation-auc:0.849858\n",
      "[1200]\tvalidation-auc:0.849943\n",
      "[1250]\tvalidation-auc:0.85002\n",
      "[1300]\tvalidation-auc:0.850081\n",
      "[1350]\tvalidation-auc:0.850121\n",
      "[1400]\tvalidation-auc:0.850168\n",
      "[1450]\tvalidation-auc:0.850221\n",
      "[1500]\tvalidation-auc:0.850256\n",
      "[1550]\tvalidation-auc:0.850287\n",
      "Stopping. Best iteration:\n",
      "[1559]\tvalidation-auc:0.850296\n",
      "\n",
      "\n",
      "max_depth = 6, eta = 0.02:\n",
      "[0]\tvalidation-auc:0.814079\n",
      "Will train until validation-auc hasn't improved in 10 rounds.\n",
      "[50]\tvalidation-auc:0.838211\n",
      "[100]\tvalidation-auc:0.84167\n",
      "[150]\tvalidation-auc:0.844206\n",
      "[200]\tvalidation-auc:0.845909\n",
      "[250]\tvalidation-auc:0.847086\n",
      "[300]\tvalidation-auc:0.847861\n",
      "[350]\tvalidation-auc:0.848429\n",
      "[400]\tvalidation-auc:0.848871\n",
      "[450]\tvalidation-auc:0.849267\n",
      "[500]\tvalidation-auc:0.849515\n",
      "[550]\tvalidation-auc:0.84968\n",
      "[600]\tvalidation-auc:0.849847\n",
      "[650]\tvalidation-auc:0.849966\n",
      "[700]\tvalidation-auc:0.850087\n",
      "[750]\tvalidation-auc:0.850184\n",
      "[800]\tvalidation-auc:0.850265\n",
      "[850]\tvalidation-auc:0.85035\n",
      "[900]\tvalidation-auc:0.850433\n",
      "[950]\tvalidation-auc:0.850496\n",
      "Stopping. Best iteration:\n",
      "[958]\tvalidation-auc:0.850519\n",
      "\n",
      "\n",
      "max_depth = 6, eta = 0.05:\n",
      "[0]\tvalidation-auc:0.814079\n",
      "Will train until validation-auc hasn't improved in 10 rounds.\n",
      "[50]\tvalidation-auc:0.842921\n",
      "[100]\tvalidation-auc:0.846999\n",
      "[150]\tvalidation-auc:0.848635\n",
      "[200]\tvalidation-auc:0.849387\n",
      "[250]\tvalidation-auc:0.8498\n",
      "[300]\tvalidation-auc:0.850036\n",
      "Stopping. Best iteration:\n",
      "[309]\tvalidation-auc:0.850059\n",
      "\n",
      "\n",
      "max_depth = 6, eta = 0.1:\n",
      "[0]\tvalidation-auc:0.814079\n",
      "Will train until validation-auc hasn't improved in 10 rounds.\n",
      "[50]\tvalidation-auc:0.846672\n",
      "[100]\tvalidation-auc:0.849112\n",
      "Stopping. Best iteration:\n",
      "[134]\tvalidation-auc:0.849663\n",
      "\n",
      "\n",
      "max_depth = 6, eta = 0.2:\n",
      "[0]\tvalidation-auc:0.814079\n",
      "Will train until validation-auc hasn't improved in 10 rounds.\n",
      "[50]\tvalidation-auc:0.848879\n",
      "[100]\tvalidation-auc:0.849907\n",
      "Stopping. Best iteration:\n",
      "[126]\tvalidation-auc:0.850014\n",
      "\n",
      "\n",
      "max_depth = 7, eta = 0.01:\n",
      "[0]\tvalidation-auc:0.817\n",
      "Will train until validation-auc hasn't improved in 10 rounds.\n",
      "Stopping. Best iteration:\n",
      "[13]\tvalidation-auc:0.83908\n",
      "\n",
      "\n",
      "max_depth = 7, eta = 0.02:\n",
      "[0]\tvalidation-auc:0.817\n",
      "Will train until validation-auc hasn't improved in 10 rounds.\n",
      "[50]\tvalidation-auc:0.841417\n",
      "[100]\tvalidation-auc:0.84426\n",
      "[150]\tvalidation-auc:0.846306\n",
      "[200]\tvalidation-auc:0.847672\n",
      "[250]\tvalidation-auc:0.848572\n",
      "[300]\tvalidation-auc:0.849195\n",
      "[350]\tvalidation-auc:0.849617\n",
      "[400]\tvalidation-auc:0.84993\n",
      "[450]\tvalidation-auc:0.850173\n",
      "[500]\tvalidation-auc:0.850326\n",
      "[550]\tvalidation-auc:0.850459\n",
      "[600]\tvalidation-auc:0.850557\n",
      "Stopping. Best iteration:\n",
      "[630]\tvalidation-auc:0.850594\n",
      "\n",
      "\n",
      "max_depth = 7, eta = 0.05:\n",
      "[0]\tvalidation-auc:0.817\n"
     ]
    },
    {
     "name": "stdout",
     "output_type": "stream",
     "text": [
      "Will train until validation-auc hasn't improved in 10 rounds.\n",
      "[50]\tvalidation-auc:0.845023\n",
      "[100]\tvalidation-auc:0.848321\n",
      "[150]\tvalidation-auc:0.849661\n",
      "[200]\tvalidation-auc:0.850203\n",
      "[250]\tvalidation-auc:0.850498\n",
      "[300]\tvalidation-auc:0.850603\n",
      "Stopping. Best iteration:\n",
      "[291]\tvalidation-auc:0.85061\n",
      "\n",
      "\n",
      "max_depth = 7, eta = 0.1:\n",
      "[0]\tvalidation-auc:0.817\n",
      "Will train until validation-auc hasn't improved in 10 rounds.\n",
      "[50]\tvalidation-auc:0.848356\n",
      "[100]\tvalidation-auc:0.850107\n",
      "Stopping. Best iteration:\n",
      "[132]\tvalidation-auc:0.850332\n",
      "\n",
      "\n",
      "max_depth = 7, eta = 0.2:\n",
      "[0]\tvalidation-auc:0.817\n",
      "Will train until validation-auc hasn't improved in 10 rounds.\n",
      "[50]\tvalidation-auc:0.849052\n",
      "Stopping. Best iteration:\n",
      "[58]\tvalidation-auc:0.849311\n",
      "\n",
      "\n"
     ]
    }
   ],
   "source": [
    "grid_1 = [(md,e) for md in range(4,8) for e in [0.01, 0.02, 0.05, 0.1, 0.2]]\n",
    "validation_auc_1 = Counter()\n",
    "for md,e in grid_1:\n",
    "    print(\"max_depth = {0}, eta = {1}:\".format(md,e))\n",
    "    params = {'max_depth': md, 'eta': e, 'min_child_weight': 1, 'colsample_bytree': 0.8, \n",
    "              'subsample': 0.8, \n",
    "              'objective': 'binary:logistic', 'eval_metric': ['auc'],\n",
    "              'seed': 12345}\n",
    "    evals_result = {}\n",
    "    xgb_model = xgb.train(params = params, dtrain = dtrain_train, num_boost_round = int(5e3), evals = [(dtrain_val, 'validation')],\n",
    "                          early_stopping_rounds = 10,\n",
    "                          evals_result = evals_result,\n",
    "                          verbose_eval = 50)\n",
    "    validation_auc_1[(md,e)] = np.max(evals_result['validation']['auc'])\n",
    "    print(\"\")"
   ]
  },
  {
   "cell_type": "code",
   "execution_count": 15,
   "metadata": {},
   "outputs": [
    {
     "name": "stdout",
     "output_type": "stream",
     "text": [
      "((7, 0.05), 0.85061)\n",
      "((7, 0.02), 0.850594)\n",
      "((6, 0.02), 0.850519)\n",
      "((7, 0.1), 0.850332)\n",
      "((6, 0.01), 0.850296)\n",
      "((5, 0.02), 0.850215)\n",
      "((6, 0.05), 0.850059)\n",
      "((6, 0.2), 0.850014)\n",
      "((5, 0.05), 0.849914)\n",
      "((5, 0.1), 0.849834)\n",
      "((4, 0.02), 0.84971)\n",
      "((4, 0.05), 0.849678)\n",
      "((4, 0.1), 0.849677)\n",
      "((6, 0.1), 0.849663)\n",
      "((5, 0.2), 0.849565)\n",
      "((4, 0.2), 0.849526)\n",
      "((7, 0.2), 0.849311)\n",
      "((7, 0.01), 0.83908)\n",
      "((5, 0.01), 0.831223)\n",
      "((4, 0.01), 0.826419)\n"
     ]
    }
   ],
   "source": [
    "for t in validation_auc_1.most_common():\n",
    "    print(t)"
   ]
  },
  {
   "cell_type": "markdown",
   "metadata": {},
   "source": [
    "#### (2) Grid Search for min_child_weight (along with max_depth)"
   ]
  },
  {
   "cell_type": "code",
   "execution_count": 16,
   "metadata": {},
   "outputs": [
    {
     "name": "stdout",
     "output_type": "stream",
     "text": [
      "max_depth = 5, min_child_weight = 3:\n",
      "[0]\tvalidation-auc:0.806552\n",
      "Will train until validation-auc hasn't improved in 10 rounds.\n",
      "[50]\tvalidation-auc:0.834017\n",
      "[100]\tvalidation-auc:0.838419\n",
      "[150]\tvalidation-auc:0.841474\n",
      "[200]\tvalidation-auc:0.843564\n",
      "[250]\tvalidation-auc:0.845046\n",
      "[300]\tvalidation-auc:0.845979\n",
      "[350]\tvalidation-auc:0.846674\n",
      "[400]\tvalidation-auc:0.847295\n",
      "[450]\tvalidation-auc:0.847786\n",
      "[500]\tvalidation-auc:0.848159\n",
      "[550]\tvalidation-auc:0.848454\n",
      "[600]\tvalidation-auc:0.848724\n",
      "[650]\tvalidation-auc:0.848941\n",
      "[700]\tvalidation-auc:0.84914\n",
      "[750]\tvalidation-auc:0.849297\n",
      "[800]\tvalidation-auc:0.849445\n",
      "[850]\tvalidation-auc:0.849594\n",
      "[900]\tvalidation-auc:0.849692\n",
      "[950]\tvalidation-auc:0.849777\n",
      "[1000]\tvalidation-auc:0.849856\n",
      "[1050]\tvalidation-auc:0.849944\n",
      "Stopping. Best iteration:\n",
      "[1057]\tvalidation-auc:0.849962\n",
      "\n",
      "\n",
      "max_depth = 5, min_child_weight = 5:\n",
      "[0]\tvalidation-auc:0.806552\n",
      "Will train until validation-auc hasn't improved in 10 rounds.\n",
      "[50]\tvalidation-auc:0.834019\n",
      "[100]\tvalidation-auc:0.838418\n",
      "[150]\tvalidation-auc:0.841495\n",
      "[200]\tvalidation-auc:0.843568\n",
      "[250]\tvalidation-auc:0.845084\n",
      "[300]\tvalidation-auc:0.846036\n",
      "[350]\tvalidation-auc:0.846721\n",
      "[400]\tvalidation-auc:0.847325\n",
      "[450]\tvalidation-auc:0.847801\n",
      "[500]\tvalidation-auc:0.848196\n",
      "[550]\tvalidation-auc:0.848513\n",
      "[600]\tvalidation-auc:0.848765\n",
      "[650]\tvalidation-auc:0.848957\n",
      "[700]\tvalidation-auc:0.849149\n",
      "[750]\tvalidation-auc:0.849306\n",
      "[800]\tvalidation-auc:0.849441\n",
      "[850]\tvalidation-auc:0.849578\n",
      "[900]\tvalidation-auc:0.849677\n",
      "[950]\tvalidation-auc:0.849785\n",
      "[1000]\tvalidation-auc:0.849866\n",
      "[1050]\tvalidation-auc:0.849945\n",
      "Stopping. Best iteration:\n",
      "[1057]\tvalidation-auc:0.849959\n",
      "\n",
      "\n",
      "max_depth = 6, min_child_weight = 3:\n",
      "[0]\tvalidation-auc:0.81411\n",
      "Will train until validation-auc hasn't improved in 10 rounds.\n",
      "[50]\tvalidation-auc:0.838214\n",
      "[100]\tvalidation-auc:0.841681\n",
      "[150]\tvalidation-auc:0.844285\n",
      "[200]\tvalidation-auc:0.84592\n",
      "[250]\tvalidation-auc:0.84711\n",
      "[300]\tvalidation-auc:0.847897\n",
      "[350]\tvalidation-auc:0.848443\n",
      "[400]\tvalidation-auc:0.848853\n",
      "[450]\tvalidation-auc:0.849212\n",
      "[500]\tvalidation-auc:0.849474\n",
      "[550]\tvalidation-auc:0.849648\n",
      "[600]\tvalidation-auc:0.849853\n",
      "[650]\tvalidation-auc:0.850006\n",
      "[700]\tvalidation-auc:0.850121\n",
      "[750]\tvalidation-auc:0.850192\n",
      "[800]\tvalidation-auc:0.850268\n",
      "[850]\tvalidation-auc:0.850353\n",
      "Stopping. Best iteration:\n",
      "[888]\tvalidation-auc:0.850432\n",
      "\n",
      "\n",
      "max_depth = 6, min_child_weight = 5:\n",
      "[0]\tvalidation-auc:0.81411\n",
      "Will train until validation-auc hasn't improved in 10 rounds.\n",
      "[50]\tvalidation-auc:0.838218\n",
      "[100]\tvalidation-auc:0.841685\n",
      "[150]\tvalidation-auc:0.844225\n",
      "[200]\tvalidation-auc:0.845902\n",
      "[250]\tvalidation-auc:0.847099\n",
      "[300]\tvalidation-auc:0.847849\n",
      "[350]\tvalidation-auc:0.848431\n",
      "[400]\tvalidation-auc:0.848879\n",
      "[450]\tvalidation-auc:0.849238\n",
      "[500]\tvalidation-auc:0.849509\n",
      "[550]\tvalidation-auc:0.849688\n",
      "[600]\tvalidation-auc:0.849872\n",
      "[650]\tvalidation-auc:0.850002\n",
      "[700]\tvalidation-auc:0.850121\n",
      "[750]\tvalidation-auc:0.8502\n",
      "[800]\tvalidation-auc:0.850299\n",
      "[850]\tvalidation-auc:0.850373\n",
      "[900]\tvalidation-auc:0.850465\n",
      "Stopping. Best iteration:\n",
      "[902]\tvalidation-auc:0.850472\n",
      "\n",
      "\n",
      "max_depth = 7, min_child_weight = 3:\n",
      "[0]\tvalidation-auc:0.817055\n",
      "Will train until validation-auc hasn't improved in 10 rounds.\n",
      "[50]\tvalidation-auc:0.841441\n",
      "[100]\tvalidation-auc:0.844243\n",
      "[150]\tvalidation-auc:0.846289\n",
      "[200]\tvalidation-auc:0.847654\n",
      "[250]\tvalidation-auc:0.848589\n",
      "[300]\tvalidation-auc:0.849188\n",
      "[350]\tvalidation-auc:0.84962\n",
      "[400]\tvalidation-auc:0.849914\n",
      "[450]\tvalidation-auc:0.850146\n",
      "[500]\tvalidation-auc:0.850296\n",
      "[550]\tvalidation-auc:0.85042\n",
      "[600]\tvalidation-auc:0.850553\n",
      "Stopping. Best iteration:\n",
      "[623]\tvalidation-auc:0.850599\n",
      "\n",
      "\n",
      "max_depth = 7, min_child_weight = 5:\n",
      "[0]\tvalidation-auc:0.817056\n",
      "Will train until validation-auc hasn't improved in 10 rounds.\n",
      "[50]\tvalidation-auc:0.841454\n",
      "[100]\tvalidation-auc:0.844249\n",
      "[150]\tvalidation-auc:0.846313\n",
      "[200]\tvalidation-auc:0.847646\n",
      "[250]\tvalidation-auc:0.848577\n",
      "[300]\tvalidation-auc:0.849185\n",
      "[350]\tvalidation-auc:0.849654\n",
      "[400]\tvalidation-auc:0.849941\n",
      "[450]\tvalidation-auc:0.850167\n",
      "[500]\tvalidation-auc:0.850332\n",
      "[550]\tvalidation-auc:0.850437\n",
      "[600]\tvalidation-auc:0.850549\n",
      "[650]\tvalidation-auc:0.85062\n",
      "[700]\tvalidation-auc:0.850693\n",
      "Stopping. Best iteration:\n",
      "[702]\tvalidation-auc:0.850697\n",
      "\n",
      "\n"
     ]
    }
   ],
   "source": [
    "md1 = 6\n",
    "grid_2 = [(md1+i,mcw) for i in [-1,0,1] for mcw in [3,5]]\n",
    "validation_auc_2 = Counter()\n",
    "for md,mcw in grid_2:\n",
    "    print(\"max_depth = {0}, min_child_weight = {1}:\".format(md,mcw))\n",
    "    params = {'max_depth': md, 'eta': 0.02, 'min_child_weight': mcw, 'colsample_bytree': 0.8, \n",
    "              'subsample': 0.8, \n",
    "              'objective': 'binary:logistic', 'eval_metric': ['auc'],\n",
    "              'seed': 12345}\n",
    "    evals_result = {}\n",
    "    xgb_model = xgb.train(params = params, dtrain = dtrain_train, num_boost_round = int(5e3), evals = [(dtrain_val, 'validation')],\n",
    "                          early_stopping_rounds = 10,\n",
    "                          evals_result = evals_result,\n",
    "                          verbose_eval = 50)\n",
    "    validation_auc_2[(md,mcw)] = np.max(evals_result['validation']['auc'])\n",
    "    print(\"\")"
   ]
  },
  {
   "cell_type": "code",
   "execution_count": 17,
   "metadata": {},
   "outputs": [
    {
     "name": "stdout",
     "output_type": "stream",
     "text": [
      "((7, 5), 0.850697)\n",
      "((7, 3), 0.850599)\n",
      "((6, 5), 0.850472)\n",
      "((6, 3), 0.850432)\n",
      "((5, 3), 0.849962)\n",
      "((5, 5), 0.849959)\n"
     ]
    }
   ],
   "source": [
    "for t in validation_auc_2.most_common():\n",
    "    print(t)"
   ]
  },
  {
   "cell_type": "markdown",
   "metadata": {},
   "source": [
    "#### (3) Grid Search for colsample_by_tree"
   ]
  },
  {
   "cell_type": "code",
   "execution_count": 18,
   "metadata": {},
   "outputs": [
    {
     "name": "stdout",
     "output_type": "stream",
     "text": [
      "colsample_by_tree = 0.5:\n",
      "[0]\tvalidation-auc:0.669135\n",
      "Will train until validation-auc hasn't improved in 10 rounds.\n",
      "Stopping. Best iteration:\n",
      "[7]\tvalidation-auc:0.83465\n",
      "\n",
      "\n",
      "colsample_by_tree = 0.55:\n",
      "[0]\tvalidation-auc:0.669135\n",
      "Will train until validation-auc hasn't improved in 10 rounds.\n",
      "Stopping. Best iteration:\n",
      "[7]\tvalidation-auc:0.83465\n",
      "\n",
      "\n",
      "colsample_by_tree = 0.6:\n",
      "[0]\tvalidation-auc:0.806231\n",
      "Will train until validation-auc hasn't improved in 10 rounds.\n",
      "Stopping. Best iteration:\n",
      "[37]\tvalidation-auc:0.840852\n",
      "\n",
      "\n",
      "colsample_by_tree = 0.65:\n",
      "[0]\tvalidation-auc:0.806231\n",
      "Will train until validation-auc hasn't improved in 10 rounds.\n",
      "[50]\tvalidation-auc:0.841683\n",
      "[100]\tvalidation-auc:0.843626\n",
      "[150]\tvalidation-auc:0.845728\n",
      "[200]\tvalidation-auc:0.84703\n",
      "[250]\tvalidation-auc:0.848265\n",
      "[300]\tvalidation-auc:0.849077\n",
      "[350]\tvalidation-auc:0.849593\n",
      "[400]\tvalidation-auc:0.8499\n",
      "[450]\tvalidation-auc:0.850143\n",
      "[500]\tvalidation-auc:0.850333\n",
      "[550]\tvalidation-auc:0.850465\n",
      "[600]\tvalidation-auc:0.850556\n",
      "[650]\tvalidation-auc:0.850621\n",
      "[700]\tvalidation-auc:0.850707\n",
      "Stopping. Best iteration:\n",
      "[737]\tvalidation-auc:0.850754\n",
      "\n",
      "\n",
      "colsample_by_tree = 0.7:\n",
      "[0]\tvalidation-auc:0.806231\n",
      "Will train until validation-auc hasn't improved in 10 rounds.\n",
      "[50]\tvalidation-auc:0.841683\n",
      "[100]\tvalidation-auc:0.843626\n",
      "[150]\tvalidation-auc:0.845728\n",
      "[200]\tvalidation-auc:0.84703\n",
      "[250]\tvalidation-auc:0.848265\n",
      "[300]\tvalidation-auc:0.849077\n",
      "[350]\tvalidation-auc:0.849593\n",
      "[400]\tvalidation-auc:0.8499\n",
      "[450]\tvalidation-auc:0.850143\n",
      "[500]\tvalidation-auc:0.850333\n",
      "[550]\tvalidation-auc:0.850465\n",
      "[600]\tvalidation-auc:0.850556\n",
      "[650]\tvalidation-auc:0.850621\n",
      "[700]\tvalidation-auc:0.850707\n",
      "Stopping. Best iteration:\n",
      "[737]\tvalidation-auc:0.850754\n",
      "\n",
      "\n",
      "colsample_by_tree = 0.75:\n",
      "[0]\tvalidation-auc:0.817056\n",
      "Will train until validation-auc hasn't improved in 10 rounds.\n",
      "[50]\tvalidation-auc:0.84191\n",
      "[100]\tvalidation-auc:0.844178\n",
      "[150]\tvalidation-auc:0.846095\n",
      "[200]\tvalidation-auc:0.847385\n",
      "[250]\tvalidation-auc:0.84846\n",
      "[300]\tvalidation-auc:0.849172\n",
      "[350]\tvalidation-auc:0.849562\n",
      "[400]\tvalidation-auc:0.849879\n",
      "[450]\tvalidation-auc:0.850112\n",
      "[500]\tvalidation-auc:0.850292\n",
      "[550]\tvalidation-auc:0.850423\n",
      "[600]\tvalidation-auc:0.850512\n",
      "Stopping. Best iteration:\n",
      "[615]\tvalidation-auc:0.850555\n",
      "\n",
      "\n",
      "colsample_by_tree = 0.8:\n",
      "[0]\tvalidation-auc:0.817056\n",
      "Will train until validation-auc hasn't improved in 10 rounds.\n",
      "[50]\tvalidation-auc:0.841454\n",
      "[100]\tvalidation-auc:0.844249\n",
      "[150]\tvalidation-auc:0.846313\n",
      "[200]\tvalidation-auc:0.847646\n",
      "[250]\tvalidation-auc:0.848577\n",
      "[300]\tvalidation-auc:0.849185\n",
      "[350]\tvalidation-auc:0.849654\n",
      "[400]\tvalidation-auc:0.849941\n",
      "[450]\tvalidation-auc:0.850167\n",
      "[500]\tvalidation-auc:0.850332\n",
      "[550]\tvalidation-auc:0.850437\n",
      "[600]\tvalidation-auc:0.850549\n",
      "[650]\tvalidation-auc:0.85062\n",
      "[700]\tvalidation-auc:0.850693\n",
      "Stopping. Best iteration:\n",
      "[702]\tvalidation-auc:0.850697\n",
      "\n",
      "\n",
      "colsample_by_tree = 0.85:\n",
      "[0]\tvalidation-auc:0.817056\n",
      "Will train until validation-auc hasn't improved in 10 rounds.\n",
      "[50]\tvalidation-auc:0.841454\n",
      "[100]\tvalidation-auc:0.844249\n",
      "[150]\tvalidation-auc:0.846313\n",
      "[200]\tvalidation-auc:0.847646\n",
      "[250]\tvalidation-auc:0.848577\n",
      "[300]\tvalidation-auc:0.849185\n",
      "[350]\tvalidation-auc:0.849654\n",
      "[400]\tvalidation-auc:0.849941\n",
      "[450]\tvalidation-auc:0.850167\n",
      "[500]\tvalidation-auc:0.850332\n",
      "[550]\tvalidation-auc:0.850437\n",
      "[600]\tvalidation-auc:0.850549\n",
      "[650]\tvalidation-auc:0.85062\n",
      "[700]\tvalidation-auc:0.850693\n",
      "Stopping. Best iteration:\n",
      "[702]\tvalidation-auc:0.850697\n",
      "\n",
      "\n",
      "colsample_by_tree = 0.9:\n",
      "[0]\tvalidation-auc:0.825378\n",
      "Will train until validation-auc hasn't improved in 10 rounds.\n",
      "[50]\tvalidation-auc:0.840816\n",
      "[100]\tvalidation-auc:0.843998\n",
      "[150]\tvalidation-auc:0.846063\n",
      "[200]\tvalidation-auc:0.847447\n",
      "[250]\tvalidation-auc:0.848467\n",
      "[300]\tvalidation-auc:0.849077\n",
      "[350]\tvalidation-auc:0.849515\n",
      "[400]\tvalidation-auc:0.849812\n",
      "[450]\tvalidation-auc:0.850055\n",
      "[500]\tvalidation-auc:0.850202\n",
      "[550]\tvalidation-auc:0.850301\n",
      "[600]\tvalidation-auc:0.850416\n",
      "[650]\tvalidation-auc:0.850506\n",
      "[700]\tvalidation-auc:0.850602\n",
      "Stopping. Best iteration:\n",
      "[739]\tvalidation-auc:0.850653\n",
      "\n",
      "\n"
     ]
    }
   ],
   "source": [
    "grid_3 = [0.5, 0.55, 0.6, 0.65, 0.7, 0.75, 0.8, 0.85, 0.9]\n",
    "validation_auc_3 = Counter()\n",
    "for cbt in grid_3:\n",
    "    print(\"colsample_by_tree = {}:\".format(cbt))\n",
    "    params = {'max_depth': 7, 'eta': 0.02, 'min_child_weight': 5, 'colsample_bytree': cbt, \n",
    "              'subsample': 0.8, \n",
    "              'objective': 'binary:logistic', 'eval_metric': ['auc'],\n",
    "              'seed': 12345}\n",
    "    evals_result = {}\n",
    "    xgb_model = xgb.train(params = params, dtrain = dtrain_train, num_boost_round = int(5e3), evals = [(dtrain_val, 'validation')],\n",
    "                          early_stopping_rounds = 10,\n",
    "                          evals_result = evals_result,\n",
    "                          verbose_eval = 50)\n",
    "    validation_auc_3[cbt] = np.max(evals_result['validation']['auc'])\n",
    "    print(\"\")"
   ]
  },
  {
   "cell_type": "code",
   "execution_count": 19,
   "metadata": {},
   "outputs": [
    {
     "data": {
      "text/plain": [
       "[(0.7, 0.850754),\n",
       " (0.65, 0.850754),\n",
       " (0.85, 0.850697),\n",
       " (0.8, 0.850697),\n",
       " (0.9, 0.850653),\n",
       " (0.75, 0.850555),\n",
       " (0.6, 0.840852),\n",
       " (0.5, 0.83465),\n",
       " (0.55, 0.83465)]"
      ]
     },
     "execution_count": 19,
     "metadata": {},
     "output_type": "execute_result"
    }
   ],
   "source": [
    "validation_auc_3.most_common()"
   ]
  },
  {
   "cell_type": "markdown",
   "metadata": {},
   "source": [
    "#### (4) Finally select the opitmal num_boost_round"
   ]
  },
  {
   "cell_type": "code",
   "execution_count": 20,
   "metadata": {},
   "outputs": [
    {
     "name": "stdout",
     "output_type": "stream",
     "text": [
      "[0]\tvalidation-auc:0.806231\n",
      "Will train until validation-auc hasn't improved in 10 rounds.\n",
      "[50]\tvalidation-auc:0.841683\n",
      "[100]\tvalidation-auc:0.843626\n",
      "[150]\tvalidation-auc:0.845728\n",
      "[200]\tvalidation-auc:0.84703\n",
      "[250]\tvalidation-auc:0.848265\n",
      "[300]\tvalidation-auc:0.849077\n",
      "[350]\tvalidation-auc:0.849593\n",
      "[400]\tvalidation-auc:0.8499\n",
      "[450]\tvalidation-auc:0.850143\n",
      "[500]\tvalidation-auc:0.850333\n",
      "[550]\tvalidation-auc:0.850465\n",
      "[600]\tvalidation-auc:0.850556\n",
      "[650]\tvalidation-auc:0.850621\n",
      "[700]\tvalidation-auc:0.850707\n",
      "Stopping. Best iteration:\n",
      "[737]\tvalidation-auc:0.850754\n",
      "\n",
      "\n",
      "737\n"
     ]
    }
   ],
   "source": [
    "params = {'max_depth': 7, 'eta': 0.02, 'min_child_weight': 5, 'colsample_bytree': 0.7, \n",
    "          'subsample': 0.8, \n",
    "          'objective': 'binary:logistic', 'eval_metric': ['auc'],\n",
    "          'seed': 12345}\n",
    "evals_result = {}\n",
    "xgb_model = xgb.train(params = params, dtrain = dtrain_train, num_boost_round = int(5e3), evals = [(dtrain_val, 'validation')],\n",
    "                      early_stopping_rounds = 10,\n",
    "                      evals_result = evals_result,\n",
    "                      verbose_eval = 50)\n",
    "optimal_num_boost_round = np.argmax(evals_result['validation']['auc'])\n",
    "print(\"\")\n",
    "print(optimal_num_boost_round)"
   ]
  },
  {
   "cell_type": "markdown",
   "metadata": {},
   "source": [
    "#### (5) Train the final xgb model and make predictions for observations in the test set"
   ]
  },
  {
   "cell_type": "code",
   "execution_count": 21,
   "metadata": {
    "collapsed": true
   },
   "outputs": [],
   "source": [
    "optimal_num_boost_round = 737"
   ]
  },
  {
   "cell_type": "code",
   "execution_count": 22,
   "metadata": {
    "collapsed": true
   },
   "outputs": [],
   "source": [
    "# specify parameters via map\n",
    "params = {'max_depth': 7, 'eta': 0.02, 'min_child_weight': 5, 'colsample_bytree': 0.7, \n",
    "          'subsample': 0.8, \n",
    "          'objective': 'binary:logistic', 'eval_metric': ['auc'],\n",
    "          'seed': 12345}\n",
    "final_xgb_model = xgb.train(params = params, dtrain = dtrain, num_boost_round = optimal_num_boost_round)\n",
    "# make prediction for observations in the test set\n",
    "y_test_pred = final_xgb_model.predict(dtest)"
   ]
  },
  {
   "cell_type": "code",
   "execution_count": 23,
   "metadata": {},
   "outputs": [
    {
     "name": "stdout",
     "output_type": "stream",
     "text": [
      "XGBoost:\n",
      "AUC = 0.855\n"
     ]
    }
   ],
   "source": [
    "print(\"XGBoost:\")\n",
    "print(\"AUC = {}\".format(round(roc_auc_score(dtest.get_label(), y_test_pred), 4)))"
   ]
  },
  {
   "cell_type": "code",
   "execution_count": 24,
   "metadata": {
    "collapsed": true
   },
   "outputs": [],
   "source": [
    "# save the model object and predicted scores on the validation sample to local disk\n",
    "# pickle.dump(final_xgb_model, open(results_dir + \"/xgb.p\", \"wb\"))\n",
    "pickle.dump(list(y_test_pred), open(results_dir + \"/y_test_pred_xgb.p\", \"wb\"))"
   ]
  },
  {
   "cell_type": "code",
   "execution_count": 25,
   "metadata": {
    "collapsed": true
   },
   "outputs": [],
   "source": [
    "feature_importance = pd.DataFrame(list(final_xgb_model.get_fscore().items()), columns=['feature','importance']).sort_values('importance', ascending=False)\n",
    "feature_importance.loc[:, 'importance'] = feature_importance.loc[:, 'importance'] / sum(feature_importance.loc[:, 'importance'])\n",
    "yy = feature_importance.loc[:, 'importance'].iloc[:20]\n",
    "xx = feature_importance.loc[:, 'feature'].iloc[:20]"
   ]
  },
  {
   "cell_type": "code",
   "execution_count": 26,
   "metadata": {
    "collapsed": true
   },
   "outputs": [],
   "source": [
    "xgb_summary = feature_importance.rename(columns = {'feature':'predictor_name',\n",
    "                                                   'importance':'feature_importance'})\\\n",
    ".loc[:,['predictor_name', 'feature_importance']]\n",
    "xgb_summary = xgb_summary.merge(pd.DataFrame({'predictor_name': predictors}), on=['predictor_name'], how='right')\\\n",
    ".sort_values(['feature_importance', 'predictor_name'], ascending=[False, True]).fillna(0)\n",
    "xgb_summary.to_csv(results_dir + \"xgb_summary.csv\", index=False)"
   ]
  },
  {
   "cell_type": "code",
   "execution_count": 29,
   "metadata": {},
   "outputs": [
    {
     "data": {
      "image/png": "[encoded data removed]",
      "text/plain": [
       "<Figure size 864x648 with 1 Axes>"
      ]
     },
     "metadata": {},
     "output_type": "display_data"
    }
   ],
   "source": [
    "fig = plt.figure(figsize=(12,9))\n",
    "plt.bar(list(range(14)), yy, width=0.75, color = \"orange\")\n",
    "plt.xticks(list(range(14)), xx, rotation = 'vertical', fontsize=14)\n",
    "plt.yticks(fontsize=14)\n",
    "plt.xlabel(\"Predictor\", fontsize=16, color=\"gray\")\n",
    "plt.ylabel(\"Feature Importance\", fontsize=16, color=\"gray\")\n",
    "plt.savefig(results_dir + \"XGBoost_variable_importance.png\")\n",
    "plt.show()"
   ]
  },
  {
   "cell_type": "code",
   "execution_count": 30,
   "metadata": {
    "collapsed": true
   },
   "outputs": [],
   "source": [
    "def find_optimal_threshold(p,r,t):\n",
    "    to_drop = np.union1d(np.where(pd.isnull(p[:-1]) == True)[0], np.where(pd.isnull(r[:-1]) == True)[0])\n",
    "    to_drop = np.union1d(to_drop, np.where(pd.isnull(t) == True)[0])\n",
    "    to_keep = np.setdiff1d(np.array(list(range(len(p)-1))), to_drop)\n",
    "    p,r,t = p[to_keep],r[to_keep],t[to_keep]\n",
    "    f1 = 2*p*r/(p+r)\n",
    "    best_t = t[np.argmax(f1)]\n",
    "    best_t\n",
    "    return best_t\n",
    "\n",
    "def cross_validation(train, xgb_params, nbr):\n",
    "    threshold_list = []\n",
    "    auc_list = []\n",
    "    k_fold =  StratifiedKFold(n_splits = 10, random_state = 12345, shuffle=True)\n",
    "    for train_indices, test_indices in k_fold.split(train, train.grad_6years):\n",
    "        train_part = train.iloc[train_indices,:]\n",
    "        test_part = train.iloc[test_indices,:]\n",
    "        train_part_new, test_part_new = impute(train_part, test_part)\n",
    "        X_1 = train_part_new.loc[:,predictors]\n",
    "        y_1 = train_part_new.grad_6years\n",
    "        X_2 = test_part_new.loc[:,predictors]\n",
    "        y_2 = test_part_new.grad_6years\n",
    "        dtrain_cv = xgb.DMatrix(X_1,y_1)\n",
    "        dtest_cv = xgb.DMatrix(X_2,y_2)\n",
    "        xgb_cv_model = xgb.train(params=xgb_params, dtrain=dtrain_cv, num_boost_round = nbr)\n",
    "        y_2_pred = xgb_cv_model.predict(dtest_cv)\n",
    "        p,r,t = precision_recall_curve(y_2, y_2_pred)\n",
    "        auc = roc_auc_score(y_2, y_2_pred)\n",
    "        threshold_list.append(find_optimal_threshold(p,r,t))\n",
    "        auc_list.append(auc)\n",
    "    print(np.mean(auc_list), np.std(auc_list, ddof=1))\n",
    "    return gmean(threshold_list)"
   ]
  },
  {
   "cell_type": "code",
   "execution_count": 31,
   "metadata": {},
   "outputs": [
    {
     "name": "stderr",
     "output_type": "stream",
     "text": [
      "C:\\Users\\ys8mz\\AppData\\Local\\Continuum\\Anaconda3\\lib\\site-packages\\pandas\\core\\indexing.py:543: SettingWithCopyWarning: \n",
      "A value is trying to be set on a copy of a slice from a DataFrame.\n",
      "Try using .loc[row_indexer,col_indexer] = value instead\n",
      "\n",
      "See the caveats in the documentation: http://pandas.pydata.org/pandas-docs/stable/indexing.html#indexing-view-versus-copy\n",
      "  self.obj[item] = s\n",
      "C:\\Users\\ys8mz\\AppData\\Local\\Continuum\\Anaconda3\\lib\\site-packages\\pandas\\core\\indexing.py:543: SettingWithCopyWarning: \n",
      "A value is trying to be set on a copy of a slice from a DataFrame.\n",
      "Try using .loc[row_indexer,col_indexer] = value instead\n",
      "\n",
      "See the caveats in the documentation: http://pandas.pydata.org/pandas-docs/stable/indexing.html#indexing-view-versus-copy\n",
      "  self.obj[item] = s\n",
      "C:\\Users\\ys8mz\\AppData\\Local\\Continuum\\Anaconda3\\lib\\site-packages\\pandas\\core\\indexing.py:543: SettingWithCopyWarning: \n",
      "A value is trying to be set on a copy of a slice from a DataFrame.\n",
      "Try using .loc[row_indexer,col_indexer] = value instead\n",
      "\n",
      "See the caveats in the documentation: http://pandas.pydata.org/pandas-docs/stable/indexing.html#indexing-view-versus-copy\n",
      "  self.obj[item] = s\n",
      "C:\\Users\\ys8mz\\AppData\\Local\\Continuum\\Anaconda3\\lib\\site-packages\\pandas\\core\\indexing.py:543: SettingWithCopyWarning: \n",
      "A value is trying to be set on a copy of a slice from a DataFrame.\n",
      "Try using .loc[row_indexer,col_indexer] = value instead\n",
      "\n",
      "See the caveats in the documentation: http://pandas.pydata.org/pandas-docs/stable/indexing.html#indexing-view-versus-copy\n",
      "  self.obj[item] = s\n",
      "C:\\Users\\ys8mz\\AppData\\Local\\Continuum\\Anaconda3\\lib\\site-packages\\pandas\\core\\indexing.py:543: SettingWithCopyWarning: \n",
      "A value is trying to be set on a copy of a slice from a DataFrame.\n",
      "Try using .loc[row_indexer,col_indexer] = value instead\n",
      "\n",
      "See the caveats in the documentation: http://pandas.pydata.org/pandas-docs/stable/indexing.html#indexing-view-versus-copy\n",
      "  self.obj[item] = s\n",
      "C:\\Users\\ys8mz\\AppData\\Local\\Continuum\\Anaconda3\\lib\\site-packages\\pandas\\core\\indexing.py:543: SettingWithCopyWarning: \n",
      "A value is trying to be set on a copy of a slice from a DataFrame.\n",
      "Try using .loc[row_indexer,col_indexer] = value instead\n",
      "\n",
      "See the caveats in the documentation: http://pandas.pydata.org/pandas-docs/stable/indexing.html#indexing-view-versus-copy\n",
      "  self.obj[item] = s\n",
      "C:\\Users\\ys8mz\\AppData\\Local\\Continuum\\Anaconda3\\lib\\site-packages\\pandas\\core\\indexing.py:543: SettingWithCopyWarning: \n",
      "A value is trying to be set on a copy of a slice from a DataFrame.\n",
      "Try using .loc[row_indexer,col_indexer] = value instead\n",
      "\n",
      "See the caveats in the documentation: http://pandas.pydata.org/pandas-docs/stable/indexing.html#indexing-view-versus-copy\n",
      "  self.obj[item] = s\n",
      "C:\\Users\\ys8mz\\AppData\\Local\\Continuum\\Anaconda3\\lib\\site-packages\\pandas\\core\\indexing.py:543: SettingWithCopyWarning: \n",
      "A value is trying to be set on a copy of a slice from a DataFrame.\n",
      "Try using .loc[row_indexer,col_indexer] = value instead\n",
      "\n",
      "See the caveats in the documentation: http://pandas.pydata.org/pandas-docs/stable/indexing.html#indexing-view-versus-copy\n",
      "  self.obj[item] = s\n",
      "C:\\Users\\ys8mz\\AppData\\Local\\Continuum\\Anaconda3\\lib\\site-packages\\pandas\\core\\indexing.py:543: SettingWithCopyWarning: \n",
      "A value is trying to be set on a copy of a slice from a DataFrame.\n",
      "Try using .loc[row_indexer,col_indexer] = value instead\n",
      "\n",
      "See the caveats in the documentation: http://pandas.pydata.org/pandas-docs/stable/indexing.html#indexing-view-versus-copy\n",
      "  self.obj[item] = s\n",
      "C:\\Users\\ys8mz\\AppData\\Local\\Continuum\\Anaconda3\\lib\\site-packages\\pandas\\core\\indexing.py:543: SettingWithCopyWarning: \n",
      "A value is trying to be set on a copy of a slice from a DataFrame.\n",
      "Try using .loc[row_indexer,col_indexer] = value instead\n",
      "\n",
      "See the caveats in the documentation: http://pandas.pydata.org/pandas-docs/stable/indexing.html#indexing-view-versus-copy\n",
      "  self.obj[item] = s\n"
     ]
    },
    {
     "name": "stdout",
     "output_type": "stream",
     "text": [
      "0.8523419272699062 0.002535903987580834\n"
     ]
    }
   ],
   "source": [
    "final_params = {'max_depth': 7, 'eta': 0.02, 'min_child_weight': 5, 'colsample_bytree': 0.7, \n",
    "                'subsample': 0.8, \n",
    "                'objective': 'binary:logistic', 'eval_metric': ['auc'],\n",
    "                'seed': 12345}\n",
    "best_threshold = cross_validation(train_df, final_params, optimal_num_boost_round)"
   ]
  },
  {
   "cell_type": "code",
   "execution_count": 32,
   "metadata": {},
   "outputs": [
    {
     "data": {
      "text/plain": [
       "0.34333235"
      ]
     },
     "execution_count": 32,
     "metadata": {},
     "output_type": "execute_result"
    }
   ],
   "source": [
    "best_threshold"
   ]
  },
  {
   "cell_type": "code",
   "execution_count": 34,
   "metadata": {
    "collapsed": true
   },
   "outputs": [],
   "source": [
    "def create_confusion_matrix(y_test_pred, threshold, fname):\n",
    "    cm_arr = confusion_matrix(y_test, np.where(y_test_pred > threshold, 1, 0))\n",
    "    cm_df = pd.DataFrame(cm_arr, columns=['Pred_0','Pred_1'], index=['Real_0', 'Real_1'])\n",
    "    cm_df.loc[:,''] = cm_df.sum(axis=1)\n",
    "    cm_df.loc['',:] = cm_df.sum(axis=0)\n",
    "    print(cm_df)\n",
    "    print(\"\")\n",
    "    p1 = cm_df.iloc[1,1]/cm_df.iloc[2,1]\n",
    "    r1 = cm_df.iloc[1,1]/cm_df.iloc[1,2]\n",
    "    p0 = cm_df.iloc[0,0]/cm_df.iloc[2,0]\n",
    "    r0 = cm_df.iloc[0,0]/cm_df.iloc[0,2]    \n",
    "    print(\"F1 score = {}\".format(round(2*p1*r1/(p1+r1),4)))    \n",
    "    cm_df.to_csv(results_dir + fname + \".csv\")\n",
    "    return p1,r1,p0,r0,round(2*p1*r1/(p1+r1),4)"
   ]
  },
  {
   "cell_type": "code",
   "execution_count": 35,
   "metadata": {},
   "outputs": [
    {
     "name": "stdout",
     "output_type": "stream",
     "text": [
      "F1 threshold = 0.343:\n",
      "\n",
      "         Pred_0   Pred_1         \n",
      "Real_0  16963.0   4845.0  21808.0\n",
      "Real_1   2592.0   8715.0  11307.0\n",
      "        19555.0  13560.0  33115.0\n",
      "\n",
      "F1 score = 0.7009\n"
     ]
    }
   ],
   "source": [
    "print(\"F1 threshold = {}:\\n\".format(str(round(best_threshold,3))))\n",
    "pr_xgb = create_confusion_matrix(y_test_pred, best_threshold, \"XGBoost_cm1\")"
   ]
  },
  {
   "cell_type": "code",
   "execution_count": 36,
   "metadata": {},
   "outputs": [
    {
     "name": "stdout",
     "output_type": "stream",
     "text": [
      "Alternative threshold = 0.416:\n",
      "\n",
      "         Pred_0   Pred_1         \n",
      "Real_0  18348.0   3460.0  21808.0\n",
      "Real_1   3441.0   7866.0  11307.0\n",
      "        21789.0  11326.0  33115.0\n",
      "\n",
      "F1 score = 0.6951\n"
     ]
    }
   ],
   "source": [
    "num_of_0 = int(round((1-np.mean(train_df.grad_6years))*len(y_test)))\n",
    "y_test_pred_binary = np.ones(len(y_test))\n",
    "y_test_pred_binary[np.argsort(y_test_pred)[:num_of_0]] = 0\n",
    "alternative_threshold = y_test_pred[np.argsort(y_test_pred)[num_of_0]]\n",
    "print(\"Alternative threshold = {}:\\n\".format(str(round(alternative_threshold,3))))\n",
    "pr2_xgb = create_confusion_matrix(y_test_pred_binary, best_threshold, \"XGBoost_cm2\")"
   ]
  },
  {
   "cell_type": "code",
   "execution_count": 37,
   "metadata": {
    "collapsed": true
   },
   "outputs": [],
   "source": [
    "precision_recall_df = pd.DataFrame([(best_threshold,)+pr_xgb,(alternative_threshold,)+pr2_xgb]).round(4)\n",
    "precision_recall_df.index = ['F1','Same_Graduation_Rate']\n",
    "precision_recall_df.columns = ['threshold','precision_1','recall_1','precision_0','recall_0','f1_score']\n",
    "precision_recall_df.to_csv(results_dir + \"XGBoost_precision_recall.csv\", index=True)"
   ]
  },
  {
   "cell_type": "code",
   "execution_count": null,
   "metadata": {
    "collapsed": true
   },
   "outputs": [],
   "source": []
  },
  {
   "cell_type": "markdown",
   "metadata": {
    "collapsed": true
   },
   "source": [
    "#### Reorganize files of key evaluation metrics for the five truncated models: OLS, Logit, RF, XGBoost, CoxPH"
   ]
  },
  {
   "cell_type": "code",
   "execution_count": 2,
   "metadata": {
    "collapsed": true
   },
   "outputs": [],
   "source": [
    "# Extract all of the key evaluation metrics of the five truncated models that only include simple non-term-specific predictors,\n",
    "# which will be used to populate column (2) within the Appendix Table A1 of the paper, as well as to generate Figure 1 and\n",
    "# Figure A14\n",
    "cstat = [0.8183,0.8105,0.8368,0.8516,0.855]\n",
    "m_dict = {'Logit': 'LR1', 'OLS': 'OLS',\n",
    "          'RF': 'RF', 'XGBoost': 'XGBoost',\n",
    "          'CoxPH': 'Cox'}\n",
    "m_list = ['Logit', 'OLS', 'CoxPH', 'RF', 'XGBoost']\n",
    "summary = []\n",
    "for c,m in zip(cstat,m_list):\n",
    "    summary.append((m,c)+tuple(pd.read_csv(results_dir + \"\\\\{}_precision_recall.csv\".format(m_dict[m])).iloc[0,1:]))\n",
    "summary_df = pd.DataFrame(summary, columns=['model','c-statistic','threshold','precision_1','recall_1',\n",
    "                                            'precision_0','recall_0','f1_score_1'])\n",
    "summary_df.loc[:,'f1_score_0'] = 2*summary_df.precision_0*summary_df.recall_0/(summary_df.precision_0+summary_df.recall_0)\n",
    "summary_df.loc[:,'f1_score_0'] = summary_df.loc[:,'f1_score_0'].apply(lambda x: round(x,4))\n",
    "summary_df.to_csv(results_dir + \"cleaned_results\\\\main_eval_metrics.csv\", index=False)"
   ]
  },
  {
   "cell_type": "code",
   "execution_count": null,
   "metadata": {
    "collapsed": true
   },
   "outputs": [],
   "source": []
  }
 ],
 "metadata": {
  "kernelspec": {
   "display_name": "Python 3",
   "language": "python",
   "name": "python3"
  },
  "language_info": {
   "codemirror_mode": {
    "name": "ipython",
    "version": 3
   },
   "file_extension": ".py",
   "mimetype": "text/x-python",
   "name": "python",
   "nbconvert_exporter": "python",
   "pygments_lexer": "ipython3",
   "version": "3.5.3"
  }
 },
 "nbformat": 4,
 "nbformat_minor": 2
}
