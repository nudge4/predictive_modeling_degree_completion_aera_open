{
 "cells": [
  {
   "cell_type": "code",
   "execution_count": 1,
   "metadata": {
    "collapsed": true
   },
   "outputs": [],
   "source": [
    "import pickle\n",
    "import pandas as pd\n",
    "import numpy as np\n",
    "from scipy.stats.mstats import gmean\n",
    "import sklearn\n",
    "import statsmodels.api as sm\n",
    "from statsmodels.tools import add_constant\n",
    "from statsmodels.genmod.generalized_linear_model import GLM\n",
    "from statsmodels.genmod import families\n",
    "from sklearn.metrics import precision_recall_curve, roc_auc_score, confusion_matrix, precision_score, recall_score\n",
    "from sklearn.model_selection import train_test_split, KFold, StratifiedKFold\n",
    "import seaborn as sns\n",
    "import matplotlib.pyplot as plt\n",
    "import re\n",
    "\n",
    "fpath = \"/Users/ys8mz/Box Sync/Predictive Models of College Completion (VCCS)/intermediate_files\""
   ]
  },
  {
   "cell_type": "code",
   "execution_count": 2,
   "metadata": {
    "collapsed": true
   },
   "outputs": [],
   "source": [
    "df = pd.read_stata(fpath + \"/full_data_truncated.dta\")"
   ]
  },
  {
   "cell_type": "code",
   "execution_count": 3,
   "metadata": {},
   "outputs": [
    {
     "name": "stdout",
     "output_type": "stream",
     "text": [
      "331\n"
     ]
    }
   ],
   "source": [
    "predictors = list(df.columns)[10:]\n",
    "print(len(predictors))\n",
    "impute_list_1 = set([\"prop_comp_pre\",\"cum_gpa_pre\"])\n",
    "impute_list_2 = set([t1+\"_\"+t2+str(t3) for t1 in [\"term_gpa\", \"prop_comp\", \"lvl2_prop_comp\", \"dev_prop_comp\"] for t2 in [\"fa\", \"sp\", \"su\"] for t3 in range(1,7,1)])\n",
    "impute_list_3 = set([\"cum_gpa\", \"lvl2_prop_comp\", \"dev_prop_comp\", \"prop_comp\", \"prop_comp_sd\", \"withdrawn_prop_comp_sd\"])\n",
    "impute_list_4 = set([\"admrate\", \"gradrate\", \"satvr25\", \"satvr75\", \"satmt25\", \"satmt75\", \"satwr25\", \"satwr75\"])"
   ]
  },
  {
   "cell_type": "markdown",
   "metadata": {},
   "source": [
    "#### (0) Create the predictor name crosswalk"
   ]
  },
  {
   "cell_type": "code",
   "execution_count": 1,
   "metadata": {
    "collapsed": true
   },
   "outputs": [],
   "source": [
    "term_predictors = [p for p in predictors if re.search(\"_(yr|sp|su|fa)[1-6]$\", p)]\n",
    "non_term_predictors = np.setdiff1d(predictors, term_predictors)\n",
    "term_predictors_prototype = np.unique([p[:-4] for p in term_predictors if p.endswith(\"_fa1\")])\n",
    "yr_predictors_prototype = np.unique([p[:-4] for p in term_predictors if p.endswith(\"_yr1\")])"
   ]
  },
  {
   "cell_type": "code",
   "execution_count": 113,
   "metadata": {},
   "outputs": [
    {
     "name": "stdout",
     "output_type": "stream",
     "text": [
      "['grants' 'others' 'sub_loans' 'unsub_loans']\n"
     ]
    }
   ],
   "source": [
    "print(yr_predictors_prototype)\n",
    "yr_predictors = [p+y for y in [\"_yr{}\".format(i) for i in range(1,7,1)] for p in yr_predictors_prototype]"
   ]
  },
  {
   "cell_type": "code",
   "execution_count": 114,
   "metadata": {
    "collapsed": true
   },
   "outputs": [],
   "source": [
    "yr_predictors_prototype_2 = ['logarithm of total grants received in',\n",
    "                             'logarithm of other aids received in',\n",
    "                             'logarithm of subsidized loans received in',\n",
    "                             'logarithm of unsubsidized loans received in']\n",
    "yr_predictors_2 = [p+y for y in [\" year {}\".format(i) for i in range(1,7,1)] for p in yr_predictors_prototype_2]"
   ]
  },
  {
   "cell_type": "code",
   "execution_count": 115,
   "metadata": {},
   "outputs": [
    {
     "name": "stdout",
     "output_type": "stream",
     "text": [
      "['available' 'degree_seeking' 'dev_prop_comp' 'enrl_intensity_nsc'\n",
      " 'enrolled' 'enrolled_nsc' 'lvl2_prop_comp' 'pell_0' 'pell_1' 'prop_comp'\n",
      " 'repeat' 'term_cred_att' 'term_gpa' 'withdrawn_prop_comp']\n"
     ]
    }
   ],
   "source": [
    "print(term_predictors_prototype)\n",
    "term_predictors = [p + \"_{0}{1}\".format(t,i) for i in range(1,7,1) for t in ['fa','sp','su'] for p in term_predictors_prototype]"
   ]
  },
  {
   "cell_type": "code",
   "execution_count": 116,
   "metadata": {
    "collapsed": true
   },
   "outputs": [],
   "source": [
    "term_dict = {1: '1st', 2:'2nd', 3:'3rd', 4:'4th', 5:'5th', 6:'6th',\n",
    "             'su': 'summer', 'sp': 'spring', 'fa': 'fall'}\n",
    "term_predictors_prototype_2 = ['indicator for data availability in',\n",
    "                               'indicator for whether student is in degree-seeking status in',\n",
    "                               'proportion of attempted credits of developmental courses in',\n",
    "                               'total enrollment intensity in non-VCCS institutions in',\n",
    "                               'indicator for whether student is actively enrolled in VCCS in',\n",
    "                               'indicator for whether student is actively enrolled in non-VCCS institutions in',\n",
    "                               'proprotion of attempted credits of 2XX level courses in',\n",
    "                               'indicator for not Pell-eligibile',\n",
    "                               'indicator for Pell-eligible',\n",
    "                               'proportion of earned credits among attempted credits in',\n",
    "                               'indicator for whether student repeated a previously taken course in',\n",
    "                               'number of credit hours attempted in',\n",
    "                               'term GPA in',\n",
    "                               'proportion of withdrawn credits among attempted credits']\n",
    "term_predictors_2 = [p + \" the {0} {1} term\".format(term_dict[i], term_dict[t]) for i in range(1,7,1) for t in ['fa','sp','su'] for p in term_predictors_prototype_2]"
   ]
  },
  {
   "cell_type": "code",
   "execution_count": 117,
   "metadata": {},
   "outputs": [
    {
     "name": "stdout",
     "output_type": "stream",
     "text": [
      "['admrate' 'afam' 'age_entry' 'coll_lvl_cred_earn' 'college_entropy'\n",
      " 'cum_gpa' 'cum_gpa_pre' 'dev_prop_comp' 'dual_ind' 'enrl_intensity_trend'\n",
      " 'enrolled_nsc' 'enrolled_pre' 'gpa_trend' 'gradrate' 'hisp'\n",
      " 'lvl2_prop_comp' 'male' 'nsc_coll_type_1' 'nsc_coll_type_2'\n",
      " 'nsc_coll_type_3' 'nsc_coll_type_4' 'nsc_coll_type_5' 'nsc_coll_type_6'\n",
      " 'nsc_coll_type_7' 'nsc_coll_type_8' 'nsc_terms' 'num_nsc_coll' 'other'\n",
      " 'pell_0_ind' 'pell_1_ind' 'phe_1' 'phe_2' 'phe_3' 'phe_4' 'phe_5' 'phe_6'\n",
      " 'phe_7' 'pre_nsc_terms' 'pre_num_nsc_coll' 'program_chng_ind' 'prop_comp'\n",
      " 'prop_comp_pre' 'prop_comp_sd' 'repeat_ind' 'satmt25' 'satmt75' 'satvr25'\n",
      " 'satvr75' 'satwr25' 'satwr75' 'seamless_enrollee_0' 'seamless_enrollee_1'\n",
      " 'white' 'withdrawn_prop_comp' 'withdrawn_prop_comp_sd']\n"
     ]
    }
   ],
   "source": [
    "print(non_term_predictors)"
   ]
  },
  {
   "cell_type": "code",
   "execution_count": 118,
   "metadata": {
    "collapsed": true
   },
   "outputs": [],
   "source": [
    "non_term_predictors_2 = ['(weighted) average of admission rates of all non-VCCS institutions attended',\n",
    "                         'indicator for African American',\n",
    "                         'age at initial enrollment at VCCS',\n",
    "                         'number of cumulative college-level credit hours earned prior to initial enrollment at VCCS',\n",
    "                         'negative of logarithm of the maximum proportion of cumulative credits attempted at one VCCS institution',\n",
    "                         'Cumulative GPA through the end of observation window',\n",
    "                         'Cumulative GPA prior to initial enrollment term at VCCS',\n",
    "                         'overall proportion of attempted credits of developmental courses',\n",
    "                         'indicator for dual enrollment prior to initial enrollment term',\n",
    "                         'slope of term-level number of credits attempted through the end of observation window',\n",
    "                         'indicator for whether student was ever enrolled in any non-VCCS institutions since initial enrollment term',\n",
    "                         'indicator for whether student was ever enrolled in VCCS prior to initial enrollment term',\n",
    "                         'slope of term GPA through the end of observation window',\n",
    "                         '(weighted) average of graduation rates of all non-VCCS institutions attended',\n",
    "                         'indicator for Hispanic',\n",
    "                         'overall proprotion of attempted credits of 2XX level courses',\n",
    "                         'indicator for male',\n",
    "                         'indicator for two-year, private, out-of-state',\n",
    "                         'indicator for two-year, private, in-state',\n",
    "                         'indicator for two-year, public, out-of-state',\n",
    "                         'indicator for two-year, public, in-state',\n",
    "                         'indicator for four-year, private, out-of-state',\n",
    "                         'indicator for four-year, private, in-state',\n",
    "                         'indicator for four-year, public, out-of-state',\n",
    "                         'indicator for four-year, public, in-state',\n",
    "                         'number of terms in which student was enrolled in non-VCCS institutions since initial enrollment term',\n",
    "                         'number of non-VCCS institutions in which student was enrolled since initial enrollment term',\n",
    "                         'indicator for other race/ethnicity',\n",
    "                         'indicator for never pell-eligible',\n",
    "                         'indicator for ever pell-eligible',\n",
    "                         'indicator for highest parental education being less than high school',\n",
    "                         'indicator for highest parental education being having attended high school',\n",
    "                         'indicator for highest parental education being having graduated from high school',\n",
    "                         'indicator for highest parental education being having attended college',\n",
    "                         \"indicator for highest parental education being having earned Associate's degree\",\n",
    "                         \"indicator for highest parental education being having earned Bachelor's degree\",\n",
    "                         \"indicator for highest parental education being having earned Post-Bachelor's degree\",\n",
    "                         'number of terms in which student was enrolled in non-VCCS institutions prior to initial enrollment term',\n",
    "                         'number of non-VCCS institutions in which student was enrolled prior to initial enrollment term',\n",
    "                         'indicator for whether student changed degree/major program pursued',\n",
    "                         'overall proportion of earned credits among attempted credits since initial enrollment term',\n",
    "                         'overall proportion of earned credits among attempted credits prior to initial enrollment term',\n",
    "                         'standard deviation of term-level proportion of earned credits among attempted credits since initial enrollment term',\n",
    "                         'indicator for whether student has ever repeated a previously taken course',\n",
    "                         '(weighted) average of the 1st quartiles of SAT math scores of all non-VCCS institutions attended',\n",
    "                         '(weighted) average of the 3rd quartiles of SAT math scores of all non-VCCS institutions attended',\n",
    "                         '(weighted) average of the 1st quartiles of SAT verbal scores of all non-VCCS institutions attended',\n",
    "                         '(weighted) average of the 3rd quartiles of SAT verbal scores of all non-VCCS institutions attended',\n",
    "                         '(weighted) average of the 1st quartiles of SAT writing scores of all non-VCCS institutions attended',\n",
    "                         '(weighted) average of the 3rd quartiles of SAT writing scores of all non-VCCS institutions attended',\n",
    "                         'indicator for not a seamless enrollee',\n",
    "                         'indicator for seamless enrollee',\n",
    "                         'indicator for White',\n",
    "                         'overall proportion of withdrawn credits among attempted credits since initial enrollment term',\n",
    "                         'standard deviation of term-level proportion of withdrawn credits among attempted credits since initial enrollment term']"
   ]
  },
  {
   "cell_type": "code",
   "execution_count": 119,
   "metadata": {
    "collapsed": true
   },
   "outputs": [],
   "source": [
    "predictors_1 = list(non_term_predictors) + term_predictors + yr_predictors\n",
    "predictors_2 = list(non_term_predictors_2) + term_predictors_2 + yr_predictors_2"
   ]
  },
  {
   "cell_type": "code",
   "execution_count": 124,
   "metadata": {
    "collapsed": true
   },
   "outputs": [],
   "source": [
    "pd.DataFrame({'predictor_name':predictors_1,\n",
    "              'predictor_meaning':predictors_2}).loc[:,['predictor_name', 'predictor_meaning']].to_csv(fpath + \"predictor_name_crosswalk.csv\", index=False)"
   ]
  },
  {
   "cell_type": "markdown",
   "metadata": {},
   "source": [
    "#### (1) Data pre-processing: missing value imputation"
   ]
  },
  {
   "cell_type": "code",
   "execution_count": 90,
   "metadata": {},
   "outputs": [
    {
     "name": "stdout",
     "output_type": "stream",
     "text": [
      "(298139, 341) (33115, 341)\n"
     ]
    }
   ],
   "source": [
    "train_df = df[df.valid == 0]\n",
    "test_df = df[df.valid == 1]\n",
    "print(train_df.shape,test_df.shape)"
   ]
  },
  {
   "cell_type": "code",
   "execution_count": 91,
   "metadata": {},
   "outputs": [
    {
     "data": {
      "text/plain": [
       "0.342028382734228"
      ]
     },
     "execution_count": 91,
     "metadata": {},
     "output_type": "execute_result"
    }
   ],
   "source": [
    "# degree completion rate of validation sample\n",
    "sum(train_df.grad_6years)/train_df.shape[0]"
   ]
  },
  {
   "cell_type": "code",
   "execution_count": 92,
   "metadata": {},
   "outputs": [
    {
     "data": {
      "text/plain": [
       "0.34144647440736825"
      ]
     },
     "execution_count": 92,
     "metadata": {},
     "output_type": "execute_result"
    }
   ],
   "source": [
    "# degree completion rate of validation sample\n",
    "sum(test_df.grad_6years)/test_df.shape[0]"
   ]
  },
  {
   "cell_type": "code",
   "execution_count": 93,
   "metadata": {
    "collapsed": true
   },
   "outputs": [],
   "source": [
    "def impute(train, test):\n",
    "    for p in impute_list_1:\n",
    "        avg_p = np.nanmean(train[train.enrolled_pre == 1][p])\n",
    "        train.loc[:,p] = train.loc[:,p].apply(lambda x: avg_p if pd.isnull(x) else x)\n",
    "        test.loc[:,p] = test.loc[:,p].apply(lambda x: avg_p if pd.isnull(x) else x)\n",
    "    for p in impute_list_3:\n",
    "        avg_p = np.nanmean(train[p])\n",
    "        train.loc[:,p] = train.loc[:,p].apply(lambda x: avg_p if pd.isnull(x) else x)\n",
    "        test.loc[:,p] = test.loc[:,p].apply(lambda x: avg_p if pd.isnull(x) else x)\n",
    "    for p in impute_list_2:\n",
    "        suffix = p[-3:]\n",
    "        avg_p = np.nanmean(train[train[\"enrolled_\" + suffix] == 1][p])\n",
    "        train.loc[:,p] = train.loc[:,p].apply(lambda x: avg_p if pd.isnull(x) else x)\n",
    "        test.loc[:,p] = test.loc[:,p].apply(lambda x: avg_p if pd.isnull(x) else x)\n",
    "    for p in impute_list_4:\n",
    "        avg_p = np.nanmean(train[train[\"enrolled_nsc\"] == 1][p])\n",
    "        train.loc[:,p] = train.loc[:,p].apply(lambda x: avg_p if pd.isnull(x) else x)\n",
    "        test.loc[:,p] = test.loc[:,p].apply(lambda x: avg_p if pd.isnull(x) else x)\n",
    "    return train, test                    "
   ]
  },
  {
   "cell_type": "code",
   "execution_count": 94,
   "metadata": {},
   "outputs": [
    {
     "name": "stderr",
     "output_type": "stream",
     "text": [
      "C:\\Users\\ys8mz\\AppData\\Local\\Continuum\\Anaconda3\\lib\\site-packages\\pandas\\core\\indexing.py:543: SettingWithCopyWarning: \n",
      "A value is trying to be set on a copy of a slice from a DataFrame.\n",
      "Try using .loc[row_indexer,col_indexer] = value instead\n",
      "\n",
      "See the caveats in the documentation: http://pandas.pydata.org/pandas-docs/stable/indexing.html#indexing-view-versus-copy\n",
      "  self.obj[item] = s\n"
     ]
    }
   ],
   "source": [
    "train_df_new, test_df_new = impute(train_df, test_df)\n",
    "X_train = train_df_new.loc[:,predictors]\n",
    "y_train = train_df_new.grad_6years\n",
    "X_test = test_df_new.loc[:,predictors]\n",
    "y_test = test_df_new.grad_6years"
   ]
  },
  {
   "cell_type": "code",
   "execution_count": 96,
   "metadata": {
    "collapsed": true
   },
   "outputs": [],
   "source": [
    "results_dir = \"C:\\\\Users\\\\ys8mz\\\\Box Sync\\\\Predictive Models of College Completion (VCCS)\\\\evaluation_results\\\\truncated_predictors\\\\\""
   ]
  },
  {
   "cell_type": "code",
   "execution_count": null,
   "metadata": {
    "collapsed": true
   },
   "outputs": [],
   "source": []
  },
  {
   "cell_type": "markdown",
   "metadata": {},
   "source": [
    "#### (2) Run the basic version of logistic regression"
   ]
  },
  {
   "cell_type": "code",
   "execution_count": 99,
   "metadata": {},
   "outputs": [
    {
     "name": "stdout",
     "output_type": "stream",
     "text": [
      "Optimization terminated successfully.\n",
      "         Current function value: 0.405821\n",
      "         Iterations 9\n"
     ]
    }
   ],
   "source": [
    "lr = sm.Logit(y_train, add_constant(X_train,prepend=True)).fit()"
   ]
  },
  {
   "cell_type": "code",
   "execution_count": 101,
   "metadata": {},
   "outputs": [
    {
     "name": "stdout",
     "output_type": "stream",
     "text": [
      "Logistic Regression:\n",
      "AUC = 0.8837\n"
     ]
    }
   ],
   "source": [
    "y_test_pred_lr = list(lr.predict(add_constant(X_test, prepend=True)))\n",
    "print(\"Logistic Regression:\")\n",
    "print(\"AUC = {}\".format(round(roc_auc_score(y_test, y_test_pred_lr),4)))"
   ]
  },
  {
   "cell_type": "code",
   "execution_count": 102,
   "metadata": {
    "collapsed": true
   },
   "outputs": [],
   "source": [
    "# save the model object and predicted scores on the validation sample to local disk\n",
    "pickle.dump(lr, open(results_dir + \"/lr.p\", \"wb\"))\n",
    "pickle.dump(list(y_test_pred_lr), open(fpath + \"/y_test_pred_lr.p\", \"wb\"))"
   ]
  },
  {
   "cell_type": "code",
   "execution_count": 15,
   "metadata": {
    "collapsed": true
   },
   "outputs": [],
   "source": [
    "# Save the coefficients along with standard errors and p-values of the Logit model to disk\n",
    "# (Used for generating Appendix Table A6 of the paper)\n",
    "lr_summary = pd.DataFrame({'coef': lr.params, 'std_err': lr.bse, 'p-values': lr.pvalues}, index=lr.params.index).loc[:,['coef','std_err','p-values']]\n",
    "lr_summary.to_csv(results_dir + \"lr_summary.csv\", index=True)"
   ]
  },
  {
   "cell_type": "code",
   "execution_count": 16,
   "metadata": {
    "collapsed": true
   },
   "outputs": [],
   "source": [
    "def find_optimal_threshold(p,r,t):\n",
    "    to_drop = np.union1d(np.where(pd.isnull(p[:-1]) == True)[0], np.where(pd.isnull(r[:-1]) == True)[0])\n",
    "    to_drop = np.union1d(to_drop, np.where(pd.isnull(t) == True)[0])\n",
    "    to_keep = np.setdiff1d(np.array(list(range(len(p)-1))), to_drop)\n",
    "    p,r,t = p[to_keep],r[to_keep],t[to_keep]\n",
    "    f1 = 2*p*r/(p+r)\n",
    "    best_t = t[np.argmax(f1)]\n",
    "    best_t\n",
    "    return best_t"
   ]
  },
  {
   "cell_type": "code",
   "execution_count": 17,
   "metadata": {
    "collapsed": true
   },
   "outputs": [],
   "source": [
    "def cross_validation_lr(train):\n",
    "    threshold_list = []\n",
    "    auc_list = []\n",
    "    k_fold =  StratifiedKFold(n_splits = 10, random_state = 12345, shuffle=True)\n",
    "    for train_indices, test_indices in k_fold.split(train, train.grad_6years):\n",
    "        train_part = train.iloc[train_indices,:]\n",
    "        test_part = train.iloc[test_indices,:]\n",
    "        train_part_new, test_part_new = impute(train_part, test_part)\n",
    "        X_1 = train_part_new.loc[:,predictors]\n",
    "        y_1 = train_part_new.grad_6years\n",
    "        X_2 = test_part_new.loc[:,predictors]\n",
    "        y_2 = test_part_new.grad_6years\n",
    "        model = sm.Logit(y_1, add_constant(X_1,prepend=True)).fit()\n",
    "        p,r,t = precision_recall_curve(y_2, model.predict(add_constant(X_2, prepend=True)))\n",
    "        auc = roc_auc_score(y_2, model.predict(add_constant(X_2, prepend=True)))\n",
    "        threshold_list.append(find_optimal_threshold(p,r,t))\n",
    "        auc_list.append(auc)\n",
    "    print(threshold_list)\n",
    "    print(np.mean(auc_list), np.std(auc_list, ddof=1))\n",
    "    return gmean(threshold_list)                                  "
   ]
  },
  {
   "cell_type": "code",
   "execution_count": 18,
   "metadata": {},
   "outputs": [
    {
     "name": "stderr",
     "output_type": "stream",
     "text": [
      "C:\\Users\\ys8mz\\AppData\\Local\\Continuum\\Anaconda3\\lib\\site-packages\\pandas\\core\\indexing.py:543: SettingWithCopyWarning: \n",
      "A value is trying to be set on a copy of a slice from a DataFrame.\n",
      "Try using .loc[row_indexer,col_indexer] = value instead\n",
      "\n",
      "See the caveats in the documentation: http://pandas.pydata.org/pandas-docs/stable/indexing.html#indexing-view-versus-copy\n",
      "  self.obj[item] = s\n"
     ]
    },
    {
     "name": "stdout",
     "output_type": "stream",
     "text": [
      "Optimization terminated successfully.\n",
      "         Current function value: 0.405406\n",
      "         Iterations 9\n"
     ]
    },
    {
     "name": "stderr",
     "output_type": "stream",
     "text": [
      "C:\\Users\\ys8mz\\AppData\\Local\\Continuum\\Anaconda3\\lib\\site-packages\\pandas\\core\\indexing.py:543: SettingWithCopyWarning: \n",
      "A value is trying to be set on a copy of a slice from a DataFrame.\n",
      "Try using .loc[row_indexer,col_indexer] = value instead\n",
      "\n",
      "See the caveats in the documentation: http://pandas.pydata.org/pandas-docs/stable/indexing.html#indexing-view-versus-copy\n",
      "  self.obj[item] = s\n"
     ]
    },
    {
     "name": "stdout",
     "output_type": "stream",
     "text": [
      "Optimization terminated successfully.\n",
      "         Current function value: 0.406092\n",
      "         Iterations 9\n"
     ]
    },
    {
     "name": "stderr",
     "output_type": "stream",
     "text": [
      "C:\\Users\\ys8mz\\AppData\\Local\\Continuum\\Anaconda3\\lib\\site-packages\\pandas\\core\\indexing.py:543: SettingWithCopyWarning: \n",
      "A value is trying to be set on a copy of a slice from a DataFrame.\n",
      "Try using .loc[row_indexer,col_indexer] = value instead\n",
      "\n",
      "See the caveats in the documentation: http://pandas.pydata.org/pandas-docs/stable/indexing.html#indexing-view-versus-copy\n",
      "  self.obj[item] = s\n"
     ]
    },
    {
     "name": "stdout",
     "output_type": "stream",
     "text": [
      "Warning: Maximum number of iterations has been exceeded.\n",
      "         Current function value: 0.405902\n",
      "         Iterations: 35\n"
     ]
    },
    {
     "name": "stderr",
     "output_type": "stream",
     "text": [
      "C:\\Users\\ys8mz\\AppData\\Local\\Continuum\\Anaconda3\\lib\\site-packages\\statsmodels\\base\\model.py:508: ConvergenceWarning: Maximum Likelihood optimization failed to converge. Check mle_retvals\n",
      "  \"Check mle_retvals\", ConvergenceWarning)\n",
      "C:\\Users\\ys8mz\\AppData\\Local\\Continuum\\Anaconda3\\lib\\site-packages\\pandas\\core\\indexing.py:543: SettingWithCopyWarning: \n",
      "A value is trying to be set on a copy of a slice from a DataFrame.\n",
      "Try using .loc[row_indexer,col_indexer] = value instead\n",
      "\n",
      "See the caveats in the documentation: http://pandas.pydata.org/pandas-docs/stable/indexing.html#indexing-view-versus-copy\n",
      "  self.obj[item] = s\n"
     ]
    },
    {
     "name": "stdout",
     "output_type": "stream",
     "text": [
      "Optimization terminated successfully.\n",
      "         Current function value: 0.406007\n",
      "         Iterations 9\n"
     ]
    },
    {
     "name": "stderr",
     "output_type": "stream",
     "text": [
      "C:\\Users\\ys8mz\\AppData\\Local\\Continuum\\Anaconda3\\lib\\site-packages\\pandas\\core\\indexing.py:543: SettingWithCopyWarning: \n",
      "A value is trying to be set on a copy of a slice from a DataFrame.\n",
      "Try using .loc[row_indexer,col_indexer] = value instead\n",
      "\n",
      "See the caveats in the documentation: http://pandas.pydata.org/pandas-docs/stable/indexing.html#indexing-view-versus-copy\n",
      "  self.obj[item] = s\n"
     ]
    },
    {
     "name": "stdout",
     "output_type": "stream",
     "text": [
      "Optimization terminated successfully.\n",
      "         Current function value: 0.405737\n",
      "         Iterations 9\n"
     ]
    },
    {
     "name": "stderr",
     "output_type": "stream",
     "text": [
      "C:\\Users\\ys8mz\\AppData\\Local\\Continuum\\Anaconda3\\lib\\site-packages\\pandas\\core\\indexing.py:543: SettingWithCopyWarning: \n",
      "A value is trying to be set on a copy of a slice from a DataFrame.\n",
      "Try using .loc[row_indexer,col_indexer] = value instead\n",
      "\n",
      "See the caveats in the documentation: http://pandas.pydata.org/pandas-docs/stable/indexing.html#indexing-view-versus-copy\n",
      "  self.obj[item] = s\n"
     ]
    },
    {
     "name": "stdout",
     "output_type": "stream",
     "text": [
      "Optimization terminated successfully.\n",
      "         Current function value: 0.405229\n",
      "         Iterations 9\n"
     ]
    },
    {
     "name": "stderr",
     "output_type": "stream",
     "text": [
      "C:\\Users\\ys8mz\\AppData\\Local\\Continuum\\Anaconda3\\lib\\site-packages\\pandas\\core\\indexing.py:543: SettingWithCopyWarning: \n",
      "A value is trying to be set on a copy of a slice from a DataFrame.\n",
      "Try using .loc[row_indexer,col_indexer] = value instead\n",
      "\n",
      "See the caveats in the documentation: http://pandas.pydata.org/pandas-docs/stable/indexing.html#indexing-view-versus-copy\n",
      "  self.obj[item] = s\n"
     ]
    },
    {
     "name": "stdout",
     "output_type": "stream",
     "text": [
      "Optimization terminated successfully.\n",
      "         Current function value: 0.405290\n",
      "         Iterations 9\n"
     ]
    },
    {
     "name": "stderr",
     "output_type": "stream",
     "text": [
      "C:\\Users\\ys8mz\\AppData\\Local\\Continuum\\Anaconda3\\lib\\site-packages\\pandas\\core\\indexing.py:543: SettingWithCopyWarning: \n",
      "A value is trying to be set on a copy of a slice from a DataFrame.\n",
      "Try using .loc[row_indexer,col_indexer] = value instead\n",
      "\n",
      "See the caveats in the documentation: http://pandas.pydata.org/pandas-docs/stable/indexing.html#indexing-view-versus-copy\n",
      "  self.obj[item] = s\n"
     ]
    },
    {
     "name": "stdout",
     "output_type": "stream",
     "text": [
      "Optimization terminated successfully.\n",
      "         Current function value: 0.405583\n",
      "         Iterations 9\n"
     ]
    },
    {
     "name": "stderr",
     "output_type": "stream",
     "text": [
      "C:\\Users\\ys8mz\\AppData\\Local\\Continuum\\Anaconda3\\lib\\site-packages\\pandas\\core\\indexing.py:543: SettingWithCopyWarning: \n",
      "A value is trying to be set on a copy of a slice from a DataFrame.\n",
      "Try using .loc[row_indexer,col_indexer] = value instead\n",
      "\n",
      "See the caveats in the documentation: http://pandas.pydata.org/pandas-docs/stable/indexing.html#indexing-view-versus-copy\n",
      "  self.obj[item] = s\n"
     ]
    },
    {
     "name": "stdout",
     "output_type": "stream",
     "text": [
      "Optimization terminated successfully.\n",
      "         Current function value: 0.406413\n",
      "         Iterations 9\n"
     ]
    },
    {
     "name": "stderr",
     "output_type": "stream",
     "text": [
      "C:\\Users\\ys8mz\\AppData\\Local\\Continuum\\Anaconda3\\lib\\site-packages\\pandas\\core\\indexing.py:543: SettingWithCopyWarning: \n",
      "A value is trying to be set on a copy of a slice from a DataFrame.\n",
      "Try using .loc[row_indexer,col_indexer] = value instead\n",
      "\n",
      "See the caveats in the documentation: http://pandas.pydata.org/pandas-docs/stable/indexing.html#indexing-view-versus-copy\n",
      "  self.obj[item] = s\n"
     ]
    },
    {
     "name": "stdout",
     "output_type": "stream",
     "text": [
      "Optimization terminated successfully.\n",
      "         Current function value: 0.405819\n",
      "         Iterations 9\n",
      "[0.39001663305004247, 0.41422582916072803, 0.384215963324511, 0.4021071752982359, 0.38682440811220364, 0.40116498914814935, 0.3725739464670538, 0.3842004988610529, 0.4234501045583369, 0.9969173080745926]\n",
      "0.8810053844794516 0.002035635902280419\n"
     ]
    }
   ],
   "source": [
    "best_threshold = cross_validation_lr(train_df)"
   ]
  },
  {
   "cell_type": "code",
   "execution_count": 20,
   "metadata": {},
   "outputs": [
    {
     "data": {
      "text/plain": [
       "0.43344163040148626"
      ]
     },
     "execution_count": 20,
     "metadata": {},
     "output_type": "execute_result"
    }
   ],
   "source": [
    "print(best_threshold)"
   ]
  },
  {
   "cell_type": "code",
   "execution_count": 140,
   "metadata": {
    "collapsed": true
   },
   "outputs": [],
   "source": [
    "def create_confusion_matrix(y_test_pred, threshold, fname):\n",
    "    cm_arr = confusion_matrix(y_test, np.where(y_test_pred > threshold, 1, 0))\n",
    "    cm_df = pd.DataFrame(cm_arr, columns=['Pred_0','Pred_1'], index=['Real_0', 'Real_1'])\n",
    "    cm_df.loc[:,''] = cm_df.sum(axis=1)\n",
    "    cm_df.loc['',:] = cm_df.sum(axis=0)\n",
    "    print(cm_df)\n",
    "    print(\"\")\n",
    "    p1 = cm_df.iloc[1,1]/cm_df.iloc[2,1]\n",
    "    r1 = cm_df.iloc[1,1]/cm_df.iloc[1,2]\n",
    "    p0 = cm_df.iloc[0,0]/cm_df.iloc[2,0]\n",
    "    r0 = cm_df.iloc[0,0]/cm_df.iloc[0,2]    \n",
    "    print(\"F1 score = {}\".format(round(2*p1*r1/(p1+r1),4)))    \n",
    "    cm_df.to_csv(results_dir + fname + \".csv\")\n",
    "    return p1,r1,p0,r0,round(2*p1*r1/(p1+r1),4)"
   ]
  },
  {
   "cell_type": "code",
   "execution_count": 141,
   "metadata": {},
   "outputs": [
    {
     "name": "stdout",
     "output_type": "stream",
     "text": [
      "F1 threshold = 0.433:\n",
      "\n",
      "         Pred_0   Pred_1         \n",
      "Real_0  18789.0   3019.0  21808.0\n",
      "Real_1   2854.0   8453.0  11307.0\n",
      "        21643.0  11472.0  33115.0\n",
      "\n",
      "F1 score = 0.7422\n"
     ]
    }
   ],
   "source": [
    "print(\"F1 threshold = {}:\\n\".format(str(round(best_threshold,3))))\n",
    "pr_lr = create_confusion_matrix(y_test_pred_lr, best_threshold, \"LR1_cm1\")"
   ]
  },
  {
   "cell_type": "code",
   "execution_count": 150,
   "metadata": {},
   "outputs": [
    {
     "name": "stdout",
     "output_type": "stream",
     "text": [
      "Alternative threshold = 0.44:\n",
      "\n",
      "         Pred_0   Pred_1         \n",
      "Real_0  18873.0   2935.0  21808.0\n",
      "Real_1   2916.0   8391.0  11307.0\n",
      "        21789.0  11326.0  33115.0\n",
      "\n",
      "F1 score = 0.7415\n"
     ]
    }
   ],
   "source": [
    "num_of_0 = int(round((1-np.mean(train_df.grad_6years))*len(y_test)))\n",
    "y_test_pred_binary = np.ones(len(y_test))\n",
    "y_test_pred_binary[np.argsort(y_test_pred_lr)[:num_of_0]] = 0\n",
    "alternative_threshold = y_test_pred_lr[np.argsort(y_test_pred_lr)[num_of_0]]\n",
    "print(\"Alternative threshold = {}:\\n\".format(str(round(alternative_threshold,3))))\n",
    "pr2_lr = create_confusion_matrix(y_test_pred_binary, best_threshold, \"LR1_cm2\")"
   ]
  },
  {
   "cell_type": "code",
   "execution_count": 161,
   "metadata": {
    "collapsed": true
   },
   "outputs": [],
   "source": [
    "precision_recall_df = pd.DataFrame([(best_threshold,)+pr_lr,(alternative_threshold,)+pr2_lr]).round(4)\n",
    "precision_recall_df.index = ['F1','Same_Graduation_Rate']\n",
    "precision_recall_df.columns = ['threshold','precision_1','recall_1','precision_0','recall_0','f1_score']\n",
    "precision_recall_df.to_csv(results_dir + \"LR1_precision_recall.csv\", index=True)"
   ]
  },
  {
   "cell_type": "code",
   "execution_count": null,
   "metadata": {
    "collapsed": true
   },
   "outputs": [],
   "source": []
  },
  {
   "cell_type": "markdown",
   "metadata": {},
   "source": [
    "#### (3) Run the basic version of OLS"
   ]
  },
  {
   "cell_type": "code",
   "execution_count": 104,
   "metadata": {
    "collapsed": true
   },
   "outputs": [],
   "source": [
    "ols = sm.OLS(y_train, add_constant(X_train,prepend=True)).fit()"
   ]
  },
  {
   "cell_type": "code",
   "execution_count": 105,
   "metadata": {},
   "outputs": [
    {
     "name": "stdout",
     "output_type": "stream",
     "text": [
      "OLS:\n",
      "AUC = 0.8795\n"
     ]
    }
   ],
   "source": [
    "y_test_pred_ols = list(ols.predict(add_constant(X_test, prepend=True)))\n",
    "print(\"OLS:\")\n",
    "print(\"AUC = {}\".format(round(roc_auc_score(y_test, y_test_pred_ols),4)))"
   ]
  },
  {
   "cell_type": "code",
   "execution_count": 106,
   "metadata": {
    "collapsed": true
   },
   "outputs": [],
   "source": [
    "pickle.dump(ols, open(results_dir + \"/ols.p\", \"wb\"))\n",
    "pickle.dump(list(y_test_pred_ols), open(fpath + \"/y_test_pred_ols.p\", \"wb\"))"
   ]
  },
  {
   "cell_type": "code",
   "execution_count": 122,
   "metadata": {
    "collapsed": true
   },
   "outputs": [],
   "source": [
    "# Save the coefficients along with standard errors and p-values of the OLS model to disk\n",
    "# (Used for generating Appendix Table A6 of the paper)\n",
    "ols_summary = pd.DataFrame({'coef': ols.params, 'std_err': ols.bse, 'p-values': ols.pvalues}, index=ols.params.index).loc[:,['coef','std_err','p-values']]\n",
    "ols_summary.to_csv(results_dir + \"ols_summary.csv\", index=True)"
   ]
  },
  {
   "cell_type": "code",
   "execution_count": 126,
   "metadata": {
    "collapsed": true
   },
   "outputs": [],
   "source": [
    "def cross_validation_ols(train):\n",
    "    threshold_list = []\n",
    "    auc_list = []\n",
    "    k_fold =  StratifiedKFold(n_splits = 10, random_state = 12345, shuffle=True)\n",
    "    for train_indices, test_indices in k_fold.split(train, train.grad_6years):\n",
    "        train_part = train.iloc[train_indices,:]\n",
    "        test_part = train.iloc[test_indices,:]\n",
    "        train_part_new, test_part_new = impute(train_part, test_part)\n",
    "        X_1 = train_part_new.loc[:,predictors]\n",
    "        y_1 = train_part_new.grad_6years\n",
    "        X_2 = test_part_new.loc[:,predictors]\n",
    "        y_2 = test_part_new.grad_6years\n",
    "        model = sm.OLS(y_1, add_constant(X_1,prepend=True)).fit()\n",
    "        p,r,t = precision_recall_curve(y_2, model.predict(add_constant(X_2, prepend=True)))\n",
    "        auc = roc_auc_score(y_2, model.predict(add_constant(X_2, prepend=True)))\n",
    "        threshold_list.append(find_optimal_threshold(p,r,t))\n",
    "        auc_list.append(auc)\n",
    "    print(np.mean(auc_list), np.std(auc_list, ddof=1))\n",
    "    return gmean(threshold_list)   "
   ]
  },
  {
   "cell_type": "code",
   "execution_count": 127,
   "metadata": {},
   "outputs": [
    {
     "name": "stderr",
     "output_type": "stream",
     "text": [
      "C:\\Users\\ys8mz\\AppData\\Local\\Continuum\\Anaconda3\\lib\\site-packages\\pandas\\core\\indexing.py:517: SettingWithCopyWarning: \n",
      "A value is trying to be set on a copy of a slice from a DataFrame.\n",
      "Try using .loc[row_indexer,col_indexer] = value instead\n",
      "\n",
      "See the caveats in the documentation: http://pandas.pydata.org/pandas-docs/stable/indexing.html#indexing-view-versus-copy\n",
      "  self.obj[item] = s\n",
      "C:\\Users\\ys8mz\\AppData\\Local\\Continuum\\Anaconda3\\lib\\site-packages\\pandas\\core\\indexing.py:517: SettingWithCopyWarning: \n",
      "A value is trying to be set on a copy of a slice from a DataFrame.\n",
      "Try using .loc[row_indexer,col_indexer] = value instead\n",
      "\n",
      "See the caveats in the documentation: http://pandas.pydata.org/pandas-docs/stable/indexing.html#indexing-view-versus-copy\n",
      "  self.obj[item] = s\n",
      "C:\\Users\\ys8mz\\AppData\\Local\\Continuum\\Anaconda3\\lib\\site-packages\\pandas\\core\\indexing.py:517: SettingWithCopyWarning: \n",
      "A value is trying to be set on a copy of a slice from a DataFrame.\n",
      "Try using .loc[row_indexer,col_indexer] = value instead\n",
      "\n",
      "See the caveats in the documentation: http://pandas.pydata.org/pandas-docs/stable/indexing.html#indexing-view-versus-copy\n",
      "  self.obj[item] = s\n",
      "C:\\Users\\ys8mz\\AppData\\Local\\Continuum\\Anaconda3\\lib\\site-packages\\pandas\\core\\indexing.py:517: SettingWithCopyWarning: \n",
      "A value is trying to be set on a copy of a slice from a DataFrame.\n",
      "Try using .loc[row_indexer,col_indexer] = value instead\n",
      "\n",
      "See the caveats in the documentation: http://pandas.pydata.org/pandas-docs/stable/indexing.html#indexing-view-versus-copy\n",
      "  self.obj[item] = s\n",
      "C:\\Users\\ys8mz\\AppData\\Local\\Continuum\\Anaconda3\\lib\\site-packages\\pandas\\core\\indexing.py:517: SettingWithCopyWarning: \n",
      "A value is trying to be set on a copy of a slice from a DataFrame.\n",
      "Try using .loc[row_indexer,col_indexer] = value instead\n",
      "\n",
      "See the caveats in the documentation: http://pandas.pydata.org/pandas-docs/stable/indexing.html#indexing-view-versus-copy\n",
      "  self.obj[item] = s\n",
      "C:\\Users\\ys8mz\\AppData\\Local\\Continuum\\Anaconda3\\lib\\site-packages\\pandas\\core\\indexing.py:517: SettingWithCopyWarning: \n",
      "A value is trying to be set on a copy of a slice from a DataFrame.\n",
      "Try using .loc[row_indexer,col_indexer] = value instead\n",
      "\n",
      "See the caveats in the documentation: http://pandas.pydata.org/pandas-docs/stable/indexing.html#indexing-view-versus-copy\n",
      "  self.obj[item] = s\n",
      "C:\\Users\\ys8mz\\AppData\\Local\\Continuum\\Anaconda3\\lib\\site-packages\\pandas\\core\\indexing.py:517: SettingWithCopyWarning: \n",
      "A value is trying to be set on a copy of a slice from a DataFrame.\n",
      "Try using .loc[row_indexer,col_indexer] = value instead\n",
      "\n",
      "See the caveats in the documentation: http://pandas.pydata.org/pandas-docs/stable/indexing.html#indexing-view-versus-copy\n",
      "  self.obj[item] = s\n",
      "C:\\Users\\ys8mz\\AppData\\Local\\Continuum\\Anaconda3\\lib\\site-packages\\pandas\\core\\indexing.py:517: SettingWithCopyWarning: \n",
      "A value is trying to be set on a copy of a slice from a DataFrame.\n",
      "Try using .loc[row_indexer,col_indexer] = value instead\n",
      "\n",
      "See the caveats in the documentation: http://pandas.pydata.org/pandas-docs/stable/indexing.html#indexing-view-versus-copy\n",
      "  self.obj[item] = s\n",
      "C:\\Users\\ys8mz\\AppData\\Local\\Continuum\\Anaconda3\\lib\\site-packages\\pandas\\core\\indexing.py:517: SettingWithCopyWarning: \n",
      "A value is trying to be set on a copy of a slice from a DataFrame.\n",
      "Try using .loc[row_indexer,col_indexer] = value instead\n",
      "\n",
      "See the caveats in the documentation: http://pandas.pydata.org/pandas-docs/stable/indexing.html#indexing-view-versus-copy\n",
      "  self.obj[item] = s\n",
      "C:\\Users\\ys8mz\\AppData\\Local\\Continuum\\Anaconda3\\lib\\site-packages\\pandas\\core\\indexing.py:517: SettingWithCopyWarning: \n",
      "A value is trying to be set on a copy of a slice from a DataFrame.\n",
      "Try using .loc[row_indexer,col_indexer] = value instead\n",
      "\n",
      "See the caveats in the documentation: http://pandas.pydata.org/pandas-docs/stable/indexing.html#indexing-view-versus-copy\n",
      "  self.obj[item] = s\n"
     ]
    },
    {
     "name": "stdout",
     "output_type": "stream",
     "text": [
      "0.8762703659572899 0.0023470017735945396\n"
     ]
    }
   ],
   "source": [
    "best_threshold_3 = cross_validation_ols(train_df)"
   ]
  },
  {
   "cell_type": "code",
   "execution_count": 129,
   "metadata": {},
   "outputs": [
    {
     "data": {
      "text/plain": [
       "0.46918787407941415"
      ]
     },
     "execution_count": 129,
     "metadata": {},
     "output_type": "execute_result"
    }
   ],
   "source": [
    "print(best_threshold_3)"
   ]
  },
  {
   "cell_type": "code",
   "execution_count": 162,
   "metadata": {},
   "outputs": [
    {
     "name": "stdout",
     "output_type": "stream",
     "text": [
      "F1 threshold = 0.469:\n",
      "\n",
      "         Pred_0   Pred_1         \n",
      "Real_0  19062.0   2746.0  21808.0\n",
      "Real_1   3250.0   8057.0  11307.0\n",
      "        22312.0  10803.0  33115.0\n",
      "\n",
      "F1 score = 0.7288\n"
     ]
    }
   ],
   "source": [
    "print(\"F1 threshold = {}:\\n\".format(str(round(best_threshold_3,3))))\n",
    "pr_ols = create_confusion_matrix(y_test_pred_ols, best_threshold_3, \"OLS_cm1\")"
   ]
  },
  {
   "cell_type": "code",
   "execution_count": 163,
   "metadata": {},
   "outputs": [
    {
     "name": "stdout",
     "output_type": "stream",
     "text": [
      "Alternative threshold = 0.452:\n",
      "\n",
      "         Pred_0   Pred_1         \n",
      "Real_0  18786.0   3022.0  21808.0\n",
      "Real_1   3003.0   8304.0  11307.0\n",
      "        21789.0  11326.0  33115.0\n",
      "\n",
      "F1 score = 0.7338\n"
     ]
    }
   ],
   "source": [
    "num_of_0 = int(round((1-np.mean(train_df.grad_6years))*len(y_test)))\n",
    "y_test_pred_binary = np.ones(len(y_test))\n",
    "y_test_pred_binary[np.argsort(y_test_pred_ols)[:num_of_0]] = 0\n",
    "alternative_threshold_3 = y_test_pred_ols[np.argsort(y_test_pred_ols)[num_of_0]]\n",
    "print(\"Alternative threshold = {}:\\n\".format(str(round(alternative_threshold_3,3))))\n",
    "pr2_ols = create_confusion_matrix(y_test_pred_binary, best_threshold_3, \"OLS_cm2\")"
   ]
  },
  {
   "cell_type": "code",
   "execution_count": 164,
   "metadata": {
    "collapsed": true
   },
   "outputs": [],
   "source": [
    "precision_recall_df_3 = pd.DataFrame([(best_threshold_3,)+pr_ols,(alternative_threshold_3,)+pr2_ols]).round(4)\n",
    "precision_recall_df_3.index = ['F1','Same_Graduation_Rate']\n",
    "precision_recall_df_3.columns = ['threshold','precision_1','recall_1','precision_0','recall_0','f1_score']\n",
    "precision_recall_df_3.to_csv(results_dir + \"OLS_precision_recall.csv\", index=True)"
   ]
  },
  {
   "cell_type": "code",
   "execution_count": null,
   "metadata": {
    "collapsed": true
   },
   "outputs": [],
   "source": []
  },
  {
   "cell_type": "markdown",
   "metadata": {},
   "source": [
    "#### (4) Evaluation results by subgroups -- used for generating Figure 9 of the paper"
   ]
  },
  {
   "cell_type": "code",
   "execution_count": 1,
   "metadata": {
    "collapsed": true
   },
   "outputs": [],
   "source": [
    "test_df.loc[:,\"non_first_gen\"] = test_df.phe_4 + test_df.phe_5 + test_df.phe_6 + test_df.phe_7\n",
    "test_df.loc[:,'first_gen'] = test_df.phe_1 + test_df.phe_2 + test_df.phe_3"
   ]
  },
  {
   "cell_type": "code",
   "execution_count": 2,
   "metadata": {
    "collapsed": true
   },
   "outputs": [],
   "source": [
    "def eval_subgroup(y_pred,sg,bt):\n",
    "    if sg == 'female':\n",
    "        y_real_sg = np.array(y_test)[np.array(test_df.male) == 0]\n",
    "        y_pred_sg = np.array(y_pred)[np.array(test_df.male) == 0]\n",
    "    elif sg == 'pell_eligible':\n",
    "        y_real_sg = np.array(y_test)[np.array(test_df.pell_1_ind) == 1]\n",
    "        y_pred_sg = np.array(y_pred)[np.array(test_df.pell_1_ind) == 1] \n",
    "    elif sg == \"not_pell_eligible\":\n",
    "        y_real_sg = np.array(y_test)[np.array(test_df.pell_0_ind) == 1]\n",
    "        y_pred_sg = np.array(y_pred)[np.array(test_df.pell_0_ind) == 1]\n",
    "    elif sg == 'non_filers':\n",
    "        y_real_sg = np.array(y_test)[np.array(test_df.pell_1_ind == 0) & np.array(test_df.pell_0_ind == 0)]\n",
    "        y_pred_sg = np.array(y_pred)[np.array(test_df.pell_1_ind == 0) & np.array(test_df.pell_0_ind == 0)] \n",
    "    elif sg == \"not_pell_eligible\":\n",
    "        y_real_sg = np.array(y_test)[np.array(test_df.pell_ind) == 0]\n",
    "        y_pred_sg = np.array(y_pred)[np.array(test_df.pell_ind) == 0]\n",
    "    elif sg == \"age>=25\":\n",
    "        y_real_sg = np.array(y_test)[np.array(test_df.age_entry) >= 25]\n",
    "        y_pred_sg = np.array(y_pred)[np.array(test_df.age_entry) >= 25]\n",
    "    elif sg == \"age<25\":\n",
    "        y_real_sg = np.array(y_test)[np.array(test_df.age_entry) < 25]\n",
    "        y_pred_sg = np.array(y_pred)[np.array(test_df.age_entry) < 25]\n",
    "    elif sg == \"first_gen\":\n",
    "        y_real_sg = np.array(y_test)[np.array(test_df.first_gen) == 1]\n",
    "        y_pred_sg = np.array(y_pred)[np.array(test_df.first_gen) == 1]\n",
    "    elif sg == \"non_first_gen\":\n",
    "        y_real_sg = np.array(y_test)[np.array(test_df.non_first_gen) == 1]\n",
    "        y_pred_sg = np.array(y_pred)[np.array(test_df.non_first_gen) == 1]\n",
    "    elif sg == \"unknown_first_gen\":\n",
    "        y_real_sg = np.array(y_test)[np.array(test_df.first_gen == 0) & np.array(test_df.non_first_gen == 0)]\n",
    "        y_pred_sg = np.array(y_pred)[np.array(test_df.first_gen == 0) & np.array(test_df.non_first_gen == 0)]\n",
    "    else:\n",
    "        y_real_sg = np.array(y_test)[np.array(test_df[sg]) == 1]\n",
    "        y_pred_sg = np.array(y_pred)[np.array(test_df[sg]) == 1]        \n",
    "    N = len(y_real_sg)\n",
    "    d_rate = round(np.mean(y_real_sg), 4)\n",
    "    d_rate_2 = round(np.mean(np.where(y_pred_sg>bt,1,0)), 4)\n",
    "    avg_score = round(np.mean(y_pred_sg), 4)\n",
    "    auc = round(roc_auc_score(y_real_sg,y_pred_sg), 4)\n",
    "    p = round(precision_score(y_real_sg, np.where(y_pred_sg>bt,1,0)), 4)\n",
    "    r = round(recall_score(y_real_sg, np.where(y_pred_sg>bt,1,0)), 4)\n",
    "    p2 = round(precision_score(y_real_sg, np.where(y_pred_sg>bt,1,0),pos_label=0), 4)\n",
    "    r2 = round(recall_score(y_real_sg, np.where(y_pred_sg>bt,1,0), pos_label=0), 4)\n",
    "    f1_1 = round(2*p*r/(p+r),4)\n",
    "    f1_0 = round(2*p2*r2/(p2+r2),4)\n",
    "    return (sg,N,d_rate,d_rate_2,avg_score,auc,p,r,p2,r2,f1_1,f1_0)"
   ]
  },
  {
   "cell_type": "code",
   "execution_count": 3,
   "metadata": {
    "collapsed": true
   },
   "outputs": [],
   "source": [
    "sgs = ['male', 'female', 'white', 'afam', 'hisp', 'other', 'pell_eligible', 'not_pell_eligible', 'non_filers', 'age>=25', 'age<25', 'first_gen', 'non_first_gen', 'unknown_first_gen']\n",
    "eval_results_1 = []\n",
    "for sg in sgs:\n",
    "    eval_results_1.append(eval_subgroup(y_test_pred_lr,sg,best_threshold))\n",
    "eval_1_df = pd.DataFrame(eval_results_1, columns = ['subgroup', 'N', 'deg_compl_rate_real', 'deg_compl_rate_pred', 'avg_pred_score', 'c-statistic', 'precision_1', 'recall_1', 'precision_0', 'recall_0', 'f1_score_1', 'f1_score_0'])\n",
    "eval_1_df.to_csv(results_dir + \"LR1_subgroups.csv\", index=False)\n",
    "\n",
    "eval_results_3 = []\n",
    "for sg in sgs:\n",
    "    eval_results_3.append(eval_subgroup(y_test_pred_ols,sg,best_threshold_3))\n",
    "eval_3_df = pd.DataFrame(eval_results_3, columns = ['subgroup', 'N', 'deg_compl_rate_real', 'deg_compl_rate_pred', 'avg_pred_score', 'c-statistic', 'precision_1', 'recall_1', 'precision_0', 'recall_0', 'f1_score_1', 'f1_score_0'])\n",
    "eval_3_df.to_csv(results_dir + \"OLS_subgroups.csv\", index=False)"
   ]
  },
  {
   "cell_type": "code",
   "execution_count": null,
   "metadata": {
    "collapsed": true
   },
   "outputs": [],
   "source": []
  }
 ],
 "metadata": {
  "kernelspec": {
   "display_name": "Python 3",
   "language": "python",
   "name": "python3"
  },
  "language_info": {
   "codemirror_mode": {
    "name": "ipython",
    "version": 3
   },
   "file_extension": ".py",
   "mimetype": "text/x-python",
   "name": "python",
   "nbconvert_exporter": "python",
   "pygments_lexer": "ipython3",
   "version": "3.5.3"
  }
 },
 "nbformat": 4,
 "nbformat_minor": 2
}
