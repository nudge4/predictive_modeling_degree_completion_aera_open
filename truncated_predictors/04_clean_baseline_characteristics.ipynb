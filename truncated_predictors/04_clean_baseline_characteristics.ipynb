{
 "cells": [
  {
   "cell_type": "code",
   "execution_count": 19,
   "metadata": {
    "collapsed": true
   },
   "outputs": [],
   "source": [
    "import pandas as pd\n",
    "import numpy as np\n",
    "\n",
    "fpath = \"/Users/ys8mz/Box Sync/Predictive Models of College Completion (VCCS)/intermediate_files\""
   ]
  },
  {
   "cell_type": "code",
   "execution_count": 20,
   "metadata": {
    "collapsed": true
   },
   "outputs": [],
   "source": [
    "df = pd.read_stata(fpath + \"/baseline_characteristics.dta\")\n",
    "df_train = df[df.valid == 0]\n",
    "df_valid = df[df.valid == 1]"
   ]
  },
  {
   "cell_type": "code",
   "execution_count": 6,
   "metadata": {},
   "outputs": [
    {
     "data": {
      "text/plain": [
       "array(['vccsid', 'valid', 'enrl_len_vccs', 'enrl_len_nsc', 'enrl_len_all',\n",
       "       'age_entry', 'white', 'afam', 'hisp', 'other', 'male', 'female',\n",
       "       'first_gen', 'non_first_gen', 'mi_first_gen', 'enrolled_nsc',\n",
       "       'grad_6years', 'grad_vccs_6years', 'grad_nonvccs_6years',\n",
       "       'time_to_deg'], dtype=object)"
      ]
     },
     "execution_count": 6,
     "metadata": {},
     "output_type": "execute_result"
    }
   ],
   "source": [
    "df.columns.values"
   ]
  },
  {
   "cell_type": "code",
   "execution_count": 21,
   "metadata": {
    "collapsed": true
   },
   "outputs": [],
   "source": [
    "all_vars = ['age_entry', '', 'white', 'afam', 'hisp', 'other', '', 'male', 'female', '',\n",
    "            'first_gen', 'non_first_gen', 'mi_first_gen', '', '', '', '',\n",
    "            'grad_vccs_6years', 'grad_nonvccs_6years', 'grad_6years', '', '',\n",
    "            'time_to_deg', '',\n",
    "            'enrolled_nsc', '', '',\n",
    "            'enrl_len_vccs', 'enrl_len_all', 'enrl_len_nsc', '']\n",
    "pct_list = ['white', 'afam', 'hisp', 'other', 'male', 'female',\n",
    "            'first_gen', 'non_first_gen', 'mi_first_gen',\n",
    "            'grad_vccs_6years', 'grad_nonvccs_6years', 'grad_6years',\n",
    "            'enrolled_nsc']"
   ]
  },
  {
   "cell_type": "code",
   "execution_count": 40,
   "metadata": {
    "collapsed": true
   },
   "outputs": [],
   "source": [
    "def gen_summary(df, var_list, pct_list):\n",
    "    results = []\n",
    "    for v in var_list:\n",
    "        if v != \"\":\n",
    "            r = df.loc[:,v].mean(skipna=True)\n",
    "            if v in pct_list:\n",
    "                results.append(\"{:.2f}\".format(round(r,4)*100) + \"%\")\n",
    "            else:\n",
    "                results.append(\"{:.2f}\".format(round(r,2)))\n",
    "            if v == \"time_to_deg\":\n",
    "                r2 = df.loc[:,v].std(skipna=True)\n",
    "                results.append(\"{:.2f}\".format(round(r2,2)))\n",
    "        else:\n",
    "            results.append(\"\")\n",
    "    return results"
   ]
  },
  {
   "cell_type": "code",
   "execution_count": 65,
   "metadata": {
    "collapsed": true
   },
   "outputs": [],
   "source": [
    "df_list = ['df','df_train','df_valid']\n",
    "all_results = {}\n",
    "for d in df_list:\n",
    "    all_results[d] = gen_summary(eval(d), all_vars, pct_list) + [str(eval(d).shape[0])]\n",
    "final_df = pd.DataFrame(all_results).loc[:,df_list]"
   ]
  },
  {
   "cell_type": "code",
   "execution_count": 66,
   "metadata": {
    "collapsed": true
   },
   "outputs": [],
   "source": [
    "final_df.iloc[17,:] = final_df.iloc[17,:].apply(lambda x: x.strip(\"%\")).astype(float) - final_df.iloc[19,:].apply(lambda x: x.strip(\"%\")).astype(float)\n",
    "final_df.iloc[17,:] = final_df.iloc[17,:].apply(lambda x: \"{:.2f}\".format(x)) + \"%\"\n",
    "final_df.iloc[18,:] = final_df.iloc[18,:].apply(lambda x: x.strip(\"%\")).astype(float) - final_df.iloc[19,:].apply(lambda x: x.strip(\"%\")).astype(float)\n",
    "final_df.iloc[18,:] = final_df.iloc[18,:].apply(lambda x: \"{:.2f}\".format(x)) + \"%\""
   ]
  },
  {
   "cell_type": "code",
   "execution_count": 68,
   "metadata": {
    "collapsed": true
   },
   "outputs": [],
   "source": [
    "final_df.to_csv(\"/Users/ys8mz/Box Sync/Predictive Models of College Completion (VCCS)/evaluation_results/truncated_predictors/baseline_characteristics.csv\", index=False)"
   ]
  },
  {
   "cell_type": "code",
   "execution_count": null,
   "metadata": {
    "collapsed": true
   },
   "outputs": [],
   "source": [
    " "
   ]
  }
 ],
 "metadata": {
  "kernelspec": {
   "display_name": "Python 3",
   "language": "python",
   "name": "python3"
  },
  "language_info": {
   "codemirror_mode": {
    "name": "ipython",
    "version": 3
   },
   "file_extension": ".py",
   "mimetype": "text/x-python",
   "name": "python",
   "nbconvert_exporter": "python",
   "pygments_lexer": "ipython3",
   "version": "3.5.3"
  }
 },
 "nbformat": 4,
 "nbformat_minor": 2
}
