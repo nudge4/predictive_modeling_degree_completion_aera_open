{
 "cells": [
  {
   "cell_type": "code",
   "execution_count": 1,
   "metadata": {
    "collapsed": true
   },
   "outputs": [],
   "source": [
    "import pickle\n",
    "from scipy.stats.mstats import gmean\n",
    "import pandas as pd\n",
    "import numpy as np\n",
    "from sklearn.metrics import precision_recall_curve, roc_auc_score, confusion_matrix, precision_score, recall_score\n",
    "from sklearn.model_selection import KFold, StratifiedKFold\n",
    "from scipy.stats.mstats import gmean\n",
    "import xgboost as xgb\n",
    "from collections import Counter\n",
    "import seaborn as sns\n",
    "import matplotlib.pyplot as plt\n",
    "%matplotlib inline\n",
    "fpath = \"/Users/ys8mz/Box Sync/Predictive Models of College Completion (VCCS)/intermediate_files\""
   ]
  },
  {
   "cell_type": "code",
   "execution_count": 2,
   "metadata": {
    "collapsed": true
   },
   "outputs": [],
   "source": [
    "df = pd.read_stata(fpath + \"/full_data_truncated_no_term_specific.dta\")"
   ]
  },
  {
   "cell_type": "code",
   "execution_count": 3,
   "metadata": {
    "collapsed": true
   },
   "outputs": [],
   "source": [
    "for p in [\"grants\", \"sub_loans\", 'unsub_loans', 'others']:\n",
    "    df.loc[:,p] = 0\n",
    "    for s in ['yr1','yr2','yr3','yr4','yr5','yr6']:\n",
    "        df.loc[:,p] += df.loc[:,p+\"_\"+s]\n",
    "    df.loc[:,p] = df[p]/(df.pct_vccs * df.available)"
   ]
  },
  {
   "cell_type": "code",
   "execution_count": 4,
   "metadata": {},
   "outputs": [
    {
     "name": "stdout",
     "output_type": "stream",
     "text": [
      "(298139, 95) (33115, 95)\n"
     ]
    }
   ],
   "source": [
    "train_df = df[df.valid == 0]\n",
    "test_df = df[df.valid == 1]\n",
    "print(train_df.shape,test_df.shape)"
   ]
  },
  {
   "cell_type": "markdown",
   "metadata": {},
   "source": [
    "##### **Note: This model variant only includes 61 predictors, which are all non-term-specific predictors"
   ]
  },
  {
   "cell_type": "code",
   "execution_count": 7,
   "metadata": {},
   "outputs": [
    {
     "name": "stdout",
     "output_type": "stream",
     "text": [
      "61\n"
     ]
    }
   ],
   "source": [
    "predictors = [p for p in list(df.columns)[10:] if p[-3:] not in ['yr1','yr2','yr3','yr4','yr5','yr6']]\n",
    "print(len(predictors))\n",
    "impute_list_1 = set([\"prop_comp_pre\",\"cum_gpa_pre\"])\n",
    "impute_list_3 = set([\"cum_gpa\", \"lvl2_prop_comp\", \"dev_prop_comp\", \"prop_comp\", \"prop_comp_sd\", \"withdrawn_prop_comp_sd\"])\n",
    "impute_list_4 = set([\"admrate\", \"gradrate\", \"satvr25\", \"satvr75\", \"satmt25\", \"satmt75\", \"satwr25\", \"satwr75\"])"
   ]
  },
  {
   "cell_type": "code",
   "execution_count": 8,
   "metadata": {
    "collapsed": true
   },
   "outputs": [],
   "source": [
    "def impute(train, test):\n",
    "    for p in impute_list_1:\n",
    "        avg_p = np.nanmean(train[train.enrolled_pre == 1][p])\n",
    "        train.loc[:,p] = train.loc[:,p].apply(lambda x: avg_p if pd.isnull(x) else x)\n",
    "        test.loc[:,p] = test.loc[:,p].apply(lambda x: avg_p if pd.isnull(x) else x)\n",
    "    for p in impute_list_3:\n",
    "        avg_p = np.nanmean(train[p])\n",
    "        train.loc[:,p] = train.loc[:,p].apply(lambda x: avg_p if pd.isnull(x) else x)\n",
    "        test.loc[:,p] = test.loc[:,p].apply(lambda x: avg_p if pd.isnull(x) else x)\n",
    "    for p in impute_list_4:\n",
    "        avg_p = np.nanmean(train[train[\"enrolled_nsc\"] == 1][p])\n",
    "        train.loc[:,p] = train.loc[:,p].apply(lambda x: avg_p if pd.isnull(x) else x)\n",
    "        test.loc[:,p] = test.loc[:,p].apply(lambda x: avg_p if pd.isnull(x) else x)\n",
    "    return train, test      "
   ]
  },
  {
   "cell_type": "code",
   "execution_count": 9,
   "metadata": {},
   "outputs": [
    {
     "name": "stderr",
     "output_type": "stream",
     "text": [
      "C:\\Users\\ys8mz\\AppData\\Local\\Continuum\\Anaconda3\\lib\\site-packages\\pandas\\core\\indexing.py:543: SettingWithCopyWarning: \n",
      "A value is trying to be set on a copy of a slice from a DataFrame.\n",
      "Try using .loc[row_indexer,col_indexer] = value instead\n",
      "\n",
      "See the caveats in the documentation: http://pandas.pydata.org/pandas-docs/stable/indexing.html#indexing-view-versus-copy\n",
      "  self.obj[item] = s\n"
     ]
    }
   ],
   "source": [
    "train_df_new, test_df_new = impute(train_df, test_df)\n",
    "X_train = train_df_new.loc[:,predictors]\n",
    "y_train = train_df_new.grad_6years\n",
    "X_test = test_df_new.loc[:,predictors]\n",
    "y_test = test_df_new.grad_6years"
   ]
  },
  {
   "cell_type": "code",
   "execution_count": 10,
   "metadata": {
    "collapsed": true
   },
   "outputs": [],
   "source": [
    "dtrain = xgb.DMatrix(X_train, y_train)\n",
    "dtest = xgb.DMatrix(X_test, y_test)"
   ]
  },
  {
   "cell_type": "code",
   "execution_count": 11,
   "metadata": {},
   "outputs": [
    {
     "name": "stderr",
     "output_type": "stream",
     "text": [
      "C:\\Users\\ys8mz\\AppData\\Local\\Continuum\\Anaconda3\\lib\\site-packages\\pandas\\core\\indexing.py:543: SettingWithCopyWarning: \n",
      "A value is trying to be set on a copy of a slice from a DataFrame.\n",
      "Try using .loc[row_indexer,col_indexer] = value instead\n",
      "\n",
      "See the caveats in the documentation: http://pandas.pydata.org/pandas-docs/stable/indexing.html#indexing-view-versus-copy\n",
      "  self.obj[item] = s\n"
     ]
    }
   ],
   "source": [
    "np.random.seed(4321)\n",
    "val_indices = np.random.choice(train_df.shape[0], int(np.floor(train_df.shape[0]*0.15)), replace=False)\n",
    "train_val = train_df.iloc[val_indices,:]\n",
    "train_train = train_df.iloc[np.setdiff1d(np.arange(train_df.shape[0]), val_indices),:]\n",
    "train_train_new, train_val_new = impute(train_train, train_val)\n",
    "X_train_train = train_train_new.loc[:,predictors]\n",
    "y_train_train = train_train_new.grad_6years\n",
    "X_train_val = train_val_new.loc[:,predictors]\n",
    "y_train_val = train_val_new.grad_6years"
   ]
  },
  {
   "cell_type": "code",
   "execution_count": 12,
   "metadata": {
    "collapsed": true
   },
   "outputs": [],
   "source": [
    "dtrain_train = xgb.DMatrix(X_train_train, y_train_train)\n",
    "dtrain_val = xgb.DMatrix(X_train_val, y_train_val)"
   ]
  },
  {
   "cell_type": "code",
   "execution_count": 6,
   "metadata": {
    "collapsed": true
   },
   "outputs": [],
   "source": [
    "results_dir = \"C:\\\\Users\\\\ys8mz\\\\Box Sync\\\\Predictive Models of College Completion (VCCS)\\\\evaluation_results\\\\truncated_new_6\\\\\""
   ]
  },
  {
   "cell_type": "markdown",
   "metadata": {},
   "source": [
    "#### (1) Grid Search for max_depth and eta (learning rate)"
   ]
  },
  {
   "cell_type": "code",
   "execution_count": 17,
   "metadata": {},
   "outputs": [
    {
     "name": "stdout",
     "output_type": "stream",
     "text": [
      "max_depth = 4, eta = 0.01:\n",
      "[0]\tvalidation-auc:0.808549\n",
      "Will train until validation-auc hasn't improved in 10 rounds.\n",
      "Stopping. Best iteration:\n",
      "[10]\tvalidation-auc:0.841163\n",
      "\n",
      "\n",
      "max_depth = 4, eta = 0.02:\n",
      "[0]\tvalidation-auc:0.808549\n",
      "Will train until validation-auc hasn't improved in 10 rounds.\n",
      "[50]\tvalidation-auc:0.850238\n",
      "[100]\tvalidation-auc:0.858949\n",
      "[150]\tvalidation-auc:0.864613\n",
      "[200]\tvalidation-auc:0.868799\n",
      "[250]\tvalidation-auc:0.871444\n",
      "[300]\tvalidation-auc:0.873322\n",
      "[350]\tvalidation-auc:0.874613\n",
      "[400]\tvalidation-auc:0.875613\n",
      "[450]\tvalidation-auc:0.876382\n",
      "[500]\tvalidation-auc:0.877104\n",
      "[550]\tvalidation-auc:0.87772\n",
      "[600]\tvalidation-auc:0.87816\n",
      "[650]\tvalidation-auc:0.878638\n",
      "[700]\tvalidation-auc:0.879018\n",
      "[750]\tvalidation-auc:0.879374\n",
      "[800]\tvalidation-auc:0.879645\n",
      "[850]\tvalidation-auc:0.880028\n",
      "[900]\tvalidation-auc:0.880241\n",
      "[950]\tvalidation-auc:0.880514\n",
      "[1000]\tvalidation-auc:0.880732\n",
      "[1050]\tvalidation-auc:0.880929\n",
      "[1100]\tvalidation-auc:0.881084\n",
      "[1150]\tvalidation-auc:0.881264\n",
      "[1200]\tvalidation-auc:0.881428\n",
      "[1250]\tvalidation-auc:0.88161\n",
      "[1300]\tvalidation-auc:0.881765\n",
      "[1350]\tvalidation-auc:0.881913\n",
      "[1400]\tvalidation-auc:0.882056\n",
      "[1450]\tvalidation-auc:0.882204\n",
      "[1500]\tvalidation-auc:0.882346\n",
      "[1550]\tvalidation-auc:0.882462\n",
      "[1600]\tvalidation-auc:0.882554\n",
      "[1650]\tvalidation-auc:0.882642\n",
      "[1700]\tvalidation-auc:0.882747\n",
      "[1750]\tvalidation-auc:0.882817\n",
      "[1800]\tvalidation-auc:0.882901\n",
      "[1850]\tvalidation-auc:0.882982\n",
      "[1900]\tvalidation-auc:0.883082\n",
      "[1950]\tvalidation-auc:0.883148\n",
      "[2000]\tvalidation-auc:0.883212\n",
      "[2050]\tvalidation-auc:0.883277\n",
      "[2100]\tvalidation-auc:0.883342\n",
      "[2150]\tvalidation-auc:0.883396\n",
      "[2200]\tvalidation-auc:0.883489\n",
      "[2250]\tvalidation-auc:0.883561\n",
      "[2300]\tvalidation-auc:0.883613\n",
      "[2350]\tvalidation-auc:0.88368\n",
      "Stopping. Best iteration:\n",
      "[2367]\tvalidation-auc:0.883697\n",
      "\n",
      "\n",
      "max_depth = 4, eta = 0.05:\n",
      "[0]\tvalidation-auc:0.808549\n",
      "Will train until validation-auc hasn't improved in 10 rounds.\n",
      "[50]\tvalidation-auc:0.861511\n",
      "[100]\tvalidation-auc:0.871463\n",
      "[150]\tvalidation-auc:0.87522\n",
      "[200]\tvalidation-auc:0.877049\n",
      "[250]\tvalidation-auc:0.878344\n",
      "[300]\tvalidation-auc:0.879269\n",
      "[350]\tvalidation-auc:0.880028\n",
      "[400]\tvalidation-auc:0.88066\n",
      "[450]\tvalidation-auc:0.881127\n",
      "[500]\tvalidation-auc:0.881569\n",
      "[550]\tvalidation-auc:0.881884\n",
      "[600]\tvalidation-auc:0.882166\n",
      "[650]\tvalidation-auc:0.882503\n",
      "[700]\tvalidation-auc:0.882742\n",
      "[750]\tvalidation-auc:0.882961\n",
      "[800]\tvalidation-auc:0.88313\n",
      "[850]\tvalidation-auc:0.883365\n",
      "[900]\tvalidation-auc:0.883577\n",
      "[950]\tvalidation-auc:0.883701\n",
      "Stopping. Best iteration:\n",
      "[967]\tvalidation-auc:0.883738\n",
      "\n",
      "\n",
      "max_depth = 4, eta = 0.1:\n",
      "[0]\tvalidation-auc:0.808549\n",
      "Will train until validation-auc hasn't improved in 10 rounds.\n",
      "[50]\tvalidation-auc:0.871545\n",
      "[100]\tvalidation-auc:0.876923\n",
      "[150]\tvalidation-auc:0.879004\n",
      "[200]\tvalidation-auc:0.880434\n",
      "[250]\tvalidation-auc:0.881283\n",
      "[300]\tvalidation-auc:0.881965\n",
      "[350]\tvalidation-auc:0.882377\n",
      "[400]\tvalidation-auc:0.882742\n",
      "[450]\tvalidation-auc:0.883108\n",
      "[500]\tvalidation-auc:0.883333\n",
      "[550]\tvalidation-auc:0.883582\n",
      "[600]\tvalidation-auc:0.883771\n",
      "Stopping. Best iteration:\n",
      "[630]\tvalidation-auc:0.883923\n",
      "\n",
      "\n",
      "max_depth = 4, eta = 0.2:\n",
      "[0]\tvalidation-auc:0.808549\n",
      "Will train until validation-auc hasn't improved in 10 rounds.\n",
      "[50]\tvalidation-auc:0.876052\n",
      "[100]\tvalidation-auc:0.879697\n",
      "[150]\tvalidation-auc:0.881241\n",
      "[200]\tvalidation-auc:0.882002\n",
      "Stopping. Best iteration:\n",
      "[238]\tvalidation-auc:0.882613\n",
      "\n",
      "\n",
      "max_depth = 5, eta = 0.01:\n",
      "[0]\tvalidation-auc:0.820398\n",
      "Will train until validation-auc hasn't improved in 10 rounds.\n",
      "Stopping. Best iteration:\n",
      "[10]\tvalidation-auc:0.850626\n",
      "\n",
      "\n",
      "max_depth = 5, eta = 0.02:\n",
      "[0]\tvalidation-auc:0.820398\n",
      "Will train until validation-auc hasn't improved in 10 rounds.\n",
      "[50]\tvalidation-auc:0.858502\n",
      "[100]\tvalidation-auc:0.865225\n",
      "[150]\tvalidation-auc:0.870021\n",
      "[200]\tvalidation-auc:0.873236\n",
      "[250]\tvalidation-auc:0.875451\n",
      "[300]\tvalidation-auc:0.876924\n",
      "[350]\tvalidation-auc:0.877999\n",
      "[400]\tvalidation-auc:0.878835\n",
      "[450]\tvalidation-auc:0.879478\n",
      "[500]\tvalidation-auc:0.880083\n",
      "[550]\tvalidation-auc:0.880501\n",
      "[600]\tvalidation-auc:0.88085\n",
      "[650]\tvalidation-auc:0.881177\n",
      "[700]\tvalidation-auc:0.88154\n",
      "[750]\tvalidation-auc:0.881808\n",
      "[800]\tvalidation-auc:0.882017\n",
      "[850]\tvalidation-auc:0.882296\n",
      "[900]\tvalidation-auc:0.882471\n",
      "[950]\tvalidation-auc:0.882691\n",
      "[1000]\tvalidation-auc:0.882845\n",
      "[1050]\tvalidation-auc:0.883002\n",
      "[1100]\tvalidation-auc:0.883104\n",
      "[1150]\tvalidation-auc:0.883261\n",
      "[1200]\tvalidation-auc:0.883401\n",
      "[1250]\tvalidation-auc:0.883519\n",
      "[1300]\tvalidation-auc:0.883634\n",
      "[1350]\tvalidation-auc:0.88374\n",
      "[1400]\tvalidation-auc:0.883878\n",
      "[1450]\tvalidation-auc:0.883966\n",
      "[1500]\tvalidation-auc:0.884074\n",
      "[1550]\tvalidation-auc:0.884162\n",
      "[1600]\tvalidation-auc:0.884239\n",
      "[1650]\tvalidation-auc:0.884323\n",
      "[1700]\tvalidation-auc:0.884409\n",
      "[1750]\tvalidation-auc:0.884499\n",
      "[1800]\tvalidation-auc:0.884556\n",
      "[1850]\tvalidation-auc:0.884631\n",
      "[1900]\tvalidation-auc:0.884685\n",
      "Stopping. Best iteration:\n",
      "[1908]\tvalidation-auc:0.884692\n",
      "\n",
      "\n",
      "max_depth = 5, eta = 0.05:\n",
      "[0]\tvalidation-auc:0.820398\n",
      "Will train until validation-auc hasn't improved in 10 rounds.\n",
      "[50]\tvalidation-auc:0.867842\n",
      "[100]\tvalidation-auc:0.875674\n",
      "[150]\tvalidation-auc:0.878561\n",
      "[200]\tvalidation-auc:0.880079\n",
      "[250]\tvalidation-auc:0.881132\n",
      "[300]\tvalidation-auc:0.88179\n",
      "[350]\tvalidation-auc:0.882407\n",
      "[400]\tvalidation-auc:0.882829\n",
      "[450]\tvalidation-auc:0.883212\n",
      "[500]\tvalidation-auc:0.883535\n",
      "[550]\tvalidation-auc:0.883753\n",
      "[600]\tvalidation-auc:0.883941\n",
      "[650]\tvalidation-auc:0.884216\n",
      "[700]\tvalidation-auc:0.884419\n",
      "[750]\tvalidation-auc:0.884598\n",
      "[800]\tvalidation-auc:0.884669\n",
      "[850]\tvalidation-auc:0.884826\n",
      "[900]\tvalidation-auc:0.884974\n",
      "[950]\tvalidation-auc:0.885085\n",
      "[1000]\tvalidation-auc:0.88514\n",
      "[1050]\tvalidation-auc:0.885222\n",
      "Stopping. Best iteration:\n",
      "[1057]\tvalidation-auc:0.885225\n",
      "\n",
      "\n",
      "max_depth = 5, eta = 0.1:\n",
      "[0]\tvalidation-auc:0.820398\n",
      "Will train until validation-auc hasn't improved in 10 rounds.\n",
      "[50]\tvalidation-auc:0.875396\n",
      "[100]\tvalidation-auc:0.879908\n",
      "[150]\tvalidation-auc:0.881481\n",
      "[200]\tvalidation-auc:0.882439\n",
      "[250]\tvalidation-auc:0.88326\n",
      "[300]\tvalidation-auc:0.883589\n",
      "[350]\tvalidation-auc:0.883963\n",
      "[400]\tvalidation-auc:0.884279\n",
      "Stopping. Best iteration:\n",
      "[433]\tvalidation-auc:0.884472\n",
      "\n",
      "\n",
      "max_depth = 5, eta = 0.2:\n",
      "[0]\tvalidation-auc:0.820398\n",
      "Will train until validation-auc hasn't improved in 10 rounds.\n",
      "[50]\tvalidation-auc:0.879272\n",
      "[100]\tvalidation-auc:0.881868\n",
      "[150]\tvalidation-auc:0.883045\n",
      "[200]\tvalidation-auc:0.883472\n",
      "Stopping. Best iteration:\n",
      "[207]\tvalidation-auc:0.883638\n",
      "\n",
      "\n",
      "max_depth = 6, eta = 0.01:\n",
      "[0]\tvalidation-auc:0.831473\n",
      "Will train until validation-auc hasn't improved in 10 rounds.\n",
      "Stopping. Best iteration:\n",
      "[11]\tvalidation-auc:0.857674\n",
      "\n",
      "\n",
      "max_depth = 6, eta = 0.02:\n",
      "[0]\tvalidation-auc:0.831473\n",
      "Will train until validation-auc hasn't improved in 10 rounds.\n",
      "[50]\tvalidation-auc:0.863906\n",
      "[100]\tvalidation-auc:0.869707\n",
      "[150]\tvalidation-auc:0.873712\n",
      "[200]\tvalidation-auc:0.876396\n",
      "[250]\tvalidation-auc:0.878198\n",
      "[300]\tvalidation-auc:0.879492\n",
      "[350]\tvalidation-auc:0.880459\n",
      "[400]\tvalidation-auc:0.88113\n",
      "[450]\tvalidation-auc:0.88165\n",
      "[500]\tvalidation-auc:0.882074\n",
      "[550]\tvalidation-auc:0.882436\n",
      "[600]\tvalidation-auc:0.882767\n",
      "[650]\tvalidation-auc:0.883031\n",
      "[700]\tvalidation-auc:0.883313\n",
      "[750]\tvalidation-auc:0.88354\n",
      "[800]\tvalidation-auc:0.883737\n",
      "[850]\tvalidation-auc:0.883964\n",
      "[900]\tvalidation-auc:0.884096\n",
      "[950]\tvalidation-auc:0.884291\n",
      "[1000]\tvalidation-auc:0.884419\n",
      "[1050]\tvalidation-auc:0.884545\n",
      "[1100]\tvalidation-auc:0.88464\n",
      "[1150]\tvalidation-auc:0.884744\n",
      "[1200]\tvalidation-auc:0.884837\n",
      "[1250]\tvalidation-auc:0.884945\n",
      "[1300]\tvalidation-auc:0.885003\n",
      "Stopping. Best iteration:\n",
      "[1295]\tvalidation-auc:0.885008\n",
      "\n",
      "\n",
      "max_depth = 6, eta = 0.05:\n",
      "[0]\tvalidation-auc:0.831473\n",
      "Will train until validation-auc hasn't improved in 10 rounds.\n",
      "[50]\tvalidation-auc:0.871808\n",
      "[100]\tvalidation-auc:0.878175\n",
      "[150]\tvalidation-auc:0.880675\n",
      "[200]\tvalidation-auc:0.881849\n",
      "[250]\tvalidation-auc:0.882755\n",
      "[300]\tvalidation-auc:0.883308\n",
      "[350]\tvalidation-auc:0.883793\n",
      "[400]\tvalidation-auc:0.884097\n",
      "[450]\tvalidation-auc:0.884365\n",
      "[500]\tvalidation-auc:0.884678\n",
      "[550]\tvalidation-auc:0.884867\n",
      "[600]\tvalidation-auc:0.885044\n",
      "[650]\tvalidation-auc:0.885275\n",
      "Stopping. Best iteration:\n",
      "[662]\tvalidation-auc:0.885307\n",
      "\n",
      "\n",
      "max_depth = 6, eta = 0.1:\n",
      "[0]\tvalidation-auc:0.831473\n",
      "Will train until validation-auc hasn't improved in 10 rounds.\n",
      "[50]\tvalidation-auc:0.878001\n"
     ]
    },
    {
     "name": "stdout",
     "output_type": "stream",
     "text": [
      "[100]\tvalidation-auc:0.881526\n",
      "[150]\tvalidation-auc:0.882836\n",
      "[200]\tvalidation-auc:0.88364\n",
      "[250]\tvalidation-auc:0.884164\n",
      "[300]\tvalidation-auc:0.884486\n",
      "[350]\tvalidation-auc:0.8849\n",
      "Stopping. Best iteration:\n",
      "[358]\tvalidation-auc:0.884953\n",
      "\n",
      "\n",
      "max_depth = 6, eta = 0.2:\n",
      "[0]\tvalidation-auc:0.831473\n",
      "Will train until validation-auc hasn't improved in 10 rounds.\n",
      "[50]\tvalidation-auc:0.880957\n",
      "[100]\tvalidation-auc:0.883184\n",
      "[150]\tvalidation-auc:0.883765\n",
      "Stopping. Best iteration:\n",
      "[183]\tvalidation-auc:0.884004\n",
      "\n",
      "\n",
      "max_depth = 7, eta = 0.01:\n",
      "[0]\tvalidation-auc:0.837118\n",
      "Will train until validation-auc hasn't improved in 10 rounds.\n",
      "[50]\tvalidation-auc:0.865257\n",
      "[100]\tvalidation-auc:0.868278\n",
      "[150]\tvalidation-auc:0.870942\n",
      "[200]\tvalidation-auc:0.873252\n",
      "[250]\tvalidation-auc:0.875086\n",
      "[300]\tvalidation-auc:0.876509\n",
      "[350]\tvalidation-auc:0.87774\n",
      "[400]\tvalidation-auc:0.87876\n",
      "[450]\tvalidation-auc:0.879563\n",
      "[500]\tvalidation-auc:0.880281\n",
      "[550]\tvalidation-auc:0.88088\n",
      "[600]\tvalidation-auc:0.881396\n",
      "[650]\tvalidation-auc:0.881844\n",
      "[700]\tvalidation-auc:0.882236\n",
      "[750]\tvalidation-auc:0.882544\n",
      "[800]\tvalidation-auc:0.882796\n",
      "[850]\tvalidation-auc:0.883048\n",
      "[900]\tvalidation-auc:0.883243\n",
      "[950]\tvalidation-auc:0.883493\n",
      "[1000]\tvalidation-auc:0.883679\n",
      "[1050]\tvalidation-auc:0.883835\n",
      "[1100]\tvalidation-auc:0.883974\n",
      "[1150]\tvalidation-auc:0.884116\n",
      "[1200]\tvalidation-auc:0.884248\n",
      "[1250]\tvalidation-auc:0.884375\n",
      "[1300]\tvalidation-auc:0.88451\n",
      "[1350]\tvalidation-auc:0.884632\n",
      "[1400]\tvalidation-auc:0.884742\n",
      "[1450]\tvalidation-auc:0.884848\n",
      "[1500]\tvalidation-auc:0.884939\n",
      "[1550]\tvalidation-auc:0.885018\n",
      "[1600]\tvalidation-auc:0.885093\n",
      "[1650]\tvalidation-auc:0.885163\n",
      "[1700]\tvalidation-auc:0.885246\n",
      "[1750]\tvalidation-auc:0.885321\n",
      "[1800]\tvalidation-auc:0.885371\n",
      "[1850]\tvalidation-auc:0.885434\n",
      "[1900]\tvalidation-auc:0.885494\n",
      "[1950]\tvalidation-auc:0.885533\n",
      "[2000]\tvalidation-auc:0.885594\n",
      "[2050]\tvalidation-auc:0.885643\n",
      "[2100]\tvalidation-auc:0.885698\n",
      "[2150]\tvalidation-auc:0.885746\n",
      "[2200]\tvalidation-auc:0.885804\n",
      "[2250]\tvalidation-auc:0.885851\n",
      "Stopping. Best iteration:\n",
      "[2282]\tvalidation-auc:0.885886\n",
      "\n",
      "\n",
      "max_depth = 7, eta = 0.02:\n",
      "[0]\tvalidation-auc:0.837118\n",
      "Will train until validation-auc hasn't improved in 10 rounds.\n",
      "[50]\tvalidation-auc:0.867921\n",
      "[100]\tvalidation-auc:0.87315\n",
      "[150]\tvalidation-auc:0.876383\n",
      "[200]\tvalidation-auc:0.878621\n",
      "[250]\tvalidation-auc:0.880247\n",
      "[300]\tvalidation-auc:0.881269\n",
      "[350]\tvalidation-auc:0.882095\n",
      "[400]\tvalidation-auc:0.882697\n",
      "[450]\tvalidation-auc:0.883151\n",
      "[500]\tvalidation-auc:0.883546\n",
      "[550]\tvalidation-auc:0.883882\n",
      "[600]\tvalidation-auc:0.884152\n",
      "[650]\tvalidation-auc:0.884427\n",
      "[700]\tvalidation-auc:0.884655\n",
      "[750]\tvalidation-auc:0.884823\n",
      "[800]\tvalidation-auc:0.884966\n",
      "[850]\tvalidation-auc:0.885117\n",
      "[900]\tvalidation-auc:0.885245\n",
      "[950]\tvalidation-auc:0.885386\n",
      "[1000]\tvalidation-auc:0.885483\n",
      "[1050]\tvalidation-auc:0.885566\n",
      "[1100]\tvalidation-auc:0.885669\n",
      "Stopping. Best iteration:\n",
      "[1132]\tvalidation-auc:0.885753\n",
      "\n",
      "\n",
      "max_depth = 7, eta = 0.05:\n",
      "[0]\tvalidation-auc:0.837118\n",
      "Will train until validation-auc hasn't improved in 10 rounds.\n",
      "[50]\tvalidation-auc:0.874957\n",
      "[100]\tvalidation-auc:0.880292\n",
      "[150]\tvalidation-auc:0.882397\n",
      "[200]\tvalidation-auc:0.883373\n",
      "[250]\tvalidation-auc:0.884081\n",
      "[300]\tvalidation-auc:0.88453\n",
      "[350]\tvalidation-auc:0.884955\n",
      "Stopping. Best iteration:\n",
      "[389]\tvalidation-auc:0.885159\n",
      "\n",
      "\n",
      "max_depth = 7, eta = 0.1:\n",
      "[0]\tvalidation-auc:0.837118\n",
      "Will train until validation-auc hasn't improved in 10 rounds.\n",
      "[50]\tvalidation-auc:0.879702\n",
      "[100]\tvalidation-auc:0.882709\n",
      "[150]\tvalidation-auc:0.883725\n",
      "Stopping. Best iteration:\n",
      "[181]\tvalidation-auc:0.884314\n",
      "\n",
      "\n",
      "max_depth = 7, eta = 0.2:\n",
      "[0]\tvalidation-auc:0.837118\n",
      "Will train until validation-auc hasn't improved in 10 rounds.\n",
      "[50]\tvalidation-auc:0.881548\n",
      "[100]\tvalidation-auc:0.883087\n",
      "Stopping. Best iteration:\n",
      "[110]\tvalidation-auc:0.883197\n",
      "\n",
      "\n"
     ]
    }
   ],
   "source": [
    "grid_1 = [(md,e) for md in range(4,8) for e in [0.01, 0.02, 0.05, 0.1, 0.2]]\n",
    "validation_auc_1 = Counter()\n",
    "for md,e in grid_1:\n",
    "    print(\"max_depth = {0}, eta = {1}:\".format(md,e))\n",
    "    params = {'max_depth': md, 'eta': e, 'min_child_weight': 1, 'colsample_bytree': 0.8, \n",
    "              'subsample': 0.8, \n",
    "              'objective': 'binary:logistic', 'eval_metric': ['auc'],\n",
    "              'seed': 12345}\n",
    "    evals_result = {}\n",
    "    xgb_model = xgb.train(params = params, dtrain = dtrain_train, num_boost_round = int(5e3), evals = [(dtrain_val, 'validation')],\n",
    "                          early_stopping_rounds = 10,\n",
    "                          evals_result = evals_result,\n",
    "                          verbose_eval = 50)\n",
    "    validation_auc_1[(md,e)] = np.max(evals_result['validation']['auc'])\n",
    "    print(\"\")"
   ]
  },
  {
   "cell_type": "code",
   "execution_count": 18,
   "metadata": {},
   "outputs": [
    {
     "name": "stdout",
     "output_type": "stream",
     "text": [
      "((7, 0.01), 0.885886)\n",
      "((7, 0.02), 0.885753)\n",
      "((6, 0.05), 0.885307)\n",
      "((5, 0.05), 0.885225)\n",
      "((7, 0.05), 0.885159)\n",
      "((6, 0.02), 0.885008)\n",
      "((6, 0.1), 0.884953)\n",
      "((5, 0.02), 0.884692)\n",
      "((5, 0.1), 0.884472)\n",
      "((7, 0.1), 0.884314)\n",
      "((6, 0.2), 0.884004)\n",
      "((4, 0.1), 0.883923)\n",
      "((4, 0.05), 0.883738)\n",
      "((4, 0.02), 0.883697)\n",
      "((5, 0.2), 0.883638)\n",
      "((7, 0.2), 0.883197)\n",
      "((4, 0.2), 0.882613)\n",
      "((6, 0.01), 0.857674)\n",
      "((5, 0.01), 0.850626)\n",
      "((4, 0.01), 0.841163)\n"
     ]
    }
   ],
   "source": [
    "for t in validation_auc_1.most_common():\n",
    "    print(t)"
   ]
  },
  {
   "cell_type": "markdown",
   "metadata": {},
   "source": [
    "#### (2) Grid Search for min_child_weight (along with max_depth)"
   ]
  },
  {
   "cell_type": "code",
   "execution_count": 19,
   "metadata": {},
   "outputs": [
    {
     "name": "stdout",
     "output_type": "stream",
     "text": [
      "max_depth = 5, min_child_weight = 3:\n",
      "[0]\tvalidation-auc:0.820398\n",
      "Will train until validation-auc hasn't improved in 10 rounds.\n",
      "[50]\tvalidation-auc:0.867864\n",
      "[100]\tvalidation-auc:0.87539\n",
      "[150]\tvalidation-auc:0.878349\n",
      "[200]\tvalidation-auc:0.879898\n",
      "[250]\tvalidation-auc:0.880913\n",
      "[300]\tvalidation-auc:0.881596\n",
      "[350]\tvalidation-auc:0.882314\n",
      "[400]\tvalidation-auc:0.882759\n",
      "[450]\tvalidation-auc:0.883068\n",
      "[500]\tvalidation-auc:0.883421\n",
      "[550]\tvalidation-auc:0.883633\n",
      "[600]\tvalidation-auc:0.883841\n",
      "[650]\tvalidation-auc:0.88409\n",
      "[700]\tvalidation-auc:0.884299\n",
      "[750]\tvalidation-auc:0.884432\n",
      "[800]\tvalidation-auc:0.884526\n",
      "[850]\tvalidation-auc:0.884689\n",
      "[900]\tvalidation-auc:0.884806\n",
      "Stopping. Best iteration:\n",
      "[892]\tvalidation-auc:0.884807\n",
      "\n",
      "\n",
      "max_depth = 5, min_child_weight = 5:\n",
      "[0]\tvalidation-auc:0.820398\n",
      "Will train until validation-auc hasn't improved in 10 rounds.\n",
      "[50]\tvalidation-auc:0.867838\n",
      "[100]\tvalidation-auc:0.87532\n",
      "[150]\tvalidation-auc:0.878335\n",
      "[200]\tvalidation-auc:0.879894\n",
      "[250]\tvalidation-auc:0.88092\n",
      "[300]\tvalidation-auc:0.881595\n",
      "[350]\tvalidation-auc:0.882267\n",
      "[400]\tvalidation-auc:0.882727\n",
      "[450]\tvalidation-auc:0.883026\n",
      "[500]\tvalidation-auc:0.88342\n",
      "[550]\tvalidation-auc:0.883654\n",
      "[600]\tvalidation-auc:0.883828\n",
      "[650]\tvalidation-auc:0.884096\n",
      "[700]\tvalidation-auc:0.884262\n",
      "[750]\tvalidation-auc:0.88442\n",
      "[800]\tvalidation-auc:0.884506\n",
      "[850]\tvalidation-auc:0.884703\n",
      "[900]\tvalidation-auc:0.884818\n",
      "[950]\tvalidation-auc:0.884907\n",
      "Stopping. Best iteration:\n",
      "[949]\tvalidation-auc:0.884908\n",
      "\n",
      "\n",
      "max_depth = 6, min_child_weight = 3:\n",
      "[0]\tvalidation-auc:0.831455\n",
      "Will train until validation-auc hasn't improved in 10 rounds.\n",
      "[50]\tvalidation-auc:0.871808\n",
      "[100]\tvalidation-auc:0.878143\n",
      "[150]\tvalidation-auc:0.880584\n",
      "[200]\tvalidation-auc:0.881776\n",
      "[250]\tvalidation-auc:0.882713\n",
      "[300]\tvalidation-auc:0.883188\n",
      "[350]\tvalidation-auc:0.883693\n",
      "[400]\tvalidation-auc:0.884026\n",
      "[450]\tvalidation-auc:0.884301\n",
      "[500]\tvalidation-auc:0.884596\n",
      "[550]\tvalidation-auc:0.884719\n",
      "[600]\tvalidation-auc:0.884845\n",
      "[650]\tvalidation-auc:0.885034\n",
      "[700]\tvalidation-auc:0.885178\n",
      "[750]\tvalidation-auc:0.885312\n",
      "Stopping. Best iteration:\n",
      "[786]\tvalidation-auc:0.885396\n",
      "\n",
      "\n",
      "max_depth = 6, min_child_weight = 5:\n",
      "[0]\tvalidation-auc:0.831455\n",
      "Will train until validation-auc hasn't improved in 10 rounds.\n",
      "[50]\tvalidation-auc:0.872008\n",
      "[100]\tvalidation-auc:0.878313\n",
      "[150]\tvalidation-auc:0.880801\n",
      "[200]\tvalidation-auc:0.881981\n",
      "[250]\tvalidation-auc:0.882785\n",
      "[300]\tvalidation-auc:0.883345\n",
      "[350]\tvalidation-auc:0.883747\n",
      "[400]\tvalidation-auc:0.884104\n",
      "[450]\tvalidation-auc:0.884395\n",
      "[500]\tvalidation-auc:0.884725\n",
      "[550]\tvalidation-auc:0.884838\n",
      "[600]\tvalidation-auc:0.884973\n",
      "[650]\tvalidation-auc:0.885231\n",
      "[700]\tvalidation-auc:0.885441\n",
      "[750]\tvalidation-auc:0.885567\n",
      "Stopping. Best iteration:\n",
      "[751]\tvalidation-auc:0.885584\n",
      "\n",
      "\n",
      "max_depth = 7, min_child_weight = 3:\n",
      "[0]\tvalidation-auc:0.837157\n",
      "Will train until validation-auc hasn't improved in 10 rounds.\n",
      "[50]\tvalidation-auc:0.874926\n",
      "[100]\tvalidation-auc:0.880202\n",
      "[150]\tvalidation-auc:0.88237\n",
      "[200]\tvalidation-auc:0.883469\n",
      "[250]\tvalidation-auc:0.884083\n",
      "[300]\tvalidation-auc:0.884465\n",
      "[350]\tvalidation-auc:0.884816\n",
      "[400]\tvalidation-auc:0.885012\n",
      "[450]\tvalidation-auc:0.88522\n",
      "[500]\tvalidation-auc:0.885497\n",
      "Stopping. Best iteration:\n",
      "[530]\tvalidation-auc:0.885551\n",
      "\n",
      "\n",
      "max_depth = 7, min_child_weight = 5:\n",
      "[0]\tvalidation-auc:0.837099\n",
      "Will train until validation-auc hasn't improved in 10 rounds.\n",
      "[50]\tvalidation-auc:0.874931\n",
      "[100]\tvalidation-auc:0.880144\n",
      "[150]\tvalidation-auc:0.88227\n",
      "[200]\tvalidation-auc:0.88323\n",
      "[250]\tvalidation-auc:0.883879\n",
      "[300]\tvalidation-auc:0.884317\n",
      "[350]\tvalidation-auc:0.884648\n",
      "Stopping. Best iteration:\n",
      "[358]\tvalidation-auc:0.884708\n",
      "\n",
      "\n"
     ]
    }
   ],
   "source": [
    "md1 = 6\n",
    "grid_2 = [(md1+i,mcw) for i in [-1,0,1] for mcw in [3,5]]\n",
    "validation_auc_2 = Counter()\n",
    "for md,mcw in grid_2:\n",
    "    print(\"max_depth = {0}, min_child_weight = {1}:\".format(md,mcw))\n",
    "    params = {'max_depth': md, 'eta': 0.05, 'min_child_weight': mcw, 'colsample_bytree': 0.8, \n",
    "              'subsample': 0.8, \n",
    "              'objective': 'binary:logistic', 'eval_metric': ['auc'],\n",
    "              'seed': 12345}\n",
    "    evals_result = {}\n",
    "    xgb_model = xgb.train(params = params, dtrain = dtrain_train, num_boost_round = int(5e3), evals = [(dtrain_val, 'validation')],\n",
    "                          early_stopping_rounds = 10,\n",
    "                          evals_result = evals_result,\n",
    "                          verbose_eval = 50)\n",
    "    validation_auc_2[(md,mcw)] = np.max(evals_result['validation']['auc'])\n",
    "    print(\"\")"
   ]
  },
  {
   "cell_type": "code",
   "execution_count": 20,
   "metadata": {},
   "outputs": [
    {
     "name": "stdout",
     "output_type": "stream",
     "text": [
      "((6, 5), 0.885584)\n",
      "((7, 3), 0.885551)\n",
      "((6, 3), 0.885396)\n",
      "((5, 5), 0.884908)\n",
      "((5, 3), 0.884807)\n",
      "((7, 5), 0.884708)\n"
     ]
    }
   ],
   "source": [
    "for t in validation_auc_2.most_common():\n",
    "    print(t)"
   ]
  },
  {
   "cell_type": "markdown",
   "metadata": {},
   "source": [
    "#### (3) Grid Search for colsample_by_tree"
   ]
  },
  {
   "cell_type": "code",
   "execution_count": 21,
   "metadata": {},
   "outputs": [
    {
     "name": "stdout",
     "output_type": "stream",
     "text": [
      "colsample_by_tree = 0.5:\n",
      "[0]\tvalidation-auc:0.797212\n",
      "Will train until validation-auc hasn't improved in 10 rounds.\n",
      "[50]\tvalidation-auc:0.872606\n",
      "[100]\tvalidation-auc:0.877996\n",
      "[150]\tvalidation-auc:0.880698\n",
      "[200]\tvalidation-auc:0.882016\n",
      "[250]\tvalidation-auc:0.882772\n",
      "[300]\tvalidation-auc:0.883306\n",
      "[350]\tvalidation-auc:0.883893\n",
      "[400]\tvalidation-auc:0.884238\n",
      "[450]\tvalidation-auc:0.884566\n",
      "[500]\tvalidation-auc:0.884815\n",
      "Stopping. Best iteration:\n",
      "[530]\tvalidation-auc:0.884938\n",
      "\n",
      "\n",
      "colsample_by_tree = 0.55:\n",
      "[0]\tvalidation-auc:0.798738\n",
      "Will train until validation-auc hasn't improved in 10 rounds.\n",
      "[50]\tvalidation-auc:0.87267\n",
      "[100]\tvalidation-auc:0.87833\n",
      "[150]\tvalidation-auc:0.88086\n",
      "[200]\tvalidation-auc:0.881995\n",
      "[250]\tvalidation-auc:0.882741\n",
      "[300]\tvalidation-auc:0.883263\n",
      "[350]\tvalidation-auc:0.883735\n",
      "[400]\tvalidation-auc:0.884092\n",
      "[450]\tvalidation-auc:0.884425\n",
      "[500]\tvalidation-auc:0.884692\n",
      "[550]\tvalidation-auc:0.884872\n",
      "[600]\tvalidation-auc:0.884993\n",
      "[650]\tvalidation-auc:0.885242\n",
      "Stopping. Best iteration:\n",
      "[662]\tvalidation-auc:0.885287\n",
      "\n",
      "\n",
      "colsample_by_tree = 0.6:\n",
      "[0]\tvalidation-auc:0.800551\n",
      "Will train until validation-auc hasn't improved in 10 rounds.\n",
      "[50]\tvalidation-auc:0.872808\n",
      "[100]\tvalidation-auc:0.878473\n",
      "[150]\tvalidation-auc:0.880889\n",
      "[200]\tvalidation-auc:0.882043\n",
      "[250]\tvalidation-auc:0.882845\n",
      "[300]\tvalidation-auc:0.883321\n",
      "[350]\tvalidation-auc:0.883775\n",
      "[400]\tvalidation-auc:0.884121\n",
      "[450]\tvalidation-auc:0.8844\n",
      "[500]\tvalidation-auc:0.884639\n",
      "[550]\tvalidation-auc:0.884837\n",
      "[600]\tvalidation-auc:0.884983\n",
      "Stopping. Best iteration:\n",
      "[609]\tvalidation-auc:0.885029\n",
      "\n",
      "\n",
      "colsample_by_tree = 0.65:\n",
      "[0]\tvalidation-auc:0.801582\n",
      "Will train until validation-auc hasn't improved in 10 rounds.\n",
      "[50]\tvalidation-auc:0.872428\n",
      "[100]\tvalidation-auc:0.878461\n",
      "[150]\tvalidation-auc:0.880852\n",
      "[200]\tvalidation-auc:0.881967\n",
      "[250]\tvalidation-auc:0.882829\n",
      "[300]\tvalidation-auc:0.883351\n",
      "[350]\tvalidation-auc:0.883802\n",
      "[400]\tvalidation-auc:0.884084\n",
      "[450]\tvalidation-auc:0.8844\n",
      "[500]\tvalidation-auc:0.884659\n",
      "[550]\tvalidation-auc:0.884827\n",
      "[600]\tvalidation-auc:0.884947\n",
      "[650]\tvalidation-auc:0.885183\n",
      "[700]\tvalidation-auc:0.885379\n",
      "Stopping. Best iteration:\n",
      "[701]\tvalidation-auc:0.885383\n",
      "\n",
      "\n",
      "colsample_by_tree = 0.7:\n",
      "[0]\tvalidation-auc:0.829241\n",
      "Will train until validation-auc hasn't improved in 10 rounds.\n",
      "[50]\tvalidation-auc:0.872014\n",
      "[100]\tvalidation-auc:0.878227\n",
      "[150]\tvalidation-auc:0.880696\n",
      "[200]\tvalidation-auc:0.881806\n",
      "[250]\tvalidation-auc:0.882627\n",
      "[300]\tvalidation-auc:0.883206\n",
      "[350]\tvalidation-auc:0.883648\n",
      "[400]\tvalidation-auc:0.883994\n",
      "[450]\tvalidation-auc:0.884331\n",
      "[500]\tvalidation-auc:0.884533\n",
      "[550]\tvalidation-auc:0.884693\n",
      "Stopping. Best iteration:\n",
      "[561]\tvalidation-auc:0.884714\n",
      "\n",
      "\n",
      "colsample_by_tree = 0.75:\n",
      "[0]\tvalidation-auc:0.829241\n",
      "Will train until validation-auc hasn't improved in 10 rounds.\n",
      "[50]\tvalidation-auc:0.872079\n",
      "[100]\tvalidation-auc:0.878117\n",
      "[150]\tvalidation-auc:0.880622\n",
      "[200]\tvalidation-auc:0.881805\n",
      "[250]\tvalidation-auc:0.882682\n",
      "[300]\tvalidation-auc:0.883235\n",
      "[350]\tvalidation-auc:0.883708\n",
      "[400]\tvalidation-auc:0.884037\n",
      "[450]\tvalidation-auc:0.884357\n",
      "[500]\tvalidation-auc:0.884627\n",
      "[550]\tvalidation-auc:0.884832\n",
      "Stopping. Best iteration:\n",
      "[555]\tvalidation-auc:0.884844\n",
      "\n",
      "\n",
      "colsample_by_tree = 0.8:\n",
      "[0]\tvalidation-auc:0.831455\n",
      "Will train until validation-auc hasn't improved in 10 rounds.\n",
      "[50]\tvalidation-auc:0.872008\n",
      "[100]\tvalidation-auc:0.878313\n",
      "[150]\tvalidation-auc:0.880801\n",
      "[200]\tvalidation-auc:0.881981\n",
      "[250]\tvalidation-auc:0.882785\n",
      "[300]\tvalidation-auc:0.883345\n",
      "[350]\tvalidation-auc:0.883747\n",
      "[400]\tvalidation-auc:0.884104\n",
      "[450]\tvalidation-auc:0.884395\n",
      "[500]\tvalidation-auc:0.884725\n",
      "[550]\tvalidation-auc:0.884838\n",
      "[600]\tvalidation-auc:0.884973\n",
      "[650]\tvalidation-auc:0.885231\n",
      "[700]\tvalidation-auc:0.885441\n",
      "[750]\tvalidation-auc:0.885567\n",
      "Stopping. Best iteration:\n",
      "[751]\tvalidation-auc:0.885584\n",
      "\n",
      "\n",
      "colsample_by_tree = 0.85:\n",
      "[0]\tvalidation-auc:0.831497\n",
      "Will train until validation-auc hasn't improved in 10 rounds.\n",
      "[50]\tvalidation-auc:0.871625\n",
      "[100]\tvalidation-auc:0.878021\n",
      "[150]\tvalidation-auc:0.880576\n",
      "[200]\tvalidation-auc:0.88175\n",
      "[250]\tvalidation-auc:0.882642\n",
      "[300]\tvalidation-auc:0.883226\n",
      "[350]\tvalidation-auc:0.883731\n",
      "[400]\tvalidation-auc:0.884047\n",
      "[450]\tvalidation-auc:0.884346\n",
      "[500]\tvalidation-auc:0.884606\n",
      "Stopping. Best iteration:\n",
      "[534]\tvalidation-auc:0.884767\n",
      "\n",
      "\n",
      "colsample_by_tree = 0.9:\n",
      "[0]\tvalidation-auc:0.835366\n",
      "Will train until validation-auc hasn't improved in 10 rounds.\n",
      "[50]\tvalidation-auc:0.871753\n",
      "[100]\tvalidation-auc:0.878093\n",
      "[150]\tvalidation-auc:0.880709\n",
      "[200]\tvalidation-auc:0.881914\n",
      "[250]\tvalidation-auc:0.882836\n",
      "[300]\tvalidation-auc:0.883418\n",
      "[350]\tvalidation-auc:0.883879\n",
      "[400]\tvalidation-auc:0.88423\n",
      "[450]\tvalidation-auc:0.884575\n",
      "[500]\tvalidation-auc:0.884903\n",
      "[550]\tvalidation-auc:0.885028\n",
      "Stopping. Best iteration:\n",
      "[553]\tvalidation-auc:0.885056\n",
      "\n",
      "\n"
     ]
    }
   ],
   "source": [
    "grid_3 = [0.5, 0.55, 0.6, 0.65, 0.7, 0.75, 0.8, 0.85, 0.9]\n",
    "validation_auc_3 = Counter()\n",
    "for cbt in grid_3:\n",
    "    print(\"colsample_by_tree = {}:\".format(cbt))\n",
    "    params = {'max_depth': 6, 'eta': 0.05, 'min_child_weight': 5, 'colsample_bytree': cbt, \n",
    "              'subsample': 0.8, \n",
    "              'objective': 'binary:logistic', 'eval_metric': ['auc'],\n",
    "              'seed': 12345}\n",
    "    evals_result = {}\n",
    "    xgb_model = xgb.train(params = params, dtrain = dtrain_train, num_boost_round = int(5e3), evals = [(dtrain_val, 'validation')],\n",
    "                          early_stopping_rounds = 10,\n",
    "                          evals_result = evals_result,\n",
    "                          verbose_eval = 50)\n",
    "    validation_auc_3[cbt] = np.max(evals_result['validation']['auc'])\n",
    "    print(\"\")"
   ]
  },
  {
   "cell_type": "code",
   "execution_count": 22,
   "metadata": {},
   "outputs": [
    {
     "data": {
      "text/plain": [
       "[(0.8, 0.885584),\n",
       " (0.65, 0.885383),\n",
       " (0.55, 0.885287),\n",
       " (0.9, 0.885056),\n",
       " (0.6, 0.885029),\n",
       " (0.5, 0.884938),\n",
       " (0.75, 0.884844),\n",
       " (0.85, 0.884767),\n",
       " (0.7, 0.884714)]"
      ]
     },
     "execution_count": 22,
     "metadata": {},
     "output_type": "execute_result"
    }
   ],
   "source": [
    "validation_auc_3.most_common()"
   ]
  },
  {
   "cell_type": "markdown",
   "metadata": {},
   "source": [
    "#### (4) Finally select the opitmal num_boost_round"
   ]
  },
  {
   "cell_type": "code",
   "execution_count": 23,
   "metadata": {},
   "outputs": [
    {
     "name": "stdout",
     "output_type": "stream",
     "text": [
      "[0]\tvalidation-auc:0.831455\n",
      "Will train until validation-auc hasn't improved in 10 rounds.\n",
      "[50]\tvalidation-auc:0.872008\n",
      "[100]\tvalidation-auc:0.878313\n",
      "[150]\tvalidation-auc:0.880801\n",
      "[200]\tvalidation-auc:0.881981\n",
      "[250]\tvalidation-auc:0.882785\n",
      "[300]\tvalidation-auc:0.883345\n",
      "[350]\tvalidation-auc:0.883747\n",
      "[400]\tvalidation-auc:0.884104\n",
      "[450]\tvalidation-auc:0.884395\n",
      "[500]\tvalidation-auc:0.884725\n",
      "[550]\tvalidation-auc:0.884838\n",
      "[600]\tvalidation-auc:0.884973\n",
      "[650]\tvalidation-auc:0.885231\n",
      "[700]\tvalidation-auc:0.885441\n",
      "[750]\tvalidation-auc:0.885567\n",
      "Stopping. Best iteration:\n",
      "[751]\tvalidation-auc:0.885584\n",
      "\n",
      "\n",
      "751\n"
     ]
    }
   ],
   "source": [
    "params = {'max_depth': 6, 'eta': 0.05, 'min_child_weight': 5, 'colsample_bytree': 0.8, \n",
    "          'subsample': 0.8, \n",
    "          'objective': 'binary:logistic', 'eval_metric': ['auc'],\n",
    "          'seed': 12345}\n",
    "evals_result = {}\n",
    "xgb_model = xgb.train(params = params, dtrain = dtrain_train, num_boost_round = int(5e3), evals = [(dtrain_val, 'validation')],\n",
    "                      early_stopping_rounds = 10,\n",
    "                      evals_result = evals_result,\n",
    "                      verbose_eval = 50)\n",
    "optimal_num_boost_round = np.argmax(evals_result['validation']['auc'])\n",
    "print(\"\")\n",
    "print(optimal_num_boost_round)"
   ]
  },
  {
   "cell_type": "markdown",
   "metadata": {},
   "source": [
    "#### (5) Train the final xgb model and make predictions for observations in the test set"
   ]
  },
  {
   "cell_type": "code",
   "execution_count": 13,
   "metadata": {
    "collapsed": true
   },
   "outputs": [],
   "source": [
    "optimal_num_boost_round = 751"
   ]
  },
  {
   "cell_type": "code",
   "execution_count": 14,
   "metadata": {
    "collapsed": true
   },
   "outputs": [],
   "source": [
    "# specify parameters via map\n",
    "params = {'max_depth': 6, 'eta': 0.05, 'min_child_weight': 5, 'colsample_bytree': 0.8, \n",
    "          'subsample': 0.8, \n",
    "          'objective': 'binary:logistic', 'eval_metric': ['auc'],\n",
    "          'seed': 12345}\n",
    "final_xgb_model = xgb.train(params = params, dtrain = dtrain, num_boost_round = optimal_num_boost_round)\n",
    "# make prediction for observations in the test set\n",
    "y_test_pred = final_xgb_model.predict(dtest)"
   ]
  },
  {
   "cell_type": "code",
   "execution_count": 15,
   "metadata": {},
   "outputs": [
    {
     "name": "stdout",
     "output_type": "stream",
     "text": [
      "XGBoost:\n",
      "AUC = 0.8906\n"
     ]
    }
   ],
   "source": [
    "print(\"XGBoost:\")\n",
    "print(\"AUC = {}\".format(round(roc_auc_score(dtest.get_label(), y_test_pred), 4)))"
   ]
  },
  {
   "cell_type": "code",
   "execution_count": 16,
   "metadata": {
    "collapsed": true
   },
   "outputs": [],
   "source": [
    "# save the model object and predicted scores on the validation sample to local disk\n",
    "# pickle.dump(final_xgb_model, open(results_dir + \"/xgb.p\", \"wb\"))\n",
    "pickle.dump(list(y_test_pred), open(results_dir + \"/y_test_pred_xgb.p\", \"wb\"))"
   ]
  },
  {
   "cell_type": "code",
   "execution_count": 17,
   "metadata": {
    "collapsed": true
   },
   "outputs": [],
   "source": [
    "feature_importance = pd.DataFrame(list(final_xgb_model.get_fscore().items()), columns=['feature','importance']).sort_values('importance', ascending=False)\n",
    "feature_importance.loc[:, 'importance'] = feature_importance.loc[:, 'importance'] / sum(feature_importance.loc[:, 'importance'])\n",
    "yy = feature_importance.loc[:, 'importance'].iloc[:20]\n",
    "xx = feature_importance.loc[:, 'feature'].iloc[:20]"
   ]
  },
  {
   "cell_type": "code",
   "execution_count": 19,
   "metadata": {},
   "outputs": [
    {
     "data": {
      "image/png": "[encoded data removed]",
      "text/plain": [
       "<Figure size 864x648 with 1 Axes>"
      ]
     },
     "metadata": {},
     "output_type": "display_data"
    }
   ],
   "source": [
    "fig = plt.figure(figsize=(12,9))\n",
    "plt.bar(list(range(20)), yy, width=0.75, color = \"orange\")\n",
    "plt.xticks(list(range(20)), xx, rotation = 'vertical', fontsize=14)\n",
    "plt.yticks(fontsize=14)\n",
    "plt.xlabel(\"Predictor\", fontsize=16, color=\"gray\")\n",
    "plt.ylabel(\"Feature Importance\", fontsize=16, color=\"gray\")\n",
    "plt.savefig(results_dir + \"XGBoost_variable_importance.png\")\n",
    "plt.show()"
   ]
  },
  {
   "cell_type": "code",
   "execution_count": 20,
   "metadata": {
    "collapsed": true
   },
   "outputs": [],
   "source": [
    "def find_optimal_threshold(p,r,t):\n",
    "    to_drop = np.union1d(np.where(pd.isnull(p[:-1]) == True)[0], np.where(pd.isnull(r[:-1]) == True)[0])\n",
    "    to_drop = np.union1d(to_drop, np.where(pd.isnull(t) == True)[0])\n",
    "    to_keep = np.setdiff1d(np.array(list(range(len(p)-1))), to_drop)\n",
    "    p,r,t = p[to_keep],r[to_keep],t[to_keep]\n",
    "    f1 = 2*p*r/(p+r)\n",
    "    best_t = t[np.argmax(f1)]\n",
    "    best_t\n",
    "    return best_t\n",
    "\n",
    "def cross_validation(train, xgb_params, nbr):\n",
    "    threshold_list = []\n",
    "    auc_list = []\n",
    "    k_fold =  StratifiedKFold(n_splits = 10, random_state = 12345, shuffle=True)\n",
    "    for train_indices, test_indices in k_fold.split(train, train.grad_6years):\n",
    "        train_part = train.iloc[train_indices,:]\n",
    "        test_part = train.iloc[test_indices,:]\n",
    "        train_part_new, test_part_new = impute(train_part, test_part)\n",
    "        X_1 = train_part_new.loc[:,predictors]\n",
    "        y_1 = train_part_new.grad_6years\n",
    "        X_2 = test_part_new.loc[:,predictors]\n",
    "        y_2 = test_part_new.grad_6years\n",
    "        dtrain_cv = xgb.DMatrix(X_1,y_1)\n",
    "        dtest_cv = xgb.DMatrix(X_2,y_2)\n",
    "        xgb_cv_model = xgb.train(params=xgb_params, dtrain=dtrain_cv, num_boost_round = nbr)\n",
    "        y_2_pred = xgb_cv_model.predict(dtest_cv)\n",
    "        p,r,t = precision_recall_curve(y_2, y_2_pred)\n",
    "        auc = roc_auc_score(y_2, y_2_pred)\n",
    "        threshold_list.append(find_optimal_threshold(p,r,t))\n",
    "        auc_list.append(auc)\n",
    "    print(np.mean(auc_list), np.std(auc_list, ddof=1))\n",
    "    return gmean(threshold_list)"
   ]
  },
  {
   "cell_type": "code",
   "execution_count": 21,
   "metadata": {},
   "outputs": [
    {
     "name": "stderr",
     "output_type": "stream",
     "text": [
      "C:\\Users\\ys8mz\\AppData\\Local\\Continuum\\Anaconda3\\lib\\site-packages\\pandas\\core\\indexing.py:543: SettingWithCopyWarning: \n",
      "A value is trying to be set on a copy of a slice from a DataFrame.\n",
      "Try using .loc[row_indexer,col_indexer] = value instead\n",
      "\n",
      "See the caveats in the documentation: http://pandas.pydata.org/pandas-docs/stable/indexing.html#indexing-view-versus-copy\n",
      "  self.obj[item] = s\n",
      "C:\\Users\\ys8mz\\AppData\\Local\\Continuum\\Anaconda3\\lib\\site-packages\\pandas\\core\\indexing.py:543: SettingWithCopyWarning: \n",
      "A value is trying to be set on a copy of a slice from a DataFrame.\n",
      "Try using .loc[row_indexer,col_indexer] = value instead\n",
      "\n",
      "See the caveats in the documentation: http://pandas.pydata.org/pandas-docs/stable/indexing.html#indexing-view-versus-copy\n",
      "  self.obj[item] = s\n",
      "C:\\Users\\ys8mz\\AppData\\Local\\Continuum\\Anaconda3\\lib\\site-packages\\pandas\\core\\indexing.py:543: SettingWithCopyWarning: \n",
      "A value is trying to be set on a copy of a slice from a DataFrame.\n",
      "Try using .loc[row_indexer,col_indexer] = value instead\n",
      "\n",
      "See the caveats in the documentation: http://pandas.pydata.org/pandas-docs/stable/indexing.html#indexing-view-versus-copy\n",
      "  self.obj[item] = s\n",
      "C:\\Users\\ys8mz\\AppData\\Local\\Continuum\\Anaconda3\\lib\\site-packages\\pandas\\core\\indexing.py:543: SettingWithCopyWarning: \n",
      "A value is trying to be set on a copy of a slice from a DataFrame.\n",
      "Try using .loc[row_indexer,col_indexer] = value instead\n",
      "\n",
      "See the caveats in the documentation: http://pandas.pydata.org/pandas-docs/stable/indexing.html#indexing-view-versus-copy\n",
      "  self.obj[item] = s\n",
      "C:\\Users\\ys8mz\\AppData\\Local\\Continuum\\Anaconda3\\lib\\site-packages\\pandas\\core\\indexing.py:543: SettingWithCopyWarning: \n",
      "A value is trying to be set on a copy of a slice from a DataFrame.\n",
      "Try using .loc[row_indexer,col_indexer] = value instead\n",
      "\n",
      "See the caveats in the documentation: http://pandas.pydata.org/pandas-docs/stable/indexing.html#indexing-view-versus-copy\n",
      "  self.obj[item] = s\n",
      "C:\\Users\\ys8mz\\AppData\\Local\\Continuum\\Anaconda3\\lib\\site-packages\\pandas\\core\\indexing.py:543: SettingWithCopyWarning: \n",
      "A value is trying to be set on a copy of a slice from a DataFrame.\n",
      "Try using .loc[row_indexer,col_indexer] = value instead\n",
      "\n",
      "See the caveats in the documentation: http://pandas.pydata.org/pandas-docs/stable/indexing.html#indexing-view-versus-copy\n",
      "  self.obj[item] = s\n",
      "C:\\Users\\ys8mz\\AppData\\Local\\Continuum\\Anaconda3\\lib\\site-packages\\pandas\\core\\indexing.py:543: SettingWithCopyWarning: \n",
      "A value is trying to be set on a copy of a slice from a DataFrame.\n",
      "Try using .loc[row_indexer,col_indexer] = value instead\n",
      "\n",
      "See the caveats in the documentation: http://pandas.pydata.org/pandas-docs/stable/indexing.html#indexing-view-versus-copy\n",
      "  self.obj[item] = s\n",
      "C:\\Users\\ys8mz\\AppData\\Local\\Continuum\\Anaconda3\\lib\\site-packages\\pandas\\core\\indexing.py:543: SettingWithCopyWarning: \n",
      "A value is trying to be set on a copy of a slice from a DataFrame.\n",
      "Try using .loc[row_indexer,col_indexer] = value instead\n",
      "\n",
      "See the caveats in the documentation: http://pandas.pydata.org/pandas-docs/stable/indexing.html#indexing-view-versus-copy\n",
      "  self.obj[item] = s\n",
      "C:\\Users\\ys8mz\\AppData\\Local\\Continuum\\Anaconda3\\lib\\site-packages\\pandas\\core\\indexing.py:543: SettingWithCopyWarning: \n",
      "A value is trying to be set on a copy of a slice from a DataFrame.\n",
      "Try using .loc[row_indexer,col_indexer] = value instead\n",
      "\n",
      "See the caveats in the documentation: http://pandas.pydata.org/pandas-docs/stable/indexing.html#indexing-view-versus-copy\n",
      "  self.obj[item] = s\n",
      "C:\\Users\\ys8mz\\AppData\\Local\\Continuum\\Anaconda3\\lib\\site-packages\\pandas\\core\\indexing.py:543: SettingWithCopyWarning: \n",
      "A value is trying to be set on a copy of a slice from a DataFrame.\n",
      "Try using .loc[row_indexer,col_indexer] = value instead\n",
      "\n",
      "See the caveats in the documentation: http://pandas.pydata.org/pandas-docs/stable/indexing.html#indexing-view-versus-copy\n",
      "  self.obj[item] = s\n"
     ]
    },
    {
     "name": "stdout",
     "output_type": "stream",
     "text": [
      "0.8876661880858725 0.0018623128424017507\n"
     ]
    }
   ],
   "source": [
    "final_params = {'max_depth': 6, 'eta': 0.05, 'min_child_weight': 5, 'colsample_bytree': 0.8, \n",
    "                'subsample': 0.8, \n",
    "                'objective': 'binary:logistic', 'eval_metric': ['auc'],\n",
    "                'seed': 12345}\n",
    "best_threshold = cross_validation(train_df, final_params, optimal_num_boost_round)"
   ]
  },
  {
   "cell_type": "code",
   "execution_count": 22,
   "metadata": {},
   "outputs": [
    {
     "data": {
      "text/plain": [
       "0.3610354"
      ]
     },
     "execution_count": 22,
     "metadata": {},
     "output_type": "execute_result"
    }
   ],
   "source": [
    "best_threshold"
   ]
  },
  {
   "cell_type": "code",
   "execution_count": 23,
   "metadata": {
    "collapsed": true
   },
   "outputs": [],
   "source": [
    "def create_confusion_matrix(y_test_pred, threshold, fname):\n",
    "    cm_arr = confusion_matrix(y_test, np.where(y_test_pred > threshold, 1, 0))\n",
    "    cm_df = pd.DataFrame(cm_arr, columns=['Pred_0','Pred_1'], index=['Real_0', 'Real_1'])\n",
    "    cm_df.loc[:,''] = cm_df.sum(axis=1)\n",
    "    cm_df.loc['',:] = cm_df.sum(axis=0)\n",
    "    print(cm_df)\n",
    "    print(\"\")\n",
    "    p1 = cm_df.iloc[1,1]/cm_df.iloc[2,1]\n",
    "    r1 = cm_df.iloc[1,1]/cm_df.iloc[1,2]\n",
    "    p0 = cm_df.iloc[0,0]/cm_df.iloc[2,0]\n",
    "    r0 = cm_df.iloc[0,0]/cm_df.iloc[0,2]    \n",
    "    print(\"F1 score = {}\".format(round(2*p1*r1/(p1+r1),4)))    \n",
    "    cm_df.to_csv(results_dir + fname + \".csv\")\n",
    "    return p1,r1,p0,r0,round(2*p1*r1/(p1+r1),4)"
   ]
  },
  {
   "cell_type": "code",
   "execution_count": 24,
   "metadata": {},
   "outputs": [
    {
     "name": "stdout",
     "output_type": "stream",
     "text": [
      "F1 threshold = 0.361:\n",
      "\n",
      "         Pred_0   Pred_1         \n",
      "Real_0  18023.0   3785.0  21808.0\n",
      "Real_1   2182.0   9125.0  11307.0\n",
      "        20205.0  12910.0  33115.0\n",
      "\n",
      "F1 score = 0.7536\n"
     ]
    }
   ],
   "source": [
    "print(\"F1 threshold = {}:\\n\".format(str(round(best_threshold,3))))\n",
    "pr_xgb = create_confusion_matrix(y_test_pred, best_threshold, \"XGBoost_cm1\")"
   ]
  },
  {
   "cell_type": "code",
   "execution_count": 25,
   "metadata": {},
   "outputs": [
    {
     "name": "stdout",
     "output_type": "stream",
     "text": [
      "Alternative threshold = 0.449:\n",
      "\n",
      "         Pred_0   Pred_1         \n",
      "Real_0  18938.0   2870.0  21808.0\n",
      "Real_1   2851.0   8456.0  11307.0\n",
      "        21789.0  11326.0  33115.0\n",
      "\n",
      "F1 score = 0.7472\n"
     ]
    }
   ],
   "source": [
    "num_of_0 = int(round((1-np.mean(train_df.grad_6years))*len(y_test)))\n",
    "y_test_pred_binary = np.ones(len(y_test))\n",
    "y_test_pred_binary[np.argsort(y_test_pred)[:num_of_0]] = 0\n",
    "alternative_threshold = y_test_pred[np.argsort(y_test_pred)[num_of_0]]\n",
    "print(\"Alternative threshold = {}:\\n\".format(str(round(alternative_threshold,3))))\n",
    "pr2_xgb = create_confusion_matrix(y_test_pred_binary, best_threshold, \"XGBoost_cm2\")"
   ]
  },
  {
   "cell_type": "code",
   "execution_count": 26,
   "metadata": {
    "collapsed": true
   },
   "outputs": [],
   "source": [
    "precision_recall_df = pd.DataFrame([(best_threshold,)+pr_xgb,(alternative_threshold,)+pr2_xgb]).round(4)\n",
    "precision_recall_df.index = ['F1','Same_Graduation_Rate']\n",
    "precision_recall_df.columns = ['threshold','precision_1','recall_1','precision_0','recall_0','f1_score']\n",
    "precision_recall_df.to_csv(results_dir + \"XGBoost_precision_recall.csv\", index=True)"
   ]
  },
  {
   "cell_type": "code",
   "execution_count": null,
   "metadata": {
    "collapsed": true
   },
   "outputs": [],
   "source": []
  },
  {
   "cell_type": "markdown",
   "metadata": {
    "collapsed": true
   },
   "source": [
    "#### Reorganize files of key evaluation metrics for the five truncated models: OLS, Logit, RF, XGBoost, CoxPH"
   ]
  },
  {
   "cell_type": "code",
   "execution_count": 29,
   "metadata": {
    "collapsed": true
   },
   "outputs": [],
   "source": [
    "# Extract all of the key evaluation metrics of the five truncated models that only include simple non-term-specific predictors,\n",
    "# which will be used to populate column (4) within the Appendix Table A1 of the paper, as well as to generate Figure A11,\n",
    "# Figure 1 and Figure 2\n",
    "cstat = [0.8539, 0.8513, 0.8643, 0.8841, 0.8906]\n",
    "m_dict = {'Logit': 'LR1', 'OLS': 'OLS',\n",
    "          'RF': 'RF', 'XGBoost': 'XGBoost',\n",
    "          'CoxPH': 'Cox'}\n",
    "m_list = ['Logit', 'OLS', 'CoxPH', 'RF', 'XGBoost']\n",
    "summary = []\n",
    "for c,m in zip(cstat,m_list):\n",
    "    summary.append((m,c)+tuple(pd.read_csv(results_dir + \"\\\\{}_precision_recall.csv\".format(m_dict[m])).iloc[0,1:]))\n",
    "summary_df = pd.DataFrame(summary, columns=['model','c-statistic','threshold','precision_1','recall_1',\n",
    "                                            'precision_0','recall_0','f1_score_1'])\n",
    "summary_df.loc[:,'f1_score_0'] = 2*summary_df.precision_0*summary_df.recall_0/(summary_df.precision_0+summary_df.recall_0)\n",
    "summary_df.loc[:,'f1_score_0'] = summary_df.loc[:,'f1_score_0'].apply(lambda x: round(x,4))\n",
    "summary_df.to_csv(results_dir + \"cleaned_results\\\\main_eval_metrics.csv\", index=False)"
   ]
  },
  {
   "cell_type": "code",
   "execution_count": null,
   "metadata": {
    "collapsed": true
   },
   "outputs": [],
   "source": []
  }
 ],
 "metadata": {
  "kernelspec": {
   "display_name": "Python 3",
   "language": "python",
   "name": "python3"
  },
  "language_info": {
   "codemirror_mode": {
    "name": "ipython",
    "version": 3
   },
   "file_extension": ".py",
   "mimetype": "text/x-python",
   "name": "python",
   "nbconvert_exporter": "python",
   "pygments_lexer": "ipython3",
   "version": "3.5.3"
  }
 },
 "nbformat": 4,
 "nbformat_minor": 2
}
